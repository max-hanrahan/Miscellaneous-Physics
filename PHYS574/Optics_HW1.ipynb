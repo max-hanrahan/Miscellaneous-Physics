{
 "cells": [
  {
   "cell_type": "markdown",
   "id": "02dbcb73",
   "metadata": {},
   "source": [
    "## #1: Review the _physics_ of Maxwell's equations:"
   ]
  },
  {
   "cell_type": "markdown",
   "id": "a9c56663",
   "metadata": {},
   "source": [
    "The first of these is\n",
    "### Gauss's law: \n",
    "$$\n",
    "\\begin{align*}\n",
    "\\mathbf \\nabla \\cdot \\mathbf E = \\rho / \\varepsilon_0 &\\iff \\oint \\mathbf E \\cdot d \\mathbf a = \\frac{q_{\\text{enclosed}}}{\\varepsilon_0}\n",
    "\\end{align*}\n",
    "$$\n",
    "the diveregence of the $\\mathbf{E}$ field is propotional to charge density of a region, or equivalently, that the surface integral of the electric field within a region is proportional to the enclosed charge. This arises from the Poisson equation:\n",
    "\n",
    "$$\n",
    "\\nabla^2 V = \\rho,\n",
    "$$\n",
    "\n",
    "or the Laplace equation in the $\\rho=0$ case. "
   ]
  },
  {
   "cell_type": "markdown",
   "id": "214550f3",
   "metadata": {},
   "source": [
    "The second equation is \n",
    "### Faraday's law:\n",
    "\n",
    "$$\n",
    "\\begin{align*}\n",
    "\\mathbf \\nabla \\times \\mathbf E = -\\frac{\\partial \\mathbf B}{\\partial t} &\\iff \\oint \\mathbf E \\cdot d \\mathbf l = -\\frac{\\partial \\Phi_{B}}{\\partial t} \\\\\n",
    "\\end{align*}\n",
    "$$"
   ]
  },
  {
   "cell_type": "markdown",
   "id": "fec8b2d6",
   "metadata": {},
   "source": [
    "In statics, this would be that $\\nabla \\times \\mathbf {E} = \\mathbf{0}$. Usually, I would interpret that sort of equation to mean that $\\mathbf {E}$ is an irrotational field, but that is not true in dynamics. In fact, we see that a curling $\\mathbf{E}$ field \"sources\" a time-dependent magnetic field $\\mathbf{B}$. This is equivalent to magnetic inductance, as we see in the integral form of this law. "
   ]
  },
  {
   "cell_type": "markdown",
   "id": "eae8d8d8",
   "metadata": {},
   "source": [
    "![7.21](fig.png)"
   ]
  },
  {
   "cell_type": "markdown",
   "id": "f05dba73",
   "metadata": {},
   "source": [
    "The above figure is from [Griffith's Introduction to Electrodynamics](https://www.cambridge.org/highereducation/books/introduction-to-electrodynamics/FD23E188E2BDCDB40199CFE3386EC08F#overview), and is an illustration of the three Faraday experiments:\n",
    "* (a): loop moves\n",
    "* (b): region with B-field moving\n",
    "* (c): source of changing B-field\n",
    "\n",
    "All these things are indicative of Faraday's key insight: **a changing B-field can source an E-field**. "
   ]
  },
  {
   "cell_type": "markdown",
   "id": "b1251fd0",
   "metadata": {},
   "source": [
    "The third of these equations is the easiest to intuit: \n",
    "$$\n",
    "\\nabla \\cdot \\mathbf B = \\mathbf 0\n",
    "$$\n",
    "### there are no magnetic monopoles.\n",
    "\n",
    "But with Valentine's Day coming up, I feel compelled to point out that an experiment reportedly detected [one magnetic monopole on Feb 14, 1982](https://www.nature.com/articles/429010a)... but it was likely an experimental error. \n",
    "\n",
    "Still, Dirac quantization posits that the charge quantization we see in the electron can be explained by the existence of even one magnetic monopole in the entire universe. So...maybe that was it? That was _the_ monopole? \n",
    "\n",
    "Yeah, yeah, I know, reproducability and all that. So no, there aren't magnetic monopoles. But [it's fun to entertain the hypothesis that they could exist](https://youtu.be/HHRkfB-ThzE?si=WxQSl6ZLLnOc_nu2).\n",
    "\n",
    "And finally, "
   ]
  },
  {
   "cell_type": "markdown",
   "id": "ce09a2e3",
   "metadata": {},
   "source": [
    "### Ampere's Law and Maxwell's correction"
   ]
  },
  {
   "cell_type": "markdown",
   "id": "d888b5c8",
   "metadata": {},
   "source": [
    "Ampere's Law was originally:\n",
    "\n",
    "$$\n",
    "\\begin{align*}\n",
    "\\mathbf \\nabla &\\times \\mathbf B = \\mu_0\\mathbf J\n",
    "\\end{align*}\n",
    "$$\n",
    "\n",
    "In Magneto*statics*, we think $\\nabla \\times \\mathbf B = \\mu_0 \\mathbf J$. Intuitively: the rotation of a magentic field is proportional to charge density. But we can see the problem with this:\n",
    "\n",
    "$$\n",
    "\\nabla \\cdot (\\nabla\\times \\mathbf B) = \\nabla \\cdot (\\mu_0 \\mathbf J) \\\\\n",
    "0 = \\mu_0 \\nabla \\cdot \\mathbf J\n",
    "$$\n",
    "\n",
    "but this contradicts the continuity equation: $\\nabla \\cdot \\mathbf J = -\\frac{\\partial \\rho}{\\partial t}$. You can also see the problem this way: Imagine a B-field circling a wire carrying current $\\mathbf I$:"
   ]
  },
  {
   "cell_type": "markdown",
   "id": "e9aec2da",
   "metadata": {},
   "source": [
    "Ampere's Law in differential form is \n",
    "\n",
    "$\\nabla \\times \\mathbf B = \\mu_0 \\mathbf J$\n",
    "\n",
    "Convert to integral form:\n",
    "\n",
    "$$\n",
    "\\int\\limits_\\text{Surf} \\left(\\nabla \\times \\mathbf B\\right) \\cdot d \\mathbf a = \\mu_0 \\int \\mathbf J \\cdot d\\mathbf a \\implies \\boxed{\\oint\\limits_\\text{path} \\mathbf B \\cdot d \\mathbf l = \\mu_0I_\\text{encl.}}\n",
    "$$ \n",
    "\n",
    "if $B$ is uniform, then $\\oint \\mathbf B \\cdot d \\mathbf l = B \\int dl = B(2\\pi r) = \\mu_0I$. \n",
    "\n",
    "But if we make an \"unwise choice\" for the Amperian loop, the math should still hold, right?\n",
    "\n",
    "![7.42.png](7.42.png)\n",
    "\n",
    "The above is Fig 7.42 in Griffiths, of such an Amperian loop. \n",
    "The loop includes half of a capacitor, so $\\mathbf B \\cdot d\\mathbf l = 0$ must have $I_\\text{encl} = 0$, so this can't be correct!\n",
    "The resolution to this contradiction has to do with \"displacement current\".\n",
    "\n",
    "$\\nabla \\times \\mathbf B = \\mu_0 \\mathbf J + \\mathbf J_d$, where $\\mathbf J_d$ is **current displacement** (it is a current/area). \n",
    "\n",
    "$$\n",
    "\\mathbf J_D = \\varepsilon_0 \\frac{\\partial \\mathbf E}{\\partial t}\n",
    "$$\n",
    "\n",
    "They point in the same direction. So we can think of it as\n",
    "\n",
    "$$\n",
    "\\nabla \\times \\mathbf B = \\mu_0 (\\mathbf J + \\mathbf J_D) \\\\\n",
    "\\text{or} \\,\\,\n",
    "\\boxed{\\nabla \\times \\mathbf B = \\mu_0 J + \\mu_0\\varepsilon_0\\frac{\\partial \\mathbf E}{\\partial t}}\n",
    "$$\n"
   ]
  },
  {
   "cell_type": "markdown",
   "id": "7b439d04",
   "metadata": {},
   "source": [
    "Intuitively, this means that **a changing $\\mathbf{E}$ field can source a $\\mathbf{B}$ field**, the converse of Faraday's law. "
   ]
  }
 ],
 "metadata": {
  "kernelspec": {
   "display_name": "Python 3 (ipykernel)",
   "language": "python",
   "name": "python3"
  },
  "language_info": {
   "codemirror_mode": {
    "name": "ipython",
    "version": 3
   },
   "file_extension": ".py",
   "mimetype": "text/x-python",
   "name": "python",
   "nbconvert_exporter": "python",
   "pygments_lexer": "ipython3",
   "version": "3.10.9"
  }
 },
 "nbformat": 4,
 "nbformat_minor": 5
}
