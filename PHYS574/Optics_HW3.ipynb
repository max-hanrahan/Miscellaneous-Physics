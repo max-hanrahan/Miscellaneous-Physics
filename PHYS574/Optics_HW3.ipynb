{
 "cells": [
  {
   "cell_type": "markdown",
   "id": "e62a6551",
   "metadata": {},
   "source": [
    "# #2c:"
   ]
  },
  {
   "cell_type": "code",
   "execution_count": 1,
   "id": "af7f56a3",
   "metadata": {},
   "outputs": [
    {
     "data": {
      "text/plain": [
       "2.5631031310892007"
      ]
     },
     "execution_count": 1,
     "metadata": {},
     "output_type": "execute_result"
    }
   ],
   "source": [
    "from scipy.stats import norm\n",
    "\n",
    "mean = 0 \n",
    "std_dev = 1\n",
    "\n",
    "cdf_val_1= 0.1\n",
    "cdf_val_2 = 0.9\n",
    "\n",
    "x1 = norm.ppf(0.1, loc=mean, scale=std_dev)\n",
    "x2 = norm.ppf(0.9, loc=mean, scale=std_dev)\n",
    "\n",
    "x2 - x1 # diameter"
   ]
  },
  {
   "cell_type": "markdown",
   "id": "3a17d423",
   "metadata": {},
   "source": [
    "The radius is therefore:"
   ]
  },
  {
   "cell_type": "code",
   "execution_count": 2,
   "id": "7f68519f",
   "metadata": {},
   "outputs": [
    {
     "data": {
      "text/plain": [
       "1.2815515655446004"
      ]
     },
     "execution_count": 2,
     "metadata": {},
     "output_type": "execute_result"
    }
   ],
   "source": [
    "(x2 - x1) / 2"
   ]
  },
  {
   "cell_type": "markdown",
   "id": "eb6c10c3",
   "metadata": {},
   "source": [
    "which is comparable to that FW1/FWeM ratio we found earlier of $\\approx 1.20$"
   ]
  },
  {
   "cell_type": "markdown",
   "id": "5052ce30",
   "metadata": {},
   "source": [
    "# 5: Final Presentation Abstract\n",
    "\n",
    "My lesson plan:\n",
    "\n",
    "* Open with a slide show/animation of light refracting in a raindrop, using the open-source python library [manim-slides](https://github.com/jeertmans/manim-slides).\n",
    "* Derive the famous 42$^\\circ$ refraction angle on the blackboard. \n",
    "* Interactive session: I ask the class to derive the refraction angle for the double-rainbow (spoiler alert: it's 51$^\\circ$). I'll come around to help. \n",
    "* After a few minutes, bring the class back for another animation of double-refraction, quickly going over the same math as before. "
   ]
  },
  {
   "cell_type": "code",
   "execution_count": null,
   "id": "1aa16e42",
   "metadata": {},
   "outputs": [],
   "source": []
  }
 ],
 "metadata": {
  "kernelspec": {
   "display_name": "Python 3 (ipykernel)",
   "language": "python",
   "name": "python3"
  },
  "language_info": {
   "codemirror_mode": {
    "name": "ipython",
    "version": 3
   },
   "file_extension": ".py",
   "mimetype": "text/x-python",
   "name": "python",
   "nbconvert_exporter": "python",
   "pygments_lexer": "ipython3",
   "version": "3.10.9"
  }
 },
 "nbformat": 4,
 "nbformat_minor": 5
}
