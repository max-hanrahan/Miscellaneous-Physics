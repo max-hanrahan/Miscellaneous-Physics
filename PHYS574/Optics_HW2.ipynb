{
 "cells": [
  {
   "cell_type": "markdown",
   "id": "a99a19b6",
   "metadata": {},
   "source": [
    "# #3a:\n",
    "\n",
    "## Show that ℎ(𝑥,𝑦,𝑧) indeed is a solution to the Paraxial wave equation:\n",
    "\n",
    "First, we define $h(x,y,z)$:"
   ]
  },
  {
   "cell_type": "code",
   "execution_count": 27,
   "id": "f46cc544",
   "metadata": {},
   "outputs": [],
   "source": [
    "from sympy import symbols, I, exp, simplify\n",
    "x, x_0, y, y_0, z, z_0, k, lam = symbols('x x_0 y y_0 z z_0 k lambda')\n",
    "h = I / (lam * (z - z_0)) * exp(-I * k * ((x - x_0)**2 + (y - y_0)**2)/ (2* (z-z_0)))"
   ]
  },
  {
   "cell_type": "code",
   "execution_count": 13,
   "id": "79056881",
   "metadata": {},
   "outputs": [
    {
     "data": {
      "text/latex": [
       "$\\displaystyle \\frac{i e^{- \\frac{i k \\left(\\left(x - x_{0}\\right)^{2} + \\left(y - y_{0}\\right)^{2}\\right)}{2 z - 2 z_{0}}}}{\\lambda \\left(z - z_{0}\\right)}$"
      ],
      "text/plain": [
       "I*exp(-I*k*((x - x_0)**2 + (y - y_0)**2)/(2*z - 2*z_0))/(lambda*(z - z_0))"
      ]
     },
     "execution_count": 13,
     "metadata": {},
     "output_type": "execute_result"
    }
   ],
   "source": [
    "h"
   ]
  },
  {
   "cell_type": "markdown",
   "id": "c5714a6d",
   "metadata": {},
   "source": [
    "Now differentiate $h$ once with respect to $x$..."
   ]
  },
  {
   "cell_type": "code",
   "execution_count": 18,
   "id": "58a062c2",
   "metadata": {},
   "outputs": [
    {
     "data": {
      "text/latex": [
       "$\\displaystyle \\frac{k \\left(2 x - 2 x_{0}\\right) e^{- \\frac{i k \\left(\\left(x - x_{0}\\right)^{2} + \\left(y - y_{0}\\right)^{2}\\right)}{2 z - 2 z_{0}}}}{\\lambda \\left(z - z_{0}\\right) \\left(2 z - 2 z_{0}\\right)}$"
      ],
      "text/plain": [
       "k*(2*x - 2*x_0)*exp(-I*k*((x - x_0)**2 + (y - y_0)**2)/(2*z - 2*z_0))/(lambda*(z - z_0)*(2*z - 2*z_0))"
      ]
     },
     "execution_count": 18,
     "metadata": {},
     "output_type": "execute_result"
    }
   ],
   "source": [
    "dhdx = h.diff(x)\n",
    "dhdx"
   ]
  },
  {
   "cell_type": "markdown",
   "id": "a69698bc",
   "metadata": {},
   "source": [
    "...twice with respect to $x$..."
   ]
  },
  {
   "cell_type": "code",
   "execution_count": 17,
   "id": "f3458084",
   "metadata": {},
   "outputs": [
    {
     "data": {
      "text/latex": [
       "$\\displaystyle - \\frac{i k^{2} \\left(2 x - 2 x_{0}\\right)^{2} e^{- \\frac{i k \\left(\\left(x - x_{0}\\right)^{2} + \\left(y - y_{0}\\right)^{2}\\right)}{2 z - 2 z_{0}}}}{\\lambda \\left(z - z_{0}\\right) \\left(2 z - 2 z_{0}\\right)^{2}} + \\frac{2 k e^{- \\frac{i k \\left(\\left(x - x_{0}\\right)^{2} + \\left(y - y_{0}\\right)^{2}\\right)}{2 z - 2 z_{0}}}}{\\lambda \\left(z - z_{0}\\right) \\left(2 z - 2 z_{0}\\right)}$"
      ],
      "text/plain": [
       "-I*k**2*(2*x - 2*x_0)**2*exp(-I*k*((x - x_0)**2 + (y - y_0)**2)/(2*z - 2*z_0))/(lambda*(z - z_0)*(2*z - 2*z_0)**2) + 2*k*exp(-I*k*((x - x_0)**2 + (y - y_0)**2)/(2*z - 2*z_0))/(lambda*(z - z_0)*(2*z - 2*z_0))"
      ]
     },
     "execution_count": 17,
     "metadata": {},
     "output_type": "execute_result"
    }
   ],
   "source": [
    "d2hdx2 = dhdx.diff(x)\n",
    "d2hdx2"
   ]
  },
  {
   "cell_type": "markdown",
   "id": "9755023a",
   "metadata": {},
   "source": [
    "...and similarly for $y$:"
   ]
  },
  {
   "cell_type": "code",
   "execution_count": 19,
   "id": "3824cb19",
   "metadata": {},
   "outputs": [
    {
     "data": {
      "text/latex": [
       "$\\displaystyle - \\frac{i k^{2} \\left(2 y - 2 y_{0}\\right)^{2} e^{- \\frac{i k \\left(\\left(x - x_{0}\\right)^{2} + \\left(y - y_{0}\\right)^{2}\\right)}{2 z - 2 z_{0}}}}{\\lambda \\left(z - z_{0}\\right) \\left(2 z - 2 z_{0}\\right)^{2}} + \\frac{2 k e^{- \\frac{i k \\left(\\left(x - x_{0}\\right)^{2} + \\left(y - y_{0}\\right)^{2}\\right)}{2 z - 2 z_{0}}}}{\\lambda \\left(z - z_{0}\\right) \\left(2 z - 2 z_{0}\\right)}$"
      ],
      "text/plain": [
       "-I*k**2*(2*y - 2*y_0)**2*exp(-I*k*((x - x_0)**2 + (y - y_0)**2)/(2*z - 2*z_0))/(lambda*(z - z_0)*(2*z - 2*z_0)**2) + 2*k*exp(-I*k*((x - x_0)**2 + (y - y_0)**2)/(2*z - 2*z_0))/(lambda*(z - z_0)*(2*z - 2*z_0))"
      ]
     },
     "execution_count": 19,
     "metadata": {},
     "output_type": "execute_result"
    }
   ],
   "source": [
    "dhdy = h.diff(y)\n",
    "d2hdy2 = dhdy.diff(y)\n",
    "d2hdy2"
   ]
  },
  {
   "cell_type": "markdown",
   "id": "e311e09a",
   "metadata": {},
   "source": [
    "We just need one partial derivative for $z$:"
   ]
  },
  {
   "cell_type": "code",
   "execution_count": 21,
   "id": "b28b24b9",
   "metadata": {},
   "outputs": [
    {
     "data": {
      "text/latex": [
       "$\\displaystyle - \\frac{2 k \\left(\\left(x - x_{0}\\right)^{2} + \\left(y - y_{0}\\right)^{2}\\right) e^{- \\frac{i k \\left(\\left(x - x_{0}\\right)^{2} + \\left(y - y_{0}\\right)^{2}\\right)}{2 z - 2 z_{0}}}}{\\lambda \\left(z - z_{0}\\right) \\left(2 z - 2 z_{0}\\right)^{2}} - \\frac{i e^{- \\frac{i k \\left(\\left(x - x_{0}\\right)^{2} + \\left(y - y_{0}\\right)^{2}\\right)}{2 z - 2 z_{0}}}}{\\lambda \\left(z - z_{0}\\right)^{2}}$"
      ],
      "text/plain": [
       "-2*k*((x - x_0)**2 + (y - y_0)**2)*exp(-I*k*((x - x_0)**2 + (y - y_0)**2)/(2*z - 2*z_0))/(lambda*(z - z_0)*(2*z - 2*z_0)**2) - I*exp(-I*k*((x - x_0)**2 + (y - y_0)**2)/(2*z - 2*z_0))/(lambda*(z - z_0)**2)"
      ]
     },
     "execution_count": 21,
     "metadata": {},
     "output_type": "execute_result"
    }
   ],
   "source": [
    "dhdz = h.diff(z)\n",
    "dhdz"
   ]
  },
  {
   "cell_type": "markdown",
   "id": "c22848b8",
   "metadata": {},
   "source": [
    "Now we add:"
   ]
  },
  {
   "cell_type": "code",
   "execution_count": 29,
   "id": "2e6db95f",
   "metadata": {},
   "outputs": [
    {
     "data": {
      "text/latex": [
       "$\\displaystyle - \\frac{i k^{2} \\left(2 x - 2 x_{0}\\right)^{2} e^{- \\frac{i k \\left(\\left(x - x_{0}\\right)^{2} + \\left(y - y_{0}\\right)^{2}\\right)}{2 z - 2 z_{0}}}}{\\lambda \\left(z - z_{0}\\right) \\left(2 z - 2 z_{0}\\right)^{2}} - \\frac{i k^{2} \\left(2 y - 2 y_{0}\\right)^{2} e^{- \\frac{i k \\left(\\left(x - x_{0}\\right)^{2} + \\left(y - y_{0}\\right)^{2}\\right)}{2 z - 2 z_{0}}}}{\\lambda \\left(z - z_{0}\\right) \\left(2 z - 2 z_{0}\\right)^{2}} - 2 i k \\left(- \\frac{2 k \\left(\\left(x - x_{0}\\right)^{2} + \\left(y - y_{0}\\right)^{2}\\right) e^{- \\frac{i k \\left(\\left(x - x_{0}\\right)^{2} + \\left(y - y_{0}\\right)^{2}\\right)}{2 z - 2 z_{0}}}}{\\lambda \\left(z - z_{0}\\right) \\left(2 z - 2 z_{0}\\right)^{2}} - \\frac{i e^{- \\frac{i k \\left(\\left(x - x_{0}\\right)^{2} + \\left(y - y_{0}\\right)^{2}\\right)}{2 z - 2 z_{0}}}}{\\lambda \\left(z - z_{0}\\right)^{2}}\\right) + \\frac{4 k e^{- \\frac{i k \\left(\\left(x - x_{0}\\right)^{2} + \\left(y - y_{0}\\right)^{2}\\right)}{2 z - 2 z_{0}}}}{\\lambda \\left(z - z_{0}\\right) \\left(2 z - 2 z_{0}\\right)}$"
      ],
      "text/plain": [
       "-I*k**2*(2*x - 2*x_0)**2*exp(-I*k*((x - x_0)**2 + (y - y_0)**2)/(2*z - 2*z_0))/(lambda*(z - z_0)*(2*z - 2*z_0)**2) - I*k**2*(2*y - 2*y_0)**2*exp(-I*k*((x - x_0)**2 + (y - y_0)**2)/(2*z - 2*z_0))/(lambda*(z - z_0)*(2*z - 2*z_0)**2) - 2*I*k*(-2*k*((x - x_0)**2 + (y - y_0)**2)*exp(-I*k*((x - x_0)**2 + (y - y_0)**2)/(2*z - 2*z_0))/(lambda*(z - z_0)*(2*z - 2*z_0)**2) - I*exp(-I*k*((x - x_0)**2 + (y - y_0)**2)/(2*z - 2*z_0))/(lambda*(z - z_0)**2)) + 4*k*exp(-I*k*((x - x_0)**2 + (y - y_0)**2)/(2*z - 2*z_0))/(lambda*(z - z_0)*(2*z - 2*z_0))"
      ]
     },
     "execution_count": 29,
     "metadata": {},
     "output_type": "execute_result"
    }
   ],
   "source": [
    "result = d2hdx2 + d2hdy2 - 2*I*k *dhdz\n",
    "result"
   ]
  },
  {
   "cell_type": "code",
   "execution_count": 30,
   "id": "dbe59485",
   "metadata": {},
   "outputs": [
    {
     "data": {
      "text/latex": [
       "$\\displaystyle 0$"
      ],
      "text/plain": [
       "0"
      ]
     },
     "execution_count": 30,
     "metadata": {},
     "output_type": "execute_result"
    }
   ],
   "source": [
    "simplify(result)"
   ]
  },
  {
   "cell_type": "markdown",
   "id": "45875a83",
   "metadata": {},
   "source": [
    "as desired."
   ]
  },
  {
   "cell_type": "markdown",
   "id": "7d4d6f14",
   "metadata": {},
   "source": [
    "# #5: Teaching Topic Prep:\n",
    "\n",
    "Rainbows it is! In particular, I want to give the class a derivation for why light always travels $42^\\circ$ inside of a raindrop. \n",
    "\n",
    "I will shamelessly promote [my own video](https://youtu.be/P182GqEyXf8?si=qzpeb7drM26y1D1R), which is of course a useful reference. But it goes without saying that I won't re-do the derivation presented here! For one thing, there were certainly a few minor mistakes in that video, and more importantly, I hope to improve on the clarity and presentation of this result, rather than copy something I've already done. I hope as well to build upon the visual tools I used here to make the animations come to life, and create a more memorable experience for the students. \n",
    "\n",
    "Here are some further references:\n",
    "\n",
    "* Harvard lecture notes on [rainbow and secondary rainbow formation](https://www.youtube.com/watch?v=P182GqEyXf8&t=45s)\n",
    "* [Similar derivation](https://www.youtube.com/watch?v=OXDbc7QfTXU&t=0s) from Prof. Mike Merrifield at the University of Nottingham  \n",
    "* [\"The Science of Rainbows\"](https://www.youtube.com/watch?v=5pYnC-ONdXQ&t=0s) from PBS's *It's Okay to be Smart*\n",
    "* [\"How Rainbows Form\"](https://www.youtube.com/watch?v=xkDhQGXqwCM&t=0s) from Dianna Cowern, AKA Physics Girl. "
   ]
  },
  {
   "cell_type": "code",
   "execution_count": null,
   "id": "097220f8",
   "metadata": {},
   "outputs": [],
   "source": []
  }
 ],
 "metadata": {
  "kernelspec": {
   "display_name": "Python 3 (ipykernel)",
   "language": "python",
   "name": "python3"
  },
  "language_info": {
   "codemirror_mode": {
    "name": "ipython",
    "version": 3
   },
   "file_extension": ".py",
   "mimetype": "text/x-python",
   "name": "python",
   "nbconvert_exporter": "python",
   "pygments_lexer": "ipython3",
   "version": "3.10.9"
  }
 },
 "nbformat": 4,
 "nbformat_minor": 5
}
