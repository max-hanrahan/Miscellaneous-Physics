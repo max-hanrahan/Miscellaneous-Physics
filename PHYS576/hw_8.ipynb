{
 "cells": [
  {
   "cell_type": "markdown",
   "id": "e5a7b347",
   "metadata": {},
   "source": [
    "# Advanced Topics: HW 8"
   ]
  },
  {
   "cell_type": "markdown",
   "id": "a8fb4855",
   "metadata": {},
   "source": [
    "## Max Hanrahan"
   ]
  },
  {
   "cell_type": "markdown",
   "id": "9387e8e2",
   "metadata": {},
   "source": [
    "## Problem 1. "
   ]
  },
  {
   "cell_type": "markdown",
   "id": "6d814fb3",
   "metadata": {},
   "source": [
    "For TM polarization, the transfer matrix is given by 9.39:\n",
    "\n",
    "$$\n",
    "M_{12} = \\left[\\begin{matrix}0.5 + \\frac{0.5 \\epsilon_{2} k_{1z}}{\\epsilon_{1} k_{2z}} & 0.5 - \\frac{0.5 \\epsilon_{2} k_{1z}}{\\epsilon_{1} k_{2z}}\\\\0.5 - \\frac{0.5 \\epsilon_{2} k_{1z}}{\\epsilon_{1} k_{2z}} & 0.5 + \\frac{0.5 \\epsilon_{2} k_{1z}}{\\epsilon_{1} k_{2z}}\\end{matrix}\\right]\n",
    "$$\n",
    "and similary, for the other medium:\n",
    "$$\n",
    "M_{23} = \\left[\\begin{matrix}0.5 + \\frac{0.5 \\epsilon_{3} k_{2z}}{\\epsilon_{2} k_{3z}} & 0.5 - \\frac{0.5 \\epsilon_{3} k_{2z}}{\\epsilon_{2} k_{3z}}\\\\0.5 - \\frac{0.5 \\epsilon_{3} k_{2z}}{\\epsilon_{2} k_{3z}} & 0.5 + \\frac{0.5 \\epsilon_{3} k_{2z}}{\\epsilon_{2} k_{3z}}\\end{matrix}\\right]\n",
    "$$\n",
    "\n",
    "and our TM waves obey the following:\n",
    "\n",
    "$$\n",
    "\\left(\\begin{matrix} H_3^+ \\\\ H_3^-\n",
    "\\end{matrix}\\right)= \\underbrace{M_{12} \\left[\\begin{matrix}e^{i k_{2z} l} & 0\\\\0 & e^{- i k_{2z} l}\\end{matrix}\\right] M_{23}}_{M_P}\\left(\\begin{matrix} H_1^+ \\\\ H_1^-\n",
    "\\end{matrix}\\right)\n",
    "$$"
   ]
  },
  {
   "cell_type": "code",
   "execution_count": 1,
   "id": "ed5e1bce",
   "metadata": {},
   "outputs": [],
   "source": [
    "from sympy import symbols, Matrix, exp, I, simplify, det, latex, pprint\n",
    "\n",
    "# Define symbols\n",
    "eps_1, eps_2, eps_3 = symbols('epsilon_1 epsilon_2 epsilon_3')\n",
    "k_1z, k_2z, k_3z, l = symbols('k_{1z} k_{2z} k_{3z} l')\n",
    "\n",
    "ratio = (eps_2 / eps_1 ) * (k_1z / k_2z)\n",
    "M_12 = (1/2) * Matrix([[1+ ratio, 1-ratio], [1-ratio, 1+ratio]])\n"
   ]
  },
  {
   "cell_type": "code",
   "execution_count": 2,
   "id": "7b31ec37",
   "metadata": {},
   "outputs": [],
   "source": [
    "M_23 = M_12.subs({eps_2: eps_3, k_2z: k_3z})\n",
    "M_23 = M_23.subs({eps_1: eps_2, k_1z: k_2z})"
   ]
  },
  {
   "cell_type": "code",
   "execution_count": 3,
   "id": "f4b61f25",
   "metadata": {},
   "outputs": [],
   "source": [
    "e_matrix = Matrix([[exp(I*k_2z* l), 0], [0, exp(-I*k_2z* l)]])"
   ]
  },
  {
   "cell_type": "markdown",
   "id": "7cb6d664",
   "metadata": {},
   "source": [
    " ### Now we have three matrices, and they look like this:"
   ]
  },
  {
   "cell_type": "code",
   "execution_count": 4,
   "id": "8b072616",
   "metadata": {},
   "outputs": [
    {
     "data": {
      "text/latex": [
       "$\\displaystyle \\left[\\begin{matrix}0.5 + \\frac{0.5 \\epsilon_{2} k_{1z}}{\\epsilon_{1} k_{2z}} & 0.5 - \\frac{0.5 \\epsilon_{2} k_{1z}}{\\epsilon_{1} k_{2z}}\\\\0.5 - \\frac{0.5 \\epsilon_{2} k_{1z}}{\\epsilon_{1} k_{2z}} & 0.5 + \\frac{0.5 \\epsilon_{2} k_{1z}}{\\epsilon_{1} k_{2z}}\\end{matrix}\\right]$"
      ],
      "text/plain": [
       "Matrix([\n",
       "[0.5 + 0.5*epsilon_2*k_{1z}/(epsilon_1*k_{2z}), 0.5 - 0.5*epsilon_2*k_{1z}/(epsilon_1*k_{2z})],\n",
       "[0.5 - 0.5*epsilon_2*k_{1z}/(epsilon_1*k_{2z}), 0.5 + 0.5*epsilon_2*k_{1z}/(epsilon_1*k_{2z})]])"
      ]
     },
     "execution_count": 4,
     "metadata": {},
     "output_type": "execute_result"
    }
   ],
   "source": [
    "M_12"
   ]
  },
  {
   "cell_type": "code",
   "execution_count": 5,
   "id": "31cea816",
   "metadata": {},
   "outputs": [
    {
     "data": {
      "text/latex": [
       "$\\displaystyle \\left[\\begin{matrix}e^{i k_{2z} l} & 0\\\\0 & e^{- i k_{2z} l}\\end{matrix}\\right]$"
      ],
      "text/plain": [
       "Matrix([\n",
       "[exp(I*k_{2z}*l),                0],\n",
       "[              0, exp(-I*k_{2z}*l)]])"
      ]
     },
     "execution_count": 5,
     "metadata": {},
     "output_type": "execute_result"
    }
   ],
   "source": [
    "e_matrix"
   ]
  },
  {
   "cell_type": "code",
   "execution_count": 6,
   "id": "917c7f33",
   "metadata": {},
   "outputs": [
    {
     "data": {
      "text/latex": [
       "$\\displaystyle \\left[\\begin{matrix}0.5 + \\frac{0.5 \\epsilon_{3} k_{2z}}{\\epsilon_{2} k_{3z}} & 0.5 - \\frac{0.5 \\epsilon_{3} k_{2z}}{\\epsilon_{2} k_{3z}}\\\\0.5 - \\frac{0.5 \\epsilon_{3} k_{2z}}{\\epsilon_{2} k_{3z}} & 0.5 + \\frac{0.5 \\epsilon_{3} k_{2z}}{\\epsilon_{2} k_{3z}}\\end{matrix}\\right]$"
      ],
      "text/plain": [
       "Matrix([\n",
       "[0.5 + 0.5*epsilon_3*k_{2z}/(epsilon_2*k_{3z}), 0.5 - 0.5*epsilon_3*k_{2z}/(epsilon_2*k_{3z})],\n",
       "[0.5 - 0.5*epsilon_3*k_{2z}/(epsilon_2*k_{3z}), 0.5 + 0.5*epsilon_3*k_{2z}/(epsilon_2*k_{3z})]])"
      ]
     },
     "execution_count": 6,
     "metadata": {},
     "output_type": "execute_result"
    }
   ],
   "source": [
    "M_23"
   ]
  },
  {
   "cell_type": "markdown",
   "id": "1d37fadc",
   "metadata": {},
   "source": [
    "### So the next thing we need to calculate is:\n",
    "$$\n",
    "\\underbrace{M_{12} \\left[\\begin{matrix}e^{i k_{2z} l} & 0\\\\0 & e^{- i k_{2z} l}\\end{matrix}\\right] M_{23}}_{M_P}\n",
    "$$"
   ]
  },
  {
   "cell_type": "markdown",
   "id": "334101d4",
   "metadata": {},
   "source": [
    "because its elements can give us the reflectance and transmission amplitudes, and therefore reflectance and transmissions. "
   ]
  },
  {
   "cell_type": "code",
   "execution_count": 7,
   "id": "6d961b7e",
   "metadata": {},
   "outputs": [],
   "source": [
    "M_P = (M_12 * e_matrix * M_23)"
   ]
  },
  {
   "cell_type": "markdown",
   "id": "ff26221d",
   "metadata": {},
   "source": [
    "transmission amplitude:"
   ]
  },
  {
   "cell_type": "code",
   "execution_count": 8,
   "id": "9e86147f",
   "metadata": {},
   "outputs": [],
   "source": [
    "trans = det(M_P)/M_P[1,1]"
   ]
  },
  {
   "cell_type": "code",
   "execution_count": 9,
   "id": "1a8b7182",
   "metadata": {},
   "outputs": [
    {
     "data": {
      "text/latex": [
       "$\\displaystyle \\frac{4.0 \\epsilon_{2} \\epsilon_{3} k_{1z} k_{2z} e^{i k_{2z} l}}{\\left(\\epsilon_{1} k_{2z} - \\epsilon_{2} k_{1z}\\right) \\left(\\epsilon_{2} k_{3z} - \\epsilon_{3} k_{2z}\\right) e^{2 i k_{2z} l} + \\left(\\epsilon_{1} k_{2z} + \\epsilon_{2} k_{1z}\\right) \\left(\\epsilon_{2} k_{3z} + \\epsilon_{3} k_{2z}\\right)}$"
      ],
      "text/plain": [
       "4.0*epsilon_2*epsilon_3*k_{1z}*k_{2z}*exp(I*k_{2z}*l)/((epsilon_1*k_{2z} - epsilon_2*k_{1z})*(epsilon_2*k_{3z} - epsilon_3*k_{2z})*exp(2*I*k_{2z}*l) + (epsilon_1*k_{2z} + epsilon_2*k_{1z})*(epsilon_2*k_{3z} + epsilon_3*k_{2z}))"
      ]
     },
     "execution_count": 9,
     "metadata": {},
     "output_type": "execute_result"
    }
   ],
   "source": [
    "simplify(trans)"
   ]
  },
  {
   "cell_type": "markdown",
   "id": "fe318f83",
   "metadata": {},
   "source": [
    "reflection amplitude"
   ]
  },
  {
   "cell_type": "code",
   "execution_count": 10,
   "id": "0133e2d5",
   "metadata": {},
   "outputs": [],
   "source": [
    "ref = M_P[1,0]/ M_P[1,1]"
   ]
  },
  {
   "cell_type": "code",
   "execution_count": 11,
   "id": "9728a0f3",
   "metadata": {},
   "outputs": [
    {
     "data": {
      "text/latex": [
       "$\\displaystyle \\frac{1.0 \\left(\\left(\\epsilon_{1} k_{2z} - \\epsilon_{2} k_{1z}\\right) \\left(\\epsilon_{2} k_{3z} + \\epsilon_{3} k_{2z}\\right) e^{2 i k_{2z} l} + \\left(\\epsilon_{1} k_{2z} + \\epsilon_{2} k_{1z}\\right) \\left(\\epsilon_{2} k_{3z} - \\epsilon_{3} k_{2z}\\right)\\right)}{\\left(\\epsilon_{1} k_{2z} - \\epsilon_{2} k_{1z}\\right) \\left(\\epsilon_{2} k_{3z} - \\epsilon_{3} k_{2z}\\right) e^{2 i k_{2z} l} + \\left(\\epsilon_{1} k_{2z} + \\epsilon_{2} k_{1z}\\right) \\left(\\epsilon_{2} k_{3z} + \\epsilon_{3} k_{2z}\\right)}$"
      ],
      "text/plain": [
       "1.0*((epsilon_1*k_{2z} - epsilon_2*k_{1z})*(epsilon_2*k_{3z} + epsilon_3*k_{2z})*exp(2*I*k_{2z}*l) + (epsilon_1*k_{2z} + epsilon_2*k_{1z})*(epsilon_2*k_{3z} - epsilon_3*k_{2z}))/((epsilon_1*k_{2z} - epsilon_2*k_{1z})*(epsilon_2*k_{3z} - epsilon_3*k_{2z})*exp(2*I*k_{2z}*l) + (epsilon_1*k_{2z} + epsilon_2*k_{1z})*(epsilon_2*k_{3z} + epsilon_3*k_{2z}))"
      ]
     },
     "execution_count": 11,
     "metadata": {},
     "output_type": "execute_result"
    }
   ],
   "source": [
    "simplify(ref)"
   ]
  },
  {
   "cell_type": "markdown",
   "id": "df049f02",
   "metadata": {},
   "source": [
    "Now we just need the reflectance and transmittance.\n",
    "The reflectance is easy:"
   ]
  },
  {
   "cell_type": "code",
   "execution_count": 12,
   "id": "b5ba87f1",
   "metadata": {},
   "outputs": [],
   "source": [
    "R_s = ref**2"
   ]
  },
  {
   "cell_type": "code",
   "execution_count": 13,
   "id": "a3d9917f",
   "metadata": {},
   "outputs": [
    {
     "data": {
      "text/latex": [
       "$\\displaystyle \\frac{1.0 \\left(\\left(\\epsilon_{1} k_{2z} - \\epsilon_{2} k_{1z}\\right) \\left(\\epsilon_{2} k_{3z} + \\epsilon_{3} k_{2z}\\right) e^{2 i k_{2z} l} + \\left(\\epsilon_{1} k_{2z} + \\epsilon_{2} k_{1z}\\right) \\left(\\epsilon_{2} k_{3z} - \\epsilon_{3} k_{2z}\\right)\\right)^{2}}{\\left(\\left(\\epsilon_{1} k_{2z} - \\epsilon_{2} k_{1z}\\right) \\left(\\epsilon_{2} k_{3z} - \\epsilon_{3} k_{2z}\\right) e^{2 i k_{2z} l} + \\left(\\epsilon_{1} k_{2z} + \\epsilon_{2} k_{1z}\\right) \\left(\\epsilon_{2} k_{3z} + \\epsilon_{3} k_{2z}\\right)\\right)^{2}}$"
      ],
      "text/plain": [
       "1.0*((epsilon_1*k_{2z} - epsilon_2*k_{1z})*(epsilon_2*k_{3z} + epsilon_3*k_{2z})*exp(2*I*k_{2z}*l) + (epsilon_1*k_{2z} + epsilon_2*k_{1z})*(epsilon_2*k_{3z} - epsilon_3*k_{2z}))**2/((epsilon_1*k_{2z} - epsilon_2*k_{1z})*(epsilon_2*k_{3z} - epsilon_3*k_{2z})*exp(2*I*k_{2z}*l) + (epsilon_1*k_{2z} + epsilon_2*k_{1z})*(epsilon_2*k_{3z} + epsilon_3*k_{2z}))**2"
      ]
     },
     "execution_count": 13,
     "metadata": {},
     "output_type": "execute_result"
    }
   ],
   "source": [
    "simplify(R_s)"
   ]
  },
  {
   "cell_type": "markdown",
   "id": "dd2c8ac2",
   "metadata": {},
   "source": [
    "and we have from the book of Markos & Soukoulis that, by (9.29):\n",
    "\n",
    "$$\n",
    "\\boxed{T_S = \\frac{S_1}{S_3} = \\frac{\\epsilon_1}{\\epsilon_3} \\frac{\\Re(k_{3z})}{\\Re(k_{1z})}}\n",
    "$$"
   ]
  },
  {
   "cell_type": "markdown",
   "id": "eb7e9c81",
   "metadata": {},
   "source": [
    "# Problem 2. "
   ]
  },
  {
   "cell_type": "markdown",
   "id": "6b7b8b16",
   "metadata": {},
   "source": [
    "This I will do numerically instead of symbolically. "
   ]
  },
  {
   "cell_type": "code",
   "execution_count": 14,
   "id": "cf8c2c85",
   "metadata": {},
   "outputs": [
    {
     "data": {
      "text/plain": [
       "<matplotlib.legend.Legend at 0x7f9faf0de3e0>"
      ]
     },
     "execution_count": 14,
     "metadata": {},
     "output_type": "execute_result"
    },
    {
     "data": {
      "image/png": "[encoded data removed]",
      "text/plain": [
       "<Figure size 640x480 with 1 Axes>"
      ]
     },
     "metadata": {},
     "output_type": "display_data"
    }
   ],
   "source": [
    "#!/usr/bin/python\n",
    "\n",
    "import numpy as np\n",
    "import matplotlib.pyplot as plt\n",
    "\n",
    "eps_1 = 1\n",
    "eps_2 = 9\n",
    "l = 1\n",
    "kappa = 1\n",
    "\n",
    "def sol_1(x):\n",
    "    return (eps_2 / eps_1)*(kappa/x)\n",
    "def sol_2(x):\n",
    "    return -(eps_1 / eps_2) *(x/kappa)\n",
    "\n",
    "k_2z = np.linspace(0.01, 20)\n",
    "plt.plot(k_2z*l/2, np.tan(k_2z*l/2), label = r'$\\tan\\left(\\frac{k_{2z}l}{2}\\right)$')\n",
    "plt.plot(k_2z*l/2, sol_1(k_2z*l/2), label = r'$\\frac{\\epsilon_2}{\\epsilon_1} \\frac{\\kappa_1}{k_{2z}}$')\n",
    "plt.plot(k_2z*l/2, sol_2(k_2z*l/2), label = r'-$\\frac{\\epsilon_1}{\\epsilon_2} \\frac{k_{2z}}{\\kappa_1}$')\n",
    "plt.ylim(-25, 25)\n",
    "plt.xlim(0, 10)\n",
    "plt.xlabel(r\"$k_{2z} *l/2$\")\n",
    "plt.legend()"
   ]
  }
 ],
 "metadata": {
  "kernelspec": {
   "display_name": "Python 3 (ipykernel)",
   "language": "python",
   "name": "python3"
  },
  "language_info": {
   "codemirror_mode": {
    "name": "ipython",
    "version": 3
   },
   "file_extension": ".py",
   "mimetype": "text/x-python",
   "name": "python",
   "nbconvert_exporter": "python",
   "pygments_lexer": "ipython3",
   "version": "3.10.9"
  }
 },
 "nbformat": 4,
 "nbformat_minor": 5
}
