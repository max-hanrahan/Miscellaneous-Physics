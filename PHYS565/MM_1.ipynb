{
 "cells": [
  {
   "cell_type": "code",
   "execution_count": 1,
   "id": "9ed8ef60",
   "metadata": {},
   "outputs": [],
   "source": [
    "import numpy as np\n",
    "import sympy as sp\n",
    "import matplotlib.pyplot as plt"
   ]
  },
  {
   "cell_type": "markdown",
   "id": "c8c94d79",
   "metadata": {},
   "source": [
    "## 1a:"
   ]
  },
  {
   "cell_type": "code",
   "execution_count": 2,
   "id": "2607e1a0",
   "metadata": {},
   "outputs": [],
   "source": [
    "z = sp.exp(2+sp.I)"
   ]
  },
  {
   "cell_type": "code",
   "execution_count": 3,
   "id": "adc04d75",
   "metadata": {},
   "outputs": [],
   "source": [
    "# Extract real and imaginary parts\n",
    "u = sp.re(z)\n",
    "v = sp.im(z)\n",
    "\n",
    "# Display the result\n",
    "z = u + sp.I*v"
   ]
  },
  {
   "cell_type": "code",
   "execution_count": 4,
   "id": "0c01502b",
   "metadata": {},
   "outputs": [
    {
     "data": {
      "text/latex": [
       "$\\displaystyle e^{2} \\cos{\\left(1 \\right)} + i e^{2} \\sin{\\left(1 \\right)}$"
      ],
      "text/plain": [
       "exp(2)*cos(1) + I*exp(2)*sin(1)"
      ]
     },
     "execution_count": 4,
     "metadata": {},
     "output_type": "execute_result"
    }
   ],
   "source": [
    "z"
   ]
  },
  {
   "cell_type": "markdown",
   "id": "a22889a5",
   "metadata": {},
   "source": [
    "## 1b:"
   ]
  },
  {
   "cell_type": "code",
   "execution_count": 5,
   "id": "a1a08a9c",
   "metadata": {},
   "outputs": [],
   "source": [
    "z = sp.sin(1+sp.I)"
   ]
  },
  {
   "cell_type": "code",
   "execution_count": 6,
   "id": "ae39a5e9",
   "metadata": {},
   "outputs": [
    {
     "data": {
      "text/latex": [
       "$\\displaystyle \\sin{\\left(1 \\right)} \\cosh{\\left(1 \\right)} + i \\cos{\\left(1 \\right)} \\sinh{\\left(1 \\right)}$"
      ],
      "text/plain": [
       "sin(1)*cosh(1) + I*cos(1)*sinh(1)"
      ]
     },
     "execution_count": 6,
     "metadata": {},
     "output_type": "execute_result"
    }
   ],
   "source": [
    "# Extract real and imaginary parts\n",
    "u = sp.re(z)\n",
    "v = sp.im(z)\n",
    "\n",
    "# Display the result\n",
    "z = u + sp.I*v\n",
    "z"
   ]
  },
  {
   "cell_type": "markdown",
   "id": "573e8004",
   "metadata": {},
   "source": [
    "## 2a:"
   ]
  },
  {
   "cell_type": "code",
   "execution_count": 7,
   "id": "9a31c01d",
   "metadata": {},
   "outputs": [],
   "source": [
    "z = sp.symbols('z')\n",
    "equation = sp.Eq(z**2, 1 + sp.I)\n",
    "solutions = sp.solve(equation, z)\n"
   ]
  },
  {
   "cell_type": "code",
   "execution_count": 8,
   "id": "f945b669",
   "metadata": {},
   "outputs": [],
   "source": [
    "sol1, sol2 = solutions"
   ]
  },
  {
   "cell_type": "code",
   "execution_count": 9,
   "id": "ff458109",
   "metadata": {},
   "outputs": [
    {
     "data": {
      "text/plain": [
       "<module 'matplotlib.pyplot' from '/Users/Max/anaconda3/lib/python3.10/site-packages/matplotlib/pyplot.py'>"
      ]
     },
     "execution_count": 9,
     "metadata": {},
     "output_type": "execute_result"
    },
    {
     "data": {
      "image/png": "[encoded data removed]",
      "text/plain": [
       "<Figure size 640x480 with 1 Axes>"
      ]
     },
     "metadata": {},
     "output_type": "display_data"
    }
   ],
   "source": [
    "plt.axhline(0, color='black',linewidth=0.5)\n",
    "plt.axvline(0, color='black',linewidth=0.5)\n",
    "plt.ylim(-1, 1)\n",
    "plt.grid(color = 'gray', linestyle = '--', linewidth = 0.5)\n",
    "plt.scatter(sp.re(sol1), sp.im(sol1))\n",
    "plt.scatter(sp.re(sol2), sp.im(sol2))\n",
    "plt.xlabel('x')\n",
    "plt"
   ]
  },
  {
   "cell_type": "code",
   "execution_count": 10,
   "id": "d2ad369e",
   "metadata": {},
   "outputs": [
    {
     "name": "stdout",
     "output_type": "stream",
     "text": [
      "Requirement already satisfied: manim in /Users/Max/anaconda3/lib/python3.10/site-packages (0.18.0)\n",
      "Requirement already satisfied: tqdm<5.0.0,>=4.62.3 in /Users/Max/anaconda3/lib/python3.10/site-packages (from manim) (4.65.0)\n",
      "Requirement already satisfied: watchdog<=3.0.0,>=2.1 in /Users/Max/anaconda3/lib/python3.10/site-packages (from manim) (2.1.6)\n",
      "Requirement already satisfied: click-default-group<2.0.0,>=1.2.2 in /Users/Max/anaconda3/lib/python3.10/site-packages (from manim) (1.2.4)\n",
      "Requirement already satisfied: isosurfaces==0.1.0 in /Users/Max/anaconda3/lib/python3.10/site-packages (from manim) (0.1.0)\n",
      "Requirement already satisfied: rich!=12.0.0,>=6.0 in /Users/Max/anaconda3/lib/python3.10/site-packages (from manim) (13.7.0)\n",
      "Requirement already satisfied: screeninfo<0.9,>=0.8 in /Users/Max/anaconda3/lib/python3.10/site-packages (from manim) (0.8.1)\n",
      "Requirement already satisfied: svgelements<2.0.0,>=1.8.0 in /Users/Max/anaconda3/lib/python3.10/site-packages (from manim) (1.9.6)\n",
      "Requirement already satisfied: pydub<0.26.0,>=0.25.1 in /Users/Max/anaconda3/lib/python3.10/site-packages (from manim) (0.25.1)\n",
      "Requirement already satisfied: Pygments<3.0.0,>=2.10.0 in /Users/Max/anaconda3/lib/python3.10/site-packages (from manim) (2.15.0)\n",
      "Requirement already satisfied: cloup<2.2,>=0.13 in /Users/Max/anaconda3/lib/python3.10/site-packages (from manim) (2.1.2)\n",
      "Requirement already satisfied: mapbox-earcut<2.0.0,>=1.0.0 in /Users/Max/anaconda3/lib/python3.10/site-packages (from manim) (1.0.1)\n",
      "Requirement already satisfied: numpy<2.0,>=1.22 in /Users/Max/anaconda3/lib/python3.10/site-packages (from manim) (1.24.2)\n",
      "Requirement already satisfied: moderngl-window<3.0.0,>=2.3.0 in /Users/Max/anaconda3/lib/python3.10/site-packages (from manim) (2.4.4)\n",
      "Requirement already satisfied: scipy<2.0.0,>=1.7.3 in /Users/Max/anaconda3/lib/python3.10/site-packages (from manim) (1.10.1)\n",
      "Requirement already satisfied: manimpango<1.0.0,>=0.5.0 in /Users/Max/anaconda3/lib/python3.10/site-packages (from manim) (0.5.0)\n",
      "Requirement already satisfied: networkx<3.3,>=2.5 in /Users/Max/anaconda3/lib/python3.10/site-packages (from manim) (3.2.1)\n",
      "Requirement already satisfied: requests<3.0.0,>=2.26.0 in /Users/Max/anaconda3/lib/python3.10/site-packages (from manim) (2.28.1)\n",
      "Requirement already satisfied: skia-pathops<0.8.0,>=0.7.0 in /Users/Max/anaconda3/lib/python3.10/site-packages (from manim) (0.7.4)\n",
      "Requirement already satisfied: decorator<6.0.0,>=5.0.7 in /Users/Max/anaconda3/lib/python3.10/site-packages (from manim) (5.1.1)\n",
      "Requirement already satisfied: pycairo<2.0,>=1.21 in /Users/Max/anaconda3/lib/python3.10/site-packages (from manim) (1.25.1)\n",
      "Requirement already satisfied: Pillow<10.0,>=9.1 in /Users/Max/anaconda3/lib/python3.10/site-packages (from manim) (9.5.0)\n",
      "Requirement already satisfied: typing-extensions<5.0.0,>=4.7.1 in /Users/Max/anaconda3/lib/python3.10/site-packages (from manim) (4.7.1)\n",
      "Requirement already satisfied: moderngl<6.0.0,>=5.6.3 in /Users/Max/anaconda3/lib/python3.10/site-packages (from manim) (5.10.0)\n",
      "Requirement already satisfied: srt<4.0.0,>=3.5.0 in /Users/Max/anaconda3/lib/python3.10/site-packages (from manim) (3.5.3)\n",
      "Requirement already satisfied: click<=9.0,>=7.2 in /Users/Max/anaconda3/lib/python3.10/site-packages (from manim) (8.1.7)\n",
      "Requirement already satisfied: glcontext<3,>=2.5.0 in /Users/Max/anaconda3/lib/python3.10/site-packages (from moderngl<6.0.0,>=5.6.3->manim) (2.5.0)\n",
      "Requirement already satisfied: pyrr<1,>=0.10.3 in /Users/Max/anaconda3/lib/python3.10/site-packages (from moderngl-window<3.0.0,>=2.3.0->manim) (0.10.3)\n",
      "Requirement already satisfied: pyglet>=2.0dev23 in /Users/Max/anaconda3/lib/python3.10/site-packages (from moderngl-window<3.0.0,>=2.3.0->manim) (2.0.10)\n",
      "Requirement already satisfied: urllib3<1.27,>=1.21.1 in /Users/Max/anaconda3/lib/python3.10/site-packages (from requests<3.0.0,>=2.26.0->manim) (1.26.15)\n",
      "Requirement already satisfied: idna<4,>=2.5 in /Users/Max/anaconda3/lib/python3.10/site-packages (from requests<3.0.0,>=2.26.0->manim) (3.4)\n",
      "Requirement already satisfied: charset-normalizer<3,>=2 in /Users/Max/anaconda3/lib/python3.10/site-packages (from requests<3.0.0,>=2.26.0->manim) (2.0.4)\n",
      "Requirement already satisfied: certifi>=2017.4.17 in /Users/Max/anaconda3/lib/python3.10/site-packages (from requests<3.0.0,>=2.26.0->manim) (2023.7.22)\n",
      "Requirement already satisfied: markdown-it-py>=2.2.0 in /Users/Max/anaconda3/lib/python3.10/site-packages (from rich!=12.0.0,>=6.0->manim) (3.0.0)\n",
      "Requirement already satisfied: Cython in /Users/Max/anaconda3/lib/python3.10/site-packages (from screeninfo<0.9,>=0.8->manim) (3.0.8)\n",
      "Requirement already satisfied: pyobjc-framework-Cocoa in /Users/Max/anaconda3/lib/python3.10/site-packages (from screeninfo<0.9,>=0.8->manim) (9.0)\n",
      "Requirement already satisfied: mdurl~=0.1 in /Users/Max/anaconda3/lib/python3.10/site-packages (from markdown-it-py>=2.2.0->rich!=12.0.0,>=6.0->manim) (0.1.2)\n",
      "Requirement already satisfied: multipledispatch in /Users/Max/anaconda3/lib/python3.10/site-packages (from pyrr<1,>=0.10.3->moderngl-window<3.0.0,>=2.3.0->manim) (1.0.0)\n",
      "Requirement already satisfied: pyobjc-core>=9.0 in /Users/Max/anaconda3/lib/python3.10/site-packages (from pyobjc-framework-Cocoa->screeninfo<0.9,>=0.8->manim) (9.0)\n"
     ]
    },
    {
     "data": {
      "text/html": [
       "<pre style=\"white-space:pre;overflow-x:auto;line-height:normal;font-family:Menlo,'DejaVu Sans Mono',consolas,'Courier New',monospace\">Manim Community <span style=\"color: #008000; text-decoration-color: #008000\">v0.18.0</span>\n",
       "\n",
       "</pre>\n"
      ],
      "text/plain": [
       "Manim Community \u001b[32mv0.\u001b[0m\u001b[32m18.0\u001b[0m\n",
       "\n"
      ]
     },
     "metadata": {},
     "output_type": "display_data"
    }
   ],
   "source": [
    "!pip install manim\n",
    "from manim import *"
   ]
  },
  {
   "cell_type": "code",
   "execution_count": 12,
   "id": "53850c30",
   "metadata": {},
   "outputs": [
    {
     "ename": "AttributeError",
     "evalue": "module 'manimlib.config' has no attribute 'items'",
     "output_type": "error",
     "traceback": [
      "\u001b[0;31m---------------------------------------------------------------------------\u001b[0m",
      "\u001b[0;31mAttributeError\u001b[0m                            Traceback (most recent call last)",
      "Cell \u001b[0;32mIn[12], line 1\u001b[0m\n\u001b[0;32m----> 1\u001b[0m \u001b[43mget_ipython\u001b[49m\u001b[43m(\u001b[49m\u001b[43m)\u001b[49m\u001b[38;5;241;43m.\u001b[39;49m\u001b[43mrun_cell_magic\u001b[49m\u001b[43m(\u001b[49m\u001b[38;5;124;43m'\u001b[39;49m\u001b[38;5;124;43mmanim\u001b[39;49m\u001b[38;5;124;43m'\u001b[39;49m\u001b[43m,\u001b[49m\u001b[43m \u001b[49m\u001b[38;5;124;43m'\u001b[39;49m\u001b[38;5;124;43m-qm -v WARNING OpeningManimExample\u001b[39;49m\u001b[38;5;124;43m'\u001b[39;49m\u001b[43m,\u001b[49m\u001b[43m \u001b[49m\u001b[38;5;124;43m'\u001b[39;49m\u001b[38;5;124;43mfrom manimlib import *\u001b[39;49m\u001b[38;5;130;43;01m\\n\u001b[39;49;00m\u001b[38;5;124;43mclass OpeningManimExample(Scene):\u001b[39;49m\u001b[38;5;130;43;01m\\n\u001b[39;49;00m\u001b[38;5;124;43m    def construct(self):\u001b[39;49m\u001b[38;5;130;43;01m\\n\u001b[39;49;00m\u001b[38;5;130;43;01m\\n\u001b[39;49;00m\u001b[38;5;124;43m        # Linear transform\u001b[39;49m\u001b[38;5;130;43;01m\\n\u001b[39;49;00m\u001b[38;5;124;43m        grid = NumberPlane((-10, 10), (-5, 5))\u001b[39;49m\u001b[38;5;130;43;01m\\n\u001b[39;49;00m\u001b[38;5;130;43;01m\\n\u001b[39;49;00m\u001b[38;5;124;43m        # Complex map\u001b[39;49m\u001b[38;5;130;43;01m\\n\u001b[39;49;00m\u001b[38;5;124;43m        c_grid = ComplexPlane()\u001b[39;49m\u001b[38;5;130;43;01m\\n\u001b[39;49;00m\u001b[38;5;124;43m        moving_c_grid = c_grid.copy()\u001b[39;49m\u001b[38;5;130;43;01m\\n\u001b[39;49;00m\u001b[38;5;124;43m        moving_c_grid.prepare_for_nonlinear_transform()\u001b[39;49m\u001b[38;5;130;43;01m\\n\u001b[39;49;00m\u001b[38;5;124;43m        c_grid.set_stroke(BLUE_E, 1)\u001b[39;49m\u001b[38;5;130;43;01m\\n\u001b[39;49;00m\u001b[38;5;124;43m        START = (3.0, 3.0, 0)\u001b[39;49m\u001b[38;5;130;43;01m\\n\u001b[39;49;00m\u001b[38;5;124;43m        END = (3.0, -3.0, 0)\u001b[39;49m\u001b[38;5;130;43;01m\\n\u001b[39;49;00m\u001b[38;5;130;43;01m\\n\u001b[39;49;00m\u001b[38;5;124;43m        self.play(\u001b[39;49m\u001b[38;5;130;43;01m\\n\u001b[39;49;00m\u001b[38;5;124;43m            FadeOut(grid),\u001b[39;49m\u001b[38;5;130;43;01m\\n\u001b[39;49;00m\u001b[38;5;124;43m            Write(c_grid, run_time=3),\u001b[39;49m\u001b[38;5;130;43;01m\\n\u001b[39;49;00m\u001b[38;5;124;43m            FadeIn(moving_c_grid),\u001b[39;49m\u001b[38;5;130;43;01m\\n\u001b[39;49;00m\u001b[38;5;124;43m        )\u001b[39;49m\u001b[38;5;130;43;01m\\n\u001b[39;49;00m\u001b[38;5;124;43m        self.wait()\u001b[39;49m\u001b[38;5;130;43;01m\\n\u001b[39;49;00m\u001b[38;5;124;43m        self.play(\u001b[39;49m\u001b[38;5;130;43;01m\\n\u001b[39;49;00m\u001b[38;5;124;43m            moving_c_grid.animate.apply_complex_function(lambda z: 1/(np.cos(1/z))),\u001b[39;49m\u001b[38;5;130;43;01m\\n\u001b[39;49;00m\u001b[38;5;124;43m            run_time=6,\u001b[39;49m\u001b[38;5;130;43;01m\\n\u001b[39;49;00m\u001b[38;5;124;43m        )\u001b[39;49m\u001b[38;5;130;43;01m\\n\u001b[39;49;00m\u001b[38;5;130;43;01m\\n\u001b[39;49;00m\u001b[38;5;124;43m        self.wait(2)\u001b[39;49m\u001b[38;5;130;43;01m\\n\u001b[39;49;00m\u001b[38;5;124;43m'\u001b[39;49m\u001b[43m)\u001b[49m\n",
      "File \u001b[0;32m~/anaconda3/lib/python3.10/site-packages/IPython/core/interactiveshell.py:2493\u001b[0m, in \u001b[0;36mInteractiveShell.run_cell_magic\u001b[0;34m(self, magic_name, line, cell)\u001b[0m\n\u001b[1;32m   2491\u001b[0m \u001b[38;5;28;01mwith\u001b[39;00m \u001b[38;5;28mself\u001b[39m\u001b[38;5;241m.\u001b[39mbuiltin_trap:\n\u001b[1;32m   2492\u001b[0m     args \u001b[38;5;241m=\u001b[39m (magic_arg_s, cell)\n\u001b[0;32m-> 2493\u001b[0m     result \u001b[38;5;241m=\u001b[39m \u001b[43mfn\u001b[49m\u001b[43m(\u001b[49m\u001b[38;5;241;43m*\u001b[39;49m\u001b[43margs\u001b[49m\u001b[43m,\u001b[49m\u001b[43m \u001b[49m\u001b[38;5;241;43m*\u001b[39;49m\u001b[38;5;241;43m*\u001b[39;49m\u001b[43mkwargs\u001b[49m\u001b[43m)\u001b[49m\n\u001b[1;32m   2495\u001b[0m \u001b[38;5;66;03m# The code below prevents the output from being displayed\u001b[39;00m\n\u001b[1;32m   2496\u001b[0m \u001b[38;5;66;03m# when using magics with decorator @output_can_be_silenced\u001b[39;00m\n\u001b[1;32m   2497\u001b[0m \u001b[38;5;66;03m# when the last Python token in the expression is a ';'.\u001b[39;00m\n\u001b[1;32m   2498\u001b[0m \u001b[38;5;28;01mif\u001b[39;00m \u001b[38;5;28mgetattr\u001b[39m(fn, magic\u001b[38;5;241m.\u001b[39mMAGIC_OUTPUT_CAN_BE_SILENCED, \u001b[38;5;28;01mFalse\u001b[39;00m):\n",
      "File \u001b[0;32m~/anaconda3/lib/python3.10/site-packages/manim/utils/ipython_magic.py:129\u001b[0m, in \u001b[0;36mManimMagic.manim\u001b[0;34m(self, line, cell, local_ns)\u001b[0m\n\u001b[1;32m    127\u001b[0m modified_args \u001b[38;5;241m=\u001b[39m \u001b[38;5;28mself\u001b[39m\u001b[38;5;241m.\u001b[39madd_additional_args(args)\n\u001b[1;32m    128\u001b[0m args \u001b[38;5;241m=\u001b[39m main(modified_args, standalone_mode\u001b[38;5;241m=\u001b[39m\u001b[38;5;28;01mFalse\u001b[39;00m, prog_name\u001b[38;5;241m=\u001b[39m\u001b[38;5;124m\"\u001b[39m\u001b[38;5;124mmanim\u001b[39m\u001b[38;5;124m\"\u001b[39m)\n\u001b[0;32m--> 129\u001b[0m \u001b[38;5;28;01mwith\u001b[39;00m tempconfig(local_ns\u001b[38;5;241m.\u001b[39mget(\u001b[38;5;124m\"\u001b[39m\u001b[38;5;124mconfig\u001b[39m\u001b[38;5;124m\"\u001b[39m, {})):\n\u001b[1;32m    130\u001b[0m     config\u001b[38;5;241m.\u001b[39mdigest_args(args)\n\u001b[1;32m    132\u001b[0m     renderer \u001b[38;5;241m=\u001b[39m \u001b[38;5;28;01mNone\u001b[39;00m\n",
      "File \u001b[0;32m~/anaconda3/lib/python3.10/contextlib.py:135\u001b[0m, in \u001b[0;36m_GeneratorContextManager.__enter__\u001b[0;34m(self)\u001b[0m\n\u001b[1;32m    133\u001b[0m \u001b[38;5;28;01mdel\u001b[39;00m \u001b[38;5;28mself\u001b[39m\u001b[38;5;241m.\u001b[39margs, \u001b[38;5;28mself\u001b[39m\u001b[38;5;241m.\u001b[39mkwds, \u001b[38;5;28mself\u001b[39m\u001b[38;5;241m.\u001b[39mfunc\n\u001b[1;32m    134\u001b[0m \u001b[38;5;28;01mtry\u001b[39;00m:\n\u001b[0;32m--> 135\u001b[0m     \u001b[38;5;28;01mreturn\u001b[39;00m \u001b[38;5;28;43mnext\u001b[39;49m\u001b[43m(\u001b[49m\u001b[38;5;28;43mself\u001b[39;49m\u001b[38;5;241;43m.\u001b[39;49m\u001b[43mgen\u001b[49m\u001b[43m)\u001b[49m\n\u001b[1;32m    136\u001b[0m \u001b[38;5;28;01mexcept\u001b[39;00m \u001b[38;5;167;01mStopIteration\u001b[39;00m:\n\u001b[1;32m    137\u001b[0m     \u001b[38;5;28;01mraise\u001b[39;00m \u001b[38;5;167;01mRuntimeError\u001b[39;00m(\u001b[38;5;124m\"\u001b[39m\u001b[38;5;124mgenerator didn\u001b[39m\u001b[38;5;124m'\u001b[39m\u001b[38;5;124mt yield\u001b[39m\u001b[38;5;124m\"\u001b[39m) \u001b[38;5;28;01mfrom\u001b[39;00m \u001b[38;5;28;01mNone\u001b[39;00m\n",
      "File \u001b[0;32m~/anaconda3/lib/python3.10/site-packages/manim/_config/__init__.py:76\u001b[0m, in \u001b[0;36mtempconfig\u001b[0;34m(temp)\u001b[0m\n\u001b[1;32m     73\u001b[0m \u001b[38;5;28;01mglobal\u001b[39;00m config\n\u001b[1;32m     74\u001b[0m original \u001b[38;5;241m=\u001b[39m config\u001b[38;5;241m.\u001b[39mcopy()\n\u001b[0;32m---> 76\u001b[0m temp \u001b[38;5;241m=\u001b[39m {k: v \u001b[38;5;28;01mfor\u001b[39;00m k, v \u001b[38;5;129;01min\u001b[39;00m \u001b[43mtemp\u001b[49m\u001b[38;5;241;43m.\u001b[39;49m\u001b[43mitems\u001b[49m() \u001b[38;5;28;01mif\u001b[39;00m k \u001b[38;5;129;01min\u001b[39;00m original}\n\u001b[1;32m     78\u001b[0m \u001b[38;5;66;03m# In order to change the config that every module has access to, use\u001b[39;00m\n\u001b[1;32m     79\u001b[0m \u001b[38;5;66;03m# update(), DO NOT use assignment.  Assigning config = some_dict will just\u001b[39;00m\n\u001b[1;32m     80\u001b[0m \u001b[38;5;66;03m# make the local variable named config point to a new dictionary, it will\u001b[39;00m\n\u001b[1;32m     81\u001b[0m \u001b[38;5;66;03m# NOT change the dictionary that every module has a reference to.\u001b[39;00m\n\u001b[1;32m     82\u001b[0m config\u001b[38;5;241m.\u001b[39mupdate(temp)\n",
      "\u001b[0;31mAttributeError\u001b[0m: module 'manimlib.config' has no attribute 'items'"
     ]
    }
   ],
   "source": [
    "%%manim -qm -v WARNING OpeningManimExample\n",
    "from manimlib import *\n",
    "class OpeningManimExample(Scene):\n",
    "    def construct(self):\n",
    "\n",
    "        # Linear transform\n",
    "        grid = NumberPlane((-10, 10), (-5, 5))\n",
    "\n",
    "        # Complex map\n",
    "        c_grid = ComplexPlane()\n",
    "        moving_c_grid = c_grid.copy()\n",
    "        moving_c_grid.prepare_for_nonlinear_transform()\n",
    "        c_grid.set_stroke(BLUE_E, 1)\n",
    "        START = (3.0, 3.0, 0)\n",
    "        END = (3.0, -3.0, 0)\n",
    "\n",
    "        self.play(\n",
    "            FadeOut(grid),\n",
    "            Write(c_grid, run_time=3),\n",
    "            FadeIn(moving_c_grid),\n",
    "        )\n",
    "        self.wait()\n",
    "        self.play(\n",
    "            moving_c_grid.animate.apply_complex_function(lambda z: 1/(np.cos(1/z))),\n",
    "            run_time=6,\n",
    "        )\n",
    "\n",
    "        self.wait(2)"
   ]
  },
  {
   "cell_type": "code",
   "execution_count": null,
   "id": "6effd665",
   "metadata": {},
   "outputs": [],
   "source": [
    "%%manim -qh -v WARNING OpeningManimExample\n",
    "\n",
    "class OpeningManimExample(Scene):\n",
    "    def construct(self):\n",
    "\n",
    "        # Linear transform\n",
    "        grid = NumberPlane((-10, 10), (-5, 5))\n",
    "\n",
    "        # Complex map\n",
    "        c_grid = ComplexPlane()\n",
    "        moving_c_grid = c_grid.copy()\n",
    "        moving_c_grid.prepare_for_nonlinear_transform()\n",
    "        c_grid.set_stroke(BLUE_E, 1)\n",
    "        START = (3, 2.0, 0)\n",
    "        END = (-3, 2.0, 0)\n",
    "        # c_grid.add_coordinate_labels(font_size=24)\n",
    "        l = Line(START, END)\n",
    "        self.add(l)\n",
    "        self.play(\n",
    "            FadeOut(grid),\n",
    "            Write(c_grid, run_time=3),\n",
    "            FadeIn(moving_c_grid),\n",
    "        )\n",
    "        self.wait()\n",
    "        self.play(\n",
    "            moving_c_grid.animate.apply_complex_function(lambda z: np.cos(z)),\n",
    "            l.animate.apply_complex_function(lambda z: np.cos(z)),\n",
    "\n",
    "            run_time=6,\n",
    "        )\n",
    "        self.wait(2)"
   ]
  },
  {
   "cell_type": "code",
   "execution_count": null,
   "id": "3e993140",
   "metadata": {},
   "outputs": [],
   "source": []
  }
 ],
 "metadata": {
  "kernelspec": {
   "display_name": "Python 3 (ipykernel)",
   "language": "python",
   "name": "python3"
  },
  "language_info": {
   "codemirror_mode": {
    "name": "ipython",
    "version": 3
   },
   "file_extension": ".py",
   "mimetype": "text/x-python",
   "name": "python",
   "nbconvert_exporter": "python",
   "pygments_lexer": "ipython3",
   "version": "3.10.9"
  }
 },
 "nbformat": 4,
 "nbformat_minor": 5
}
