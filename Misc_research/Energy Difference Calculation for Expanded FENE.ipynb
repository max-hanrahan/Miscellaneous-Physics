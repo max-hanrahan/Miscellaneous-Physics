{
 "cells": [
  {
   "cell_type": "markdown",
   "id": "b6a8ed29-3155-4aca-a866-4dda25dd36ad",
   "metadata": {},
   "source": [
    "# Old math on the forming/breaking of bonds"
   ]
  },
  {
   "cell_type": "markdown",
   "id": "1b9079e4-c3bb-4a3f-be74-5ad8e44b95fd",
   "metadata": {},
   "source": [
    "Previously we had, for non-bonded interactions:\n",
    "\n",
    "$$\\epsilon_{ii} = \\epsilon_{jj} = 1, \\epsilon_{ij} = 0.9$$\n",
    "\n",
    "$$\n",
    "u_{ij} = 4\\epsilon_{ij} \\left[\\left(\\frac{\\sigma}{r}\\right)^{12} - \\left(\\frac{\\sigma}{r}\\right)^6\\right] - u(r_c)\n",
    "$$"
   ]
  },
  {
   "cell_type": "markdown",
   "id": "9f0cdd4b-6cfd-484f-bb39-edc5bfa60406",
   "metadata": {},
   "source": [
    "where $u(r_c) = 4\\epsilon_{ij} \\left[\\left(\\frac{\\sigma}{r_c}\\right)^{12} - \\left(\\frac{\\sigma}{r_c}\\right)^6\\right]$, and $r_c = 2.5$"
   ]
  },
  {
   "cell_type": "markdown",
   "id": "08152e86-968b-47fb-a62e-3ab595bd0c79",
   "metadata": {},
   "source": [
    "For bonds, \n",
    "\n",
    "$$\n",
    "u_{ij} = -\\frac{kR_0^2}{2} \\ln \\left(1 - \\left(\\frac{r}{R_0}\\right)^2\\right) + 4\\epsilon \\left[\\left(\\frac{\\sigma}{r}\\right)^{12} - \\left(\\frac{\\sigma}{r}\\right)^6\\right] + \\epsilon\n",
    "$$\n",
    "\n",
    "where here $\\epsilon = 1, R_0 = 1.5$."
   ]
  },
  {
   "cell_type": "markdown",
   "id": "1bc5cf65-6aaa-4fd7-90ef-87603e471da9",
   "metadata": {},
   "source": [
    "Then the energy change (bonded potential - non-bonded) is $$\\Delta u_{ij} =4\\overbrace{(\\epsilon- \\epsilon_{ij})}^{=0 \\text{ if } i=j} \\left[\\left(\\frac{\\sigma}{r}\\right)^{12} - \\left(\\frac{\\sigma}{r}\\right)^6\\right] -\\frac{kR_0^2}{2} \\ln \\left(1 - \\left(\\frac{r}{R_0}\\right)^2\\right) + \\left(\\epsilon + u(r_c)\\right)$$"
   ]
  },
  {
   "cell_type": "markdown",
   "id": "6c2c8388-2eea-4117-a2bc-7eef7dec9f70",
   "metadata": {},
   "source": [
    "# As above, with extended FENE bonds"
   ]
  },
  {
   "cell_type": "markdown",
   "id": "82312e15-4241-49ef-8f8c-0c16e8e53b1b",
   "metadata": {},
   "source": [
    "For non-bonded interactions, the pair potential is the same (Lennard-Jones):\n",
    "\n",
    "\n",
    "$$\n",
    "u_{ij} = 4\\epsilon_{ij} \\left[\\left(\\frac{\\sigma}{r}\\right)^{12} - \\left(\\frac{\\sigma}{r}\\right)^6\\right] - u(r_c)\n",
    "$$\n",
    "\n"
   ]
  },
  {
   "cell_type": "markdown",
   "id": "d332cbdc-2e9a-49ad-9e3b-6924f1d70374",
   "metadata": {},
   "source": [
    "But for bonds, we are now using the extended FENE potential, of the form:"
   ]
  },
  {
   "cell_type": "markdown",
   "id": "41fa9141-1c4c-4b20-937b-9f2416f1f953",
   "metadata": {},
   "source": [
    "$$u_{ij} = -\\frac{kR_0^2}{2} \\ln \\left(1 - \\left(\\frac{r - \\Delta}{R_0}\\right)^2\\right) + 4\\epsilon \\left[\\left(\\frac{\\sigma}{r - \\Delta}\\right)^{12} - \\left(\\frac{\\sigma}{r - \\Delta}\\right)^6\\right] + \\epsilon$$"
   ]
  },
  {
   "cell_type": "markdown",
   "id": "2c7a0487-67f4-46b0-9370-cb71b71e5df8",
   "metadata": {},
   "source": [
    "So bonded - non-bonded potential is not so simple, but it is straightforward to calculate:"
   ]
  },
  {
   "cell_type": "markdown",
   "id": "6faa8938-ab7c-4247-999f-107c1ec42b67",
   "metadata": {},
   "source": [
    "$$\\Delta u_{ij} = -\\frac{kR_0^2}{2} \\ln \\left(1 - \\left(\\frac{r - \\Delta}{R_0}\\right)^2\\right) + 4\\epsilon \\left[\\left(\\frac{\\sigma}{r - \\Delta}\\right)^{12} - \\left(\\frac{\\sigma}{r - \\Delta}\\right)^6\\right] -  4\\epsilon_{ij} \\left[\\left(\\frac{\\sigma}{r}\\right)^{12} - \\left(\\frac{\\sigma}{r}\\right)^6\\right] +   (\\epsilon + u(r_c))$$"
   ]
  },
  {
   "cell_type": "markdown",
   "id": "4f3a66ac-296b-43dd-8b8e-ac5b1df91288",
   "metadata": {},
   "source": [
    "As far as I can see, there's no great way to simplify this expression. The best I can do is pick out a factor of 4 from the two LJ terms. "
   ]
  }
 ],
 "metadata": {
  "kernelspec": {
   "display_name": "Python 3 (ipykernel)",
   "language": "python",
   "name": "python3"
  },
  "language_info": {
   "codemirror_mode": {
    "name": "ipython",
    "version": 3
   },
   "file_extension": ".py",
   "mimetype": "text/x-python",
   "name": "python",
   "nbconvert_exporter": "python",
   "pygments_lexer": "ipython3",
   "version": "3.12.2"
  }
 },
 "nbformat": 4,
 "nbformat_minor": 5
}
