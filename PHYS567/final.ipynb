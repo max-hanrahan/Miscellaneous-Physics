{
 "cells": [
  {
   "cell_type": "markdown",
   "metadata": {},
   "source": []
  },
  {
   "cell_type": "markdown",
   "metadata": {},
   "source": [
    "$$\n",
    "\\frac{T_f}{T} = \\frac{T_0}{T} \\frac{(3 \\pi^2) ^{2/3}}{4 \\pi}\n",
    "$$"
   ]
  },
  {
   "cell_type": "markdown",
   "metadata": {},
   "source": [
    "Aha!\n",
    "\n",
    "$$\n",
    "\\boxed{\\frac{T_f}{T_0} = \\frac{(3 \\pi^2)^{2/3}}{4 \\pi} \\approx 0.7617}\n",
    "$$"
   ]
  },
  {
   "cell_type": "markdown",
   "metadata": {},
   "source": [
    "Now we see\n",
    "\n",
    "$$\n",
    "T_f = \\frac{(3 \\pi^2)^{2/3}}{4 \\pi}T_0 \\implies T_0 = \\frac{4 \\pi}{(3 \\pi^2)^{2/3}}T_f\n",
    "$$"
   ]
  },
  {
   "cell_type": "markdown",
   "metadata": {},
   "source": [
    "And thus:\n",
    "\n",
    "$$\n",
    "\\frac{T}{T_f} = \\left(\\frac{4}{3 \\sqrt \\pi} f_{3/2}(z)\\right)^{2/3}\n",
    "$$"
   ]
  },
  {
   "cell_type": "markdown",
   "metadata": {},
   "source": [
    "can be recast as\n",
    "\n",
    "$$\n",
    "\\frac{T}{T_0} \\frac{4\\pi}{(3 \\pi ^2)^{2/3}} = \\left(\\frac{4}{3 \\sqrt \\pi} f_{3/2}(z)\\right)^{2/3}\n",
    "$$"
   ]
  },
  {
   "cell_type": "markdown",
   "metadata": {},
   "source": [
    "Which simplifies to \n",
    "\n",
    "$$\n",
    "\\frac{T}{T_0} = \\left(\\frac{f_{3/2}(z)}{2}\\right)^{2/3}\n",
    "$$\n",
    "\n",
    "Mathematica can take it from here. "
   ]
  },
  {
   "cell_type": "markdown",
   "metadata": {},
   "source": [
    "and $\\lambda_0^3  = V/N$, so\n",
    "\n",
    "$$\n",
    "T_c = \\frac{2 \\pi \\hbar^2}{mk} \\left(\\frac{1}{\\lambda_0^3 \\zeta(\\frac{3}{2})}\\right) ^{2/3}\n",
    "$$\n",
    "\n",
    "and again, $\\lambda^2 = \\frac{2 \\pi \\hbar ^2}{m k_B T}$, and thus\n",
    "\n",
    "$$\n",
    "\\frac{T_c}{T} = \\frac{\\lambda^2}{\\lambda_0^2} \\left(\\frac{1}{\\zeta(\\frac{3}{2})}\\right)^{2/3} \\implies \\frac{T_c}{T} = \\frac{T_0}{T}\\left(\\frac{1}{\\zeta(\\frac{3}{2})}\\right)^{2/3}\n",
    "$$"
   ]
  },
  {
   "cell_type": "markdown",
   "metadata": {},
   "source": [
    "And thus, \n",
    "\n",
    "$$\n",
    "\\boxed{\\frac{T_c}{T_0} = \\left(\\frac{1}{\\zeta(\\frac{3}{2})}\\right)^{2/3} \\approx 0.527}\n",
    "$$"
   ]
  },
  {
   "cell_type": "markdown",
   "metadata": {},
   "source": [
    "## 3a:\n",
    "\n",
    "Evaluating only the field integral:\n",
    "\n",
    "$$\n",
    "\\int_{-\\infty}^{\\infty} dB e^{\\left(-\\beta \\frac{NB^2}{2\\sigma^2} + \\beta \\sum_{i=1}^N (Bs_i + J s_i s_{i+1})\\right)} \\\\\n",
    "=  \\int_{-\\infty}^{\\infty} dB e^{-\\beta \\frac{NB^2}{2\\sigma^2}} e^{\\beta  (Bs_0 + Js_0 s_1)} e^{\\beta  (Bs_1 + Js_1 s_2)}\\cdots e^{\\beta  (Bs_{N-1} + Js_{N-1} s_N)}\n",
    "$$"
   ]
  },
  {
   "cell_type": "markdown",
   "metadata": {},
   "source": [
    "Collecting the $B$ terms in the sum:\n",
    "\n",
    "$\\beta B (s_0 + s_1 + s_2 + \\cdots + s_N) + \\beta J (s_0 s_1 + s_1 s_2 + \\cdots s_{N-1}s_N)$"
   ]
  },
  {
   "cell_type": "markdown",
   "metadata": {},
   "source": [
    "The sum over all spins is the net magnetization for this particular state, which I will label $m$. This will simplify our integral to \n",
    "\n",
    "$$\n",
    "\\int_{-\\infty}^{\\infty} dB e^{-\\beta \\frac{NB^2}{2\\sigma^2}} e^{\\beta B  m} e^{\\beta J (s_0 s_1 + s_1 s_2 + \\cdots s_{N-1}s_N)} \\\\\n",
    "= e^{\\beta J (s_0 s_1 + s_1 s_2 + \\cdots s_{N-1}s_N)} \\int_{-\\infty}^{\\infty} dB e^{-\\beta \\frac{NB^2}{2\\sigma^2}} e^{\\beta B  m}\n",
    "$$"
   ]
  },
  {
   "cell_type": "markdown",
   "metadata": {},
   "source": [
    "We can rewrite the exponent as\n",
    "\n",
    "$$\n",
    "\\frac{-\\beta N B^2}{2\\sigma^2} + \\beta B  m\n",
    "$$"
   ]
  },
  {
   "cell_type": "markdown",
   "metadata": {},
   "source": [
    "And we shpould now complete the square to cast this into a Gaussian integral, which we can easily evaluate. \n",
    "\n",
    "Or I could use Mathematica because I am running out of time..."
   ]
  },
  {
   "cell_type": "markdown",
   "metadata": {},
   "source": [
    "The result of the integral is\n",
    "\n",
    "\n",
    "$$\n",
    "\\frac{\\sqrt{2 \\pi } e^{\\beta  J \\sum _{i=1}^N s_i s_{i+1}+\\frac{\\beta  m^2 \\sigma ^2}{2 N}}}{\\sqrt{\\frac{\\beta  N}{\\sigma ^2}}}\n",
    "$$"
   ]
  },
  {
   "cell_type": "markdown",
   "metadata": {},
   "source": [
    "Which simplifies to \n",
    "$$\n",
    "\\sqrt{\\frac{2\\pi \\sigma^2}{\\beta N}} e^{\\beta  J \\sum _{i=1}^N s_i s_{i+1}+\\frac{\\beta  m^2 \\sigma ^2}{2 N}}.\n",
    "$$"
   ]
  },
  {
   "cell_type": "markdown",
   "metadata": {},
   "source": [
    "We are now tasked with writing this result as $\\exp (-\\beta \\mathcal{H}_\\text{eff})$. Let's do that and solve for the effective Hamiltonian:\n",
    "\n",
    "\n",
    "\n",
    "$$\n",
    "\\sqrt{\\frac{2\\pi \\sigma^2}{\\beta N}} e^{\\beta  J \\sum _{i=1}^N s_i s_{i+1}+\\frac{\\beta  m^2 \\sigma ^2}{2 N}} =  e^{-\\beta \\mathcal{H}_\\text{eff}}\n",
    "$$"
   ]
  },
  {
   "cell_type": "markdown",
   "metadata": {},
   "source": [
    "$$\n",
    "\\log \\left(\\sqrt{\\frac{2\\pi \\sigma^2}{\\beta N}}\\right) + \\beta  J \\sum _{i=1}^N s_i s_{i+1}+\\frac{\\beta  m^2 \\sigma ^2}{2 N} = -\\beta \\mathcal{H}_\\text{eff}\n",
    "$$"
   ]
  },
  {
   "cell_type": "markdown",
   "metadata": {},
   "source": [
    "Now divide by $\\beta$, negate the whole thing, and replace the remaining $\\beta$ with $\\frac{1}{kT}$:\n",
    "\n",
    "$$\n",
    " \\mathcal{H}_\\text{eff} = -kT\\log \\left(\\sqrt{\\frac{2\\pi \\sigma^2 k T}{ N}}\\right) -   J \\sum _{i=1}^N s_i s_{i+1}-\\frac{  m^2 \\sigma ^2}{2 N} \n",
    "$$"
   ]
  },
  {
   "cell_type": "markdown",
   "metadata": {},
   "source": [
    "Now let me undo something I did. Earlier I defined $m = \\sum_{i = 1}^N s_i$. But we can of course re-introduce this:\n",
    "\n",
    "$$\n",
    " \\mathcal{H}_\\text{eff} = -kT\\log \\left(\\sqrt{\\frac{2\\pi \\sigma^2 k T}{ N}}\\right) -   J \\sum _{i=1}^N s_i s_{i+1}- \\left(\\sum_{i = 1}^N s_i\\right)^2 \\frac{  \\sigma ^2}{2 N} \n",
    "$$"
   ]
  },
  {
   "cell_type": "markdown",
   "metadata": {},
   "source": [
    "And since we're squaring $m$, we can assign different indices:\n",
    "\n",
    "$$\n",
    " \\boxed{\\mathcal{H}_\\text{eff} = -kT\\log \\left(\\sqrt{\\frac{2\\pi \\sigma^2 k T}{ N}}\\right) -   J \\sum _{i=1}^N s_i s_{i+1}- \\left(\\sum_{i = 1}^N s_i\\right) \\left(\\sum_{j = 1}^N s_j\\right) \\frac{  \\sigma ^2}{2 N} }\n",
    "$$"
   ]
  },
  {
   "cell_type": "markdown",
   "metadata": {},
   "source": [
    "And now we have something that fits the form:\n",
    "\n",
    "$$\n",
    "\\mathcal{H}_{\\mathrm{eff}}=-c\\left(\\sum_{i=1}^N s_i\\right)\\left(\\sum_{j=1}^N s_j\\right)-J \\sum_{i=1}^N s_i s_{i+1}+f(T)\n",
    "$$"
   ]
  },
  {
   "cell_type": "markdown",
   "metadata": {},
   "source": []
  },
  {
   "cell_type": "markdown",
   "metadata": {},
   "source": [
    "where $f(T) = -kT\\log \\left(\\sqrt{\\frac{2\\pi \\sigma^2 k T}{ N}}\\right)$ and $c = \\frac{\\sigma^2}{2N}$."
   ]
  },
  {
   "cell_type": "markdown",
   "metadata": {},
   "source": [
    "## 3b:\n",
    "\n",
    "This effective potential implies infinite-range interactions because the coupling term takes into account the orientation of _any_ two magnets in the system, regardless of how far apart they are. As $N \\to \\infty$, this range becomes effectively infinite. "
   ]
  },
  {
   "cell_type": "markdown",
   "metadata": {},
   "source": [
    "## 3c:\n",
    "\n",
    "Effectively we are evaluating:\n",
    "\n",
    "$$\n",
    "Z_N(B, T) = \\exp \\left[-\\beta \\frac{ N B^2}{2\\sigma^2}\\right] Z_\\text{Ising}\n",
    "$$"
   ]
  },
  {
   "cell_type": "markdown",
   "metadata": {},
   "source": [
    "Where $Z_\\text{Ising} = \\lambda_{+}^N =\\left[\\cosh (\\beta  B) e^{\\beta  J} + \\left(\\sinh ^2(\\beta  B) e ^{2 \\beta  J}+e^{-2 \\beta  J}\\right)^{1/2}\\right]^N$"
   ]
  },
  {
   "cell_type": "markdown",
   "metadata": {},
   "source": [
    "Enough messing around. Let's take the log:\n",
    "\n",
    "$$\n",
    "A(B, T) = -kT \\log Z_N(B, T) \\\\\n",
    "= -kT \\log \\left(\\exp \\left[-\\beta \\frac{ N B^2}{2\\sigma^2}\\right] Z_\\text{Ising}\\right) \\\\\n",
    "= -kT \\log \\left(\\exp \\left[-\\beta \\frac{ N B^2}{2\\sigma^2}\\right] \\left[\\cosh (\\beta  B) e^{\\beta  J} + \\left(\\sinh ^2(\\beta  B) e ^{2 \\beta  J}+e^{-2 \\beta  J}\\right)^{1/2}\\right]^N\\right)\n",
    "$$"
   ]
  },
  {
   "cell_type": "markdown",
   "metadata": {},
   "source": [
    "Nice to see a log of an exp in there. Let's see how we can simplify this:\n",
    "\n",
    "$$\n",
    "A(B, T) = -kT (-\\beta) \\left(\\frac{N \\beta^2}{2 \\sigma^2}\\right) - kT \\log \\left(\\left[\\cosh (\\beta  B) e^{\\beta  J} + \\left(\\sinh ^2(\\beta  B) e ^{2 \\beta  J}+e^{-2 \\beta  J}\\right)^{1/2}\\right]^N \\right)\n",
    "$$"
   ]
  },
  {
   "cell_type": "markdown",
   "metadata": {},
   "source": [
    "The $\\beta$ and $kT$ go the way of the Calico Cats and the Gingham Dogs on the first term:\n",
    "\n",
    "$$\n",
    "A(B, T) =  \\left(\\frac{N \\beta^2}{2 \\sigma^2}\\right) - kT \\log \\left(\\left[\\cosh (\\beta  B) e^{\\beta  J} + \\left(\\sinh ^2(\\beta  B) e ^{2 \\beta  J}+e^{-2 \\beta  J}\\right)^{1/2}\\right]^N \\right)\n",
    "$$"
   ]
  },
  {
   "cell_type": "markdown",
   "metadata": {},
   "source": [
    "Now replace every $\\beta$ with $\\frac{1}{kT}$:\n",
    "\n",
    "$$\n",
    "A(B, T) =  \\left(\\frac{N }{2 \\sigma^2 k^2 T^2}\\right) - kT \\log \\left(\\left[\\cosh \\left(\\frac{B}{kT}\\right) e^{J/(kT)} + \\left(\\sinh ^2\\left(\\frac{B}{kT}\\right) e ^{2 J/(kT)}+e^{-2J/(kT)}\\right)^{1/2}\\right]^N \\right)\n",
    "$$"
   ]
  },
  {
   "cell_type": "markdown",
   "metadata": {},
   "source": [
    "That's better. And now use that $\\log a^n = n\\log a$:\n",
    "\n",
    "$$\n",
    "\\boxed{A(B, T) =  \\left(\\frac{N }{2 \\sigma^2 k^2 T^2}\\right) - NkT \\log \\left(\\left[\\cosh \\left(\\frac{B}{kT}\\right) e^{J/(kT)} + \\left(\\sinh ^2\\left(\\frac{B}{kT}\\right) e ^{2 J/(kT)}+e^{-2J/(kT)}\\right)^{1/2}\\right] \\right)}\n",
    "$$"
   ]
  },
  {
   "cell_type": "markdown",
   "metadata": {},
   "source": [
    " And I think I'm gonna leave it at that. "
   ]
  }
 ],
 "metadata": {
  "kernelspec": {
   "display_name": "Python 3 (ipykernel)",
   "language": "python",
   "name": "python3"
  },
  "language_info": {
   "codemirror_mode": {
    "name": "ipython",
    "version": 3
   },
   "file_extension": ".py",
   "mimetype": "text/x-python",
   "name": "python",
   "nbconvert_exporter": "python",
   "pygments_lexer": "ipython3",
   "version": "3.12.2"
  }
 },
 "nbformat": 4,
 "nbformat_minor": 4
}
