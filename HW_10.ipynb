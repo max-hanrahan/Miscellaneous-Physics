{
 "cells": [
  {
   "cell_type": "markdown",
   "id": "67ca5141-5931-410a-b586-90ab879f815f",
   "metadata": {},
   "source": [
    "## 1a:\n",
    "In the case of $B = 0$,our partition function becomes:\n",
    "\n",
    "$$\n",
    "z = \\sum_{s_0 =\\pm 1}g_n(s_0)^q\n",
    "$$"
   ]
  },
  {
   "cell_type": "markdown",
   "id": "e89ece80-a8cc-4841-8320-9a59569d6499",
   "metadata": {},
   "source": [
    "Which is an easy enough function to expand:\n",
    "\n",
    "$$\n",
    "z = g_n(1)^q + g_n(-1)^q\n",
    "$$"
   ]
  },
  {
   "cell_type": "markdown",
   "id": "94dfeb13-a5de-4e66-ae58-4f34b837c483",
   "metadata": {},
   "source": [
    "Now let $x = g_n(-1)/g_n(1) = 1$. Then $g_n(1) = g_n(-1)$, and the two contributions to our partition functions are the same. \n",
    "\n",
    "The partition function represents the entire probability space, and the space contributed by $s_0 = 1$ and $s_0 = -1$ are the same. Since they balance each other, and this is the $n \\to \\infty$ limit, the contribution to the spin up state and spin down state balance, and therefore, the net magnetization must be zero. \n",
    "\n",
    "Now let's examine the ratio again:\n",
    "\n",
    "$$x = \\frac{g_n(-1)}{g_n(+1)}$$"
   ]
  },
  {
   "cell_type": "markdown",
   "id": "1e57c012-8ad3-40d0-9300-74db4e741f74",
   "metadata": {},
   "source": [
    "Above $T_c$ of course the net magnetization _must_ be zero. But below that, this ratio effectively quantifies the weight of the down state compared to the weight of the up state. So when the up state becomes significantly more likely, this ratio **becomes less than one**. "
   ]
  },
  {
   "cell_type": "markdown",
   "id": "822a6d9b-a9da-4e1d-b60b-e9b84f9e101f",
   "metadata": {},
   "source": [
    "## 1b:\n",
    "\n",
    "Here's our recursion relation:\n",
    "\n",
    "$$\n",
    "x = \\frac{e^{\\beta (B - J)} + e^{-\\beta (B - J)} x^{q-1}}{e^{\\beta (B + J)} + e^{-\\beta (B + J)} x^{q-1}}\n",
    "$$"
   ]
  },
  {
   "cell_type": "markdown",
   "id": "ec28b53c-6e2f-4e7b-850f-e67120d17fad",
   "metadata": {},
   "source": [
    "In the $B = 0$ case, this becomes:\n",
    "\n",
    "$$x = \\frac{e^{-\\beta  J} + e^{\\beta  J} x^{q-1}}{e^{\\beta  J} + e^{-\\beta  J} x^{q-1}}$$\n"
   ]
  },
  {
   "cell_type": "markdown",
   "id": "c06fe4f9-1d46-4c7c-b13a-22847e87ddda",
   "metadata": {},
   "source": [
    "So the LHS is $x$, and the RHS recursively depends on $x$. So one way we can solve this is to take the derivative with respect to $x$ on both sides. \n",
    "\n",
    "On the LHS, this _must_ be $1$. What will the RHS give us? I'll use sympy (like Mathematica) to do my algebra for me:"
   ]
  },
  {
   "cell_type": "code",
   "execution_count": 61,
   "id": "22c180e1-d332-4336-8990-73199feaa1ac",
   "metadata": {},
   "outputs": [
    {
     "data": {
      "text/latex": [
       "$\\displaystyle \\frac{x^{q - 1} e^{J \\beta} + e^{- J \\beta}}{x^{q - 1} e^{- J \\beta} + e^{J \\beta}}$"
      ],
      "text/plain": [
       "(x**(q - 1)*exp(J*beta) + exp(-J*beta))/(x**(q - 1)*exp(-J*beta) + exp(J*beta))"
      ]
     },
     "execution_count": 61,
     "metadata": {},
     "output_type": "execute_result"
    }
   ],
   "source": [
    "from sympy import symbols, exp, Eq, diff, solve, simplify\n",
    "x, beta, J, q = symbols('x beta J q')\n",
    "\n",
    "lhs = x\n",
    "rhs = (exp(-beta * J) + exp(beta * J) * x**(q - 1)) / (exp(beta * J) + exp(-beta * J) * x**(q - 1))\n",
    "rhs"
   ]
  },
  {
   "cell_type": "markdown",
   "id": "5485433e-8989-4074-9741-c8e4222de8a6",
   "metadata": {},
   "source": [
    "(Just getting the RHS written out as sympy)"
   ]
  },
  {
   "cell_type": "code",
   "execution_count": 62,
   "id": "7322c284-dbc3-47fe-bba5-cf04216d9f67",
   "metadata": {},
   "outputs": [
    {
     "data": {
      "text/latex": [
       "$\\displaystyle x = \\frac{x^{q - 1} e^{J \\beta} + e^{- J \\beta}}{x^{q - 1} e^{- J \\beta} + e^{J \\beta}}$"
      ],
      "text/plain": [
       "Eq(x, (x**(q - 1)*exp(J*beta) + exp(-J*beta))/(x**(q - 1)*exp(-J*beta) + exp(J*beta)))"
      ]
     },
     "execution_count": 62,
     "metadata": {},
     "output_type": "execute_result"
    }
   ],
   "source": [
    "equation = Eq(lhs, rhs)\n",
    "equation"
   ]
  },
  {
   "cell_type": "markdown",
   "id": "339bbc13-6240-4fa3-a58c-33aee3ff3b73",
   "metadata": {},
   "source": [
    "The above is our recursion equation. Let's differentiate the RHS..."
   ]
  },
  {
   "cell_type": "code",
   "execution_count": 51,
   "id": "7bb1e906-c6b8-404a-866b-021edc487629",
   "metadata": {},
   "outputs": [
    {
     "data": {
      "text/latex": [
       "$\\displaystyle \\frac{x^{q - 1} \\left(q - 1\\right) e^{J \\beta}}{x \\left(x^{q - 1} e^{- J \\beta} + e^{J \\beta}\\right)} - \\frac{x^{q - 1} \\left(q - 1\\right) \\left(x^{q - 1} e^{J \\beta} + e^{- J \\beta}\\right) e^{- J \\beta}}{x \\left(x^{q - 1} e^{- J \\beta} + e^{J \\beta}\\right)^{2}}$"
      ],
      "text/plain": [
       "x**(q - 1)*(q - 1)*exp(J*beta)/(x*(x**(q - 1)*exp(-J*beta) + exp(J*beta))) - x**(q - 1)*(q - 1)*(x**(q - 1)*exp(J*beta) + exp(-J*beta))*exp(-J*beta)/(x*(x**(q - 1)*exp(-J*beta) + exp(J*beta))**2)"
      ]
     },
     "execution_count": 51,
     "metadata": {},
     "output_type": "execute_result"
    }
   ],
   "source": [
    "rhs_derivative = diff(rhs, x)\n",
    "rhs_derivative"
   ]
  },
  {
   "cell_type": "markdown",
   "id": "c08db672-3de8-4a50-8876-6bb6ee19d01f",
   "metadata": {},
   "source": [
    "And then substitue $x = 1$, which, as we argued before, is the case for a net zero magnetization at $B = 0$. "
   ]
  },
  {
   "cell_type": "code",
   "execution_count": 65,
   "id": "00a71346-8f1c-4b42-a466-4488f494a21e",
   "metadata": {},
   "outputs": [
    {
     "data": {
      "text/latex": [
       "$\\displaystyle \\frac{\\left(q - 1\\right) e^{J \\beta}}{e^{J \\beta} + e^{- J \\beta}} - \\frac{\\left(q - 1\\right) e^{- J \\beta}}{e^{J \\beta} + e^{- J \\beta}}$"
      ],
      "text/plain": [
       "(q - 1)*exp(J*beta)/(exp(J*beta) + exp(-J*beta)) - (q - 1)*exp(-J*beta)/(exp(J*beta) + exp(-J*beta))"
      ]
     },
     "execution_count": 65,
     "metadata": {},
     "output_type": "execute_result"
    }
   ],
   "source": [
    "rhs_deriv_simp = rhs_derivative.subs(x, 1)\n",
    "rhs_deriv_simp"
   ]
  },
  {
   "cell_type": "markdown",
   "id": "12fc7c5e-6e0e-49e3-9a9f-f898effe9d11",
   "metadata": {},
   "source": [
    "Then set our RHS derivative equal to 1, and solve for $\\beta_c$:"
   ]
  },
  {
   "cell_type": "code",
   "execution_count": 66,
   "id": "1d6e7ba5-c037-41dd-ac67-9b5da8ae272e",
   "metadata": {},
   "outputs": [],
   "source": [
    "eqn = Eq(rhs_deriv_simp, 1)\n",
    "beta_c = solve(eqn, beta)[0]"
   ]
  },
  {
   "cell_type": "markdown",
   "id": "3b5214e5-9fbd-43b4-ab6c-7a7a3fb46539",
   "metadata": {},
   "source": [
    "Then we can report the critical temperature $kT_c$ as $1/\\beta$:"
   ]
  },
  {
   "cell_type": "code",
   "execution_count": 69,
   "id": "4f4ce3fd-54c5-4bee-8ff2-8b72643c3ea9",
   "metadata": {},
   "outputs": [
    {
     "data": {
      "text/latex": [
       "$\\displaystyle \\frac{J}{\\log{\\left(- \\sqrt{\\frac{q}{q - 2}} \\right)}}$"
      ],
      "text/plain": [
       "J/log(-sqrt(q/(q - 2)))"
      ]
     },
     "execution_count": 69,
     "metadata": {},
     "output_type": "execute_result"
    }
   ],
   "source": [
    "simplify(1/beta_c)"
   ]
  },
  {
   "cell_type": "markdown",
   "id": "61238f12-d3d0-483a-b305-2e19e538f197",
   "metadata": {},
   "source": [
    "Which is, by algebra, identical to:"
   ]
  },
  {
   "cell_type": "markdown",
   "id": "2159c344-fed8-434d-8821-88e7d1fe7382",
   "metadata": {},
   "source": [
    "$$\n",
    "kT_c =\\frac{2J}{\\ln(\\frac{-q}{q - 2})}\n",
    "$$"
   ]
  },
  {
   "cell_type": "markdown",
   "id": "d9471a25-144a-4b42-926e-6edd32522b61",
   "metadata": {},
   "source": [
    "Ugh. Minus signs are the worst. "
   ]
  },
  {
   "cell_type": "markdown",
   "id": "498e24d7-68ab-45dc-91aa-c68a4f70986c",
   "metadata": {},
   "source": [
    "## 1c:\n",
    "\n",
    "Now let's pretend I got the answer right:\n",
    "\n",
    "$$\n",
    "kT_c =\\frac{2J}{\\ln(\\frac{q}{q - 2})}\n",
    "$$"
   ]
  },
  {
   "cell_type": "markdown",
   "id": "d023b35b-0320-412e-998e-7ff9aca82af5",
   "metadata": {},
   "source": [
    "Now let's show that as $q \\to \\infty$, this scales by $J(q-1)$.\n",
    "\n",
    "### plot version:"
   ]
  },
  {
   "cell_type": "code",
   "execution_count": 95,
   "id": "a50c0a7c-fadb-4b85-8c6f-9e983d416810",
   "metadata": {
    "scrolled": true
   },
   "outputs": [
    {
     "name": "stderr",
     "output_type": "stream",
     "text": [
      "/var/folders/hq/lnf00brj77b5d2m5m3ftbyvr0000gn/T/ipykernel_14087/1929582645.py:2: RuntimeWarning: invalid value encountered in log\n",
      "  return 2/(np.log((q)/(q-2)))\n"
     ]
    },
    {
     "data": {
      "text/plain": [
       "Text(0.5, 0, 'Number of branches $q$')"
      ]
     },
     "execution_count": 95,
     "metadata": {},
     "output_type": "execute_result"
    },
    {
     "data": {
      "image/png": "[encoded data removed]",
      "text/plain": [
       "<Figure size 640x480 with 1 Axes>"
      ]
     },
     "metadata": {},
     "output_type": "display_data"
    }
   ],
   "source": [
    "def KTc_over_J(q):\n",
    "    return 2/(np.log((q)/(q-2)))\n",
    "\n",
    "def hi_q_approx(q):\n",
    "    return q-1\n",
    "\n",
    "q = np.linspace(0.1, 5, 100)\n",
    "\n",
    "plt.plot(q, KTc_over_J(q), label = \"exact solution\",)\n",
    "plt.plot(q, hi_q_approx(q), label = r\"hi-$q$ approximation\")\n",
    "plt.legend()\n",
    "plt.ylabel(r\"Dimensionless critical temeperature $\\frac{kT_c}{J}$\")\n",
    "plt.xlabel(r\"Number of branches $q$\")"
   ]
  },
  {
   "cell_type": "code",
   "execution_count": null,
   "id": "b784aec4-b614-473d-858e-52536f4ff4c6",
   "metadata": {},
   "outputs": [],
   "source": []
  },
  {
   "cell_type": "markdown",
   "id": "34a26d01-ac13-4795-82b6-488d05762bd6",
   "metadata": {},
   "source": [
    "## 2:\n",
    "\n",
    "In an ideal Bose Gas, we found that \n",
    "\n",
    "$$\n",
    "n_0 = 1 - \\left(T / T_c\\right)^{3/2}\n",
    "$$\n",
    "\n",
    "Now we can make the substitution $\\bar T = (T/T_c)^{3/2} = \\epsilon +1$ where $\\epsilon  =  \\frac{T - T_c}{T_c}$. \n",
    "\n",
    "Thus, we can recast our formula for $n_0$ as:\n",
    "\n",
    "$$\n",
    "n_0 = 1 - (\\epsilon +1)^{3/2}\n",
    "$$\n",
    "\n",
    "and then we Taylor expand, using that $(1 + x)^n \\approx 1 +nx$:\n",
    "\n",
    "$$\n",
    "n_0 \\approx 1 - \\left(1 + \\frac{3}{2} \\epsilon \\right)\n",
    "$$\n",
    "\n",
    "and at last we see:\n",
    "\n",
    "$$\n",
    "n_0 \\simeq \\mathcal{O}(-\\epsilon),\n",
    "$$\n",
    "\n",
    "and therefore, $\\beta = 1$."
   ]
  },
  {
   "cell_type": "markdown",
   "id": "36796b3f-50fe-4e7d-943c-2d932d05b2be",
   "metadata": {},
   "source": [
    "## 3a:"
   ]
  },
  {
   "cell_type": "markdown",
   "id": "34d96e36-09b0-4a82-8b9c-8947064400b8",
   "metadata": {},
   "source": [
    "Previously, we found that \n",
    "\n",
    "$$\n",
    "\\mathcal{H}_{mf} = -B \\sum_{i} s_i - qJm \\sum_{i} s_i\n",
    "$$\n",
    "\n",
    "and when $B = 0$ we have:\n",
    "\n",
    "$$\n",
    "\\mathcal{H}_{mf} = - qJm \\sum_{i} s_i.\n",
    "$$\n",
    "\n",
    "Now as we've seen before, the sum over all spin states $s_i$ should be, on average, the total number of sites $N$ times the net magnetization $m$. Thus, \n",
    "\n",
    "$$\n",
    "\\boxed {\\langle \\mathcal{H}_{mf} \\rangle = -NqJm^2}\n",
    "$$\n"
   ]
  }
 ],
 "metadata": {
  "kernelspec": {
   "display_name": "Python 3 (ipykernel)",
   "language": "python",
   "name": "python3"
  },
  "language_info": {
   "codemirror_mode": {
    "name": "ipython",
    "version": 3
   },
   "file_extension": ".py",
   "mimetype": "text/x-python",
   "name": "python",
   "nbconvert_exporter": "python",
   "pygments_lexer": "ipython3",
   "version": "3.12.2"
  }
 },
 "nbformat": 4,
 "nbformat_minor": 5
}
