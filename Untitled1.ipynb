{
 "cells": [
  {
   "cell_type": "markdown",
   "id": "874db627-d207-48c9-abc4-ed40ed276ae9",
   "metadata": {},
   "source": [
    "We start from a property of generalized homogeneous functions:\n",
    "\n",
    "$$\n",
    "A(\\lambda^{a _\\epsilon} \\epsilon, \\lambda^{a_B} B) = \\lambda A(\\epsilon, B)\n",
    "$$\n",
    "\n",
    "In general, $C_v = - T \\frac{\\partial ^2 A}{\\partial T^2} = -\\frac{T}{T_c^2} \\frac{\\partial ^2 A}{\\partial \\epsilon^2}$ when we change variables.\n",
    "\n",
    "By homogeneity this means:\n",
    "\n",
    "$$\n",
    "-\\frac{T}{T_c^2} \\frac{\\partial ^2}{\\partial \\epsilon^2} (\\lambda A) = -\\frac{T}{T_c^2} \\frac{\\partial ^2}{\\partial \\epsilon^2} (\\lambda^{a _\\epsilon} \\epsilon, \\lambda^{a_B} B)\n",
    "$$\n",
    "\n",
    "which simplifies to \n",
    "\n",
    "$$\n",
    "\\lambda\n",
    "c_V(\\epsilon, B) = \\lambda^{2\\alpha_\\epsilon} c_V (\\lambda^{a _\\epsilon} \\epsilon, \\lambda^{a_B} B) \n",
    "$$\n",
    "\n",
    "and further still:\n",
    "\n",
    "$$\n",
    "c_V(\\epsilon, B) = \\lambda^{2\\alpha_\\epsilon -1} c_V (\\lambda^{a _\\epsilon} \\epsilon, \\lambda^{a_B} B).\n",
    "$$\n",
    "\n",
    "Now take $B = 0$, which must be true at criticality:\n",
    "\n",
    "\n",
    "$$\n",
    "c_V(\\epsilon) = \\lambda^{2\\alpha_\\epsilon -1} c_V (\\lambda^{a _\\epsilon } \\epsilon).\n",
    "$$"
   ]
  },
  {
   "cell_type": "markdown",
   "id": "177ae4ed-6970-4ab6-8d32-f757c9edcfe0",
   "metadata": {},
   "source": [
    "Now choose $\\lambda$ such that $\\lambda^{\\alpha_\\epsilon}\\epsilon = \\pm 1$. This means $\\lambda = (\\pm 1/\\epsilon)^{1/\\alpha_\\epsilon}$."
   ]
  },
  {
   "cell_type": "markdown",
   "id": "5935dee4-aeaa-43bd-84b1-d1f00afafa1d",
   "metadata": {},
   "source": [
    "Thus, \n",
    "\n",
    "$$\n",
    "c_V(\\epsilon) = \\left(\\pm \\frac{1}{\\epsilon}\\right)^{2 - 1/\\alpha_\\epsilon}c_V(\\pm 1)\n",
    "$$"
   ]
  },
  {
   "cell_type": "markdown",
   "id": "ff312ea0-7cef-43d8-9d37-54b96e195aaf",
   "metadata": {},
   "source": [
    "Now we see that regardless of whether we choose positive or negative $\\lambda$, we see that specific heat scales as:\n",
    "\n",
    "$$\n",
    "\\mathcal O((\\pm \\epsilon) ^ {\\frac{1}{\\alpha_\\epsilon} - 2}).\n",
    "$$\n",
    "\n",
    "Thus, we have our critical exponent: $$\\boxed{\\alpha = 2 - {\\frac{1}{\\alpha_\\epsilon}}}$$\n",
    "\n",
    "and the clever thing is that this works for both positive and negative $\\lambda$. Thus, this holds regardless of whether we are above or below the critical temperature, and thus, $\\boxed {\\alpha = \\alpha ^{\\prime}}$. "
   ]
  },
  {
   "cell_type": "markdown",
   "id": "2134e278-6c1f-433b-a7ed-665944e0611b",
   "metadata": {},
   "source": [
    "and we can rewrite $$\\alpha^{\\prime} = \\frac{2\\alpha_\\epsilon - 1}{\\alpha_\\epsilon}$$"
   ]
  },
  {
   "cell_type": "markdown",
   "id": "41ccae2c-3bf3-44c2-852b-36fca5f4487c",
   "metadata": {},
   "source": [
    "Thus, when we evaluate\n",
    "\n",
    "$$\n",
    "\\alpha^{\\prime} + 2 \\beta + \\gamma ^{\\prime}\n",
    "$$\n",
    "\n",
    "we have:\n",
    "\n",
    "$$\n",
    " \\frac{2\\alpha_\\epsilon - 1}{\\alpha_\\epsilon} + 2\\left(\\frac{1 - \\alpha_\\beta}{\\alpha_\\epsilon}\\right) + \\frac{2 \\alpha_B - 1}{\\alpha_\\epsilon}\n",
    "$$"
   ]
  },
  {
   "cell_type": "markdown",
   "id": "11f56664-1198-4073-a6da-fa35b45f63aa",
   "metadata": {},
   "source": [
    "Which reduces to $\n",
    "\\frac{2\\alpha_\\epsilon}{\\alpha_\\epsilon} = 2\n",
    "$ as desired. "
   ]
  },
  {
   "cell_type": "code",
   "execution_count": null,
   "id": "6f831d0d-23f3-4ea7-9050-fb6ec788ab20",
   "metadata": {},
   "outputs": [],
   "source": []
  }
 ],
 "metadata": {
  "kernelspec": {
   "display_name": "Python 3 (ipykernel)",
   "language": "python",
   "name": "python3"
  },
  "language_info": {
   "codemirror_mode": {
    "name": "ipython",
    "version": 3
   },
   "file_extension": ".py",
   "mimetype": "text/x-python",
   "name": "python",
   "nbconvert_exporter": "python",
   "pygments_lexer": "ipython3",
   "version": "3.12.2"
  }
 },
 "nbformat": 4,
 "nbformat_minor": 5
}
