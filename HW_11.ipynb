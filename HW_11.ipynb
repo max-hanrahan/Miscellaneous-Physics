{
 "cells": [
  {
   "cell_type": "markdown",
   "id": "b182bc0e-bf7b-422b-9ffc-99b7f2c5b3d2",
   "metadata": {},
   "source": [
    "## 1a:"
   ]
  },
  {
   "cell_type": "markdown",
   "id": "08a88ffc-fee9-4723-8e35-922a3be6bbd5",
   "metadata": {},
   "source": [
    "We start from a property of generalized homogeneous functions:\n",
    "\n",
    "$$\n",
    "A(\\lambda^{a _\\epsilon} \\epsilon, \\lambda^{a_B} B) = \\lambda A(\\epsilon, B)\n",
    "$$\n",
    "\n",
    "In general, $C_v = - T \\frac{\\partial ^2 A}{\\partial T^2} = -\\frac{T}{T_c^2} \\frac{\\partial ^2 A}{\\partial \\epsilon^2}$ when we change variables.\n",
    "\n",
    "By homogeneity this means:\n",
    "\n",
    "$$\n",
    "-\\frac{T}{T_c^2} \\frac{\\partial ^2}{\\partial \\epsilon^2} (\\lambda A) = -\\frac{T}{T_c^2} \\frac{\\partial ^2}{\\partial \\epsilon^2} (\\lambda^{a _\\epsilon} \\epsilon, \\lambda^{a_B} B)\n",
    "$$\n",
    "\n",
    "which simplifies to \n",
    "\n",
    "$$\n",
    "\\lambda\n",
    "c_V(\\epsilon, B) = \\lambda^{2\\alpha_\\epsilon} c_V (\\lambda^{a _\\epsilon} \\epsilon, \\lambda^{a_B} B) \n",
    "$$\n",
    "\n",
    "and further still:\n",
    "\n",
    "$$\n",
    "c_V(\\epsilon, B) = \\lambda^{2\\alpha_\\epsilon -1} c_V (\\lambda^{a _\\epsilon} \\epsilon, \\lambda^{a_B} B).\n",
    "$$\n",
    "\n",
    "Now take $B = 0$, which must be true at criticality:\n",
    "\n",
    "\n",
    "$$\n",
    "c_V(\\epsilon) = \\lambda^{2\\alpha_\\epsilon -1} c_V (\\lambda^{a _\\epsilon } \\epsilon).\n",
    "$$"
   ]
  },
  {
   "cell_type": "markdown",
   "id": "9c874369-9773-4de3-9cfd-047bc5f4602c",
   "metadata": {},
   "source": [
    "Now choose $\\lambda$ such that $\\lambda^{\\alpha_\\epsilon}\\epsilon = \\pm 1$. This means $\\lambda = (\\pm 1/\\epsilon)^{1/\\alpha_\\epsilon}$."
   ]
  },
  {
   "cell_type": "markdown",
   "id": "1319ace5-f682-4be8-a130-eb23b1fd33ec",
   "metadata": {},
   "source": [
    "Thus, \n",
    "\n",
    "$$\n",
    "c_V(\\epsilon) = \\left(\\pm \\frac{1}{\\epsilon}\\right)^{2 - 1/\\alpha_\\epsilon}c_V(\\pm 1)\n",
    "$$"
   ]
  },
  {
   "cell_type": "markdown",
   "id": "5e84b7af-0adf-4d03-a6d1-9dbe9e5966bb",
   "metadata": {},
   "source": [
    "Now we see that regardless of whether we choose positive or negative $\\lambda$, we see that specific heat scales as:\n",
    "\n",
    "$$\n",
    "\\mathcal O((\\pm \\epsilon) ^ {\\frac{1}{\\alpha_\\epsilon} - 2}).\n",
    "$$\n",
    "\n",
    "Thus, we have our critical exponent: $$\\boxed{\\alpha = 2 - {\\frac{1}{\\alpha_\\epsilon}}}$$\n",
    "\n",
    "and the clever thing is that this works for both positive and negative $\\lambda$. Thus, this holds regardless of whether we are above or below the critical temperature, and thus, $\\boxed {\\alpha = \\alpha ^{\\prime}}$. "
   ]
  },
  {
   "cell_type": "markdown",
   "id": "b2103701-7b9b-41d1-a08c-63dfee7763e7",
   "metadata": {},
   "source": [
    "## b:\n",
    "\n",
    "Other exponents we've shown in class:\n",
    "\n",
    "$$\\beta = \\frac{1 - \\alpha_\\beta}{\\alpha_\\epsilon}$$\n",
    "\n",
    "$$\n",
    "\\gamma ^{\\prime} = \\frac{2 \\alpha_B - 1}{\\alpha_\\epsilon}\n",
    "$$"
   ]
  },
  {
   "cell_type": "markdown",
   "id": "9a02526d-0e90-4a3f-a070-b3e1bfb32993",
   "metadata": {},
   "source": [
    "and we can rewrite $$\\alpha^{\\prime} = \\frac{2\\alpha_\\epsilon - 1}{\\alpha_\\epsilon}$$"
   ]
  },
  {
   "cell_type": "markdown",
   "id": "42592509-a4f4-48b3-a7f7-42a9778523df",
   "metadata": {},
   "source": [
    "Thus, when we evaluate\n",
    "\n",
    "$$\n",
    "\\alpha^{\\prime} + 2 \\beta + \\gamma ^{\\prime}\n",
    "$$\n",
    "\n",
    "we have:\n",
    "\n",
    "$$\n",
    " \\frac{2\\alpha_\\epsilon - 1}{\\alpha_\\epsilon} + 2\\left(\\frac{1 - \\alpha_\\beta}{\\alpha_\\epsilon}\\right) + \\frac{2 \\alpha_B - 1}{\\alpha_\\epsilon}\n",
    "$$"
   ]
  },
  {
   "cell_type": "markdown",
   "id": "2435b2ae-7955-4d85-a2cc-4b183777ce94",
   "metadata": {},
   "source": [
    "Which reduces to $\\frac{2\\alpha_\\epsilon}{\\alpha_\\epsilon} = 2$ as desired. "
   ]
  },
  {
   "cell_type": "markdown",
   "id": "8816cf44-8648-4017-a0d0-81abf2d3ce8b",
   "metadata": {},
   "source": [
    "# 2:\n",
    "\n",
    "Consider an arbitrary time correlation function:\n",
    "\n",
    "$C_{AB}(t, \\tau) = \\langle A(\\tau + t) B(\\tau) \\rangle$. \n",
    "\n",
    "We have the constraint that $\\frac{dC_{AB}}{d\\tau} = 0$. "
   ]
  },
  {
   "cell_type": "markdown",
   "id": "e52967ea-b8cf-4eb6-a9ad-ec5e76603364",
   "metadata": {},
   "source": [
    "### a:\n",
    "\n",
    "Substituting in, we have\n",
    "\n",
    "\n",
    "$$\n",
    " \\frac{d}{d\\tau}\\langle A(\\tau + t) B(\\tau) \\rangle = 0\n",
    "$$\n",
    "\n",
    "So let's take the product rule:\n",
    "\n",
    "$$\n",
    " \\left\\langle \\frac{dA(\\tau + t)}{d\\tau} B(\\tau) \\right\\rangle +  \\left \\langle A(\\tau + t) \\frac{dB(\\tau)}{d\\tau} \\right \\rangle = 0\n",
    "$$\n",
    "\n",
    "and so in general:\n",
    "\n",
    "$$\n",
    "  \\left \\langle A(\\tau + t) \\frac{dB(\\tau)}{d\\tau} \\right \\rangle  = -\\left\\langle \\frac{dA(\\tau + t)}{d\\tau} B(\\tau) \\right\\rangle\n",
    "$$\n",
    "\n",
    "From which we can substitute $\\tau = 0$:\n",
    "\n",
    "$$\n",
    "  \\left \\langle A(t) \\frac{dB(0)}{d\\tau} \\right \\rangle  = -\\left\\langle \\frac{dA(t)}{d\\tau} B(0) \\right\\rangle.\n",
    "$$\n",
    "\n",
    "Now since no starting time is special, and we have only $\\tau$-dependence here (in the form of our derivatives), we can justify a change of variables $t\\to \\tau$:\n",
    "\n",
    "$$\n",
    " \\boxed{ \\left \\langle A(t) \\frac{dB(0)}{dt} \\right \\rangle  = -\\left\\langle \\frac{dA(t)}{dt} B(0) \\right\\rangle}\n",
    "$$\n",
    "\n",
    "as desired."
   ]
  },
  {
   "cell_type": "markdown",
   "id": "dc016b13-d59e-47fc-8ffa-99636a568bb8",
   "metadata": {},
   "source": [
    "### b:\n",
    "\n",
    "Using the above result, let $A= B$, and we have:\n",
    "\n",
    "$$\n",
    " \\left \\langle A(t) \\frac{dA(0)}{dt} \\right \\rangle  = -\\left\\langle \\frac{dA(t)}{dt} A(0) \\right\\rangle\n",
    "$$"
   ]
  },
  {
   "cell_type": "markdown",
   "id": "4dd944d8-ee39-4ec1-870f-434cf60fee54",
   "metadata": {},
   "source": [
    "But recall that by definition of the correlation function, this is:\n",
    "\n",
    "$$\n",
    "\\frac{\\langle \\delta A(t) \\delta A(0) \\rangle}{\\delta A ^2} = -\\frac{\\langle \\delta A(0) \\delta A(t) \\rangle}{\\delta A ^2}\n",
    "$$\n",
    "\n",
    "which means that the only solution is that \n",
    "$$\n",
    " \\boxed{\\left \\langle A(t) \\frac{dA(0)}{dt} \\right \\rangle  = -\\left\\langle \\frac{dA(t)}{dt} A(0) \\right\\rangle = 0}\n",
    "$$\n"
   ]
  }
 ],
 "metadata": {
  "kernelspec": {
   "display_name": "Python 3 (ipykernel)",
   "language": "python",
   "name": "python3"
  },
  "language_info": {
   "codemirror_mode": {
    "name": "ipython",
    "version": 3
   },
   "file_extension": ".py",
   "mimetype": "text/x-python",
   "name": "python",
   "nbconvert_exporter": "python",
   "pygments_lexer": "ipython3",
   "version": "3.12.2"
  }
 },
 "nbformat": 4,
 "nbformat_minor": 5
}
