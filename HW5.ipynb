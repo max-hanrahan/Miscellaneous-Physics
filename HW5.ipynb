{
 "cells": [
  {
   "cell_type": "code",
   "execution_count": 4,
   "id": "a2f31c5a-a6b8-48d3-b0d4-8ff4270acdf8",
   "metadata": {},
   "outputs": [],
   "source": [
    "import numpy as np\n",
    "from scipy.constants import hbar, m_e, k"
   ]
  },
  {
   "cell_type": "code",
   "execution_count": 5,
   "id": "faed699b-25f6-4810-a9c9-459ed1b9fcf1",
   "metadata": {},
   "outputs": [],
   "source": [
    "g = 2 # for all of these systems, we'll assume s = 1/2 -> g = 2"
   ]
  },
  {
   "cell_type": "code",
   "execution_count": 6,
   "id": "0c3bfbcb-2c69-4888-bd8a-db6510975188",
   "metadata": {},
   "outputs": [],
   "source": [
    "def fermi_energy(NoverV):\n",
    "    ef = ((hbar**2)/(2*m_e)) * ((6 * np.pi**2 / g)* NoverV)**(2/3)\n",
    "    return ef"
   ]
  },
  {
   "cell_type": "code",
   "execution_count": 7,
   "id": "730f36e4-9642-4acd-bb36-0a80b47745bf",
   "metadata": {},
   "outputs": [],
   "source": [
    "def joules_to_ev(energy):\n",
    "    return energy/1.60218e-19"
   ]
  },
  {
   "cell_type": "markdown",
   "id": "0536ac5c-4c04-4cef-997e-d9061e65e251",
   "metadata": {},
   "source": [
    "### a:"
   ]
  },
  {
   "cell_type": "markdown",
   "id": "877b0285-055b-4242-8a09-29fefe0a03f0",
   "metadata": {},
   "source": [
    "The density of copper in $kg/m^3$:\n",
    "\n",
    "$8960kg/m^3$, and the molar mass of copper is 63.546g/mol. From there we can figure out its number density:"
   ]
  },
  {
   "cell_type": "markdown",
   "id": "45877ce9-4ecb-4169-8563-9479a6dc14c4",
   "metadata": {},
   "source": [
    "$$\n",
    "\\frac{N}{V} = \\frac{8960kg/m^3 * (6.022 \\times 10^{23}/mol)}{63.546g/mol} = 8.5 \\times 10^{28} kg\n",
    "$$"
   ]
  },
  {
   "cell_type": "code",
   "execution_count": 8,
   "id": "46ce7575-aa75-4a1e-a4f5-4080f3b8f62f",
   "metadata": {},
   "outputs": [],
   "source": [
    "Cu_N_density = 8.49e28"
   ]
  },
  {
   "cell_type": "code",
   "execution_count": 9,
   "id": "211ea24c-3f56-40d9-9754-b7151fc0f1b2",
   "metadata": {},
   "outputs": [
    {
     "data": {
      "text/plain": [
       "7.04381300881383"
      ]
     },
     "execution_count": 9,
     "metadata": {},
     "output_type": "execute_result"
    }
   ],
   "source": [
    "joules_to_ev(fermi_energy(Cu_N_density)) # fermi energy in Joules"
   ]
  },
  {
   "cell_type": "code",
   "execution_count": 10,
   "id": "be2a4cb8-d6ba-410d-a4bf-d56069444871",
   "metadata": {},
   "outputs": [
    {
     "data": {
      "text/plain": [
       "81740.22743261568"
      ]
     },
     "execution_count": 10,
     "metadata": {},
     "output_type": "execute_result"
    }
   ],
   "source": [
    "fermi_energy(Cu_N_density)/k # fermi Temperature in Kelvin"
   ]
  },
  {
   "cell_type": "markdown",
   "id": "b4bc9273-541f-46d4-a553-28eb56c7b483",
   "metadata": {},
   "source": [
    "### b:\n",
    "Now what's $N/V$ for a mercury nucleus of this particular isotope? Well, if I type \"volume of a mercury nucleus\" into Wolfram Alpha, it tells me $1.41 \\times 10^7$ pm^3, or $1.41 \\times 10^{29}$m^3 . And that's 200 total nucleons. So N/V = "
   ]
  },
  {
   "cell_type": "code",
   "execution_count": 11,
   "id": "e8140c34-5d52-4ed0-9136-c934372738da",
   "metadata": {},
   "outputs": [],
   "source": [
    "Hg_N_over_V = 200/(1.41* 10**(-29))"
   ]
  },
  {
   "cell_type": "code",
   "execution_count": 12,
   "id": "05e31da0-167f-4b8b-9b6c-5f7583794033",
   "metadata": {},
   "outputs": [
    {
     "data": {
      "text/plain": [
       "213.66986722141922"
      ]
     },
     "execution_count": 12,
     "metadata": {},
     "output_type": "execute_result"
    }
   ],
   "source": [
    "joules_to_ev(fermi_energy(Hg_N_over_V)) # fermi energy in Joules"
   ]
  },
  {
   "cell_type": "code",
   "execution_count": 13,
   "id": "19043d77-6216-4583-9d1a-0c9118f41f5e",
   "metadata": {},
   "outputs": [
    {
     "data": {
      "text/plain": [
       "2479541.0554370694"
      ]
     },
     "execution_count": 13,
     "metadata": {},
     "output_type": "execute_result"
    }
   ],
   "source": [
    "fermi_energy(Hg_N_over_V)/k # fermi temperature in Kelvin"
   ]
  },
  {
   "cell_type": "markdown",
   "id": "f6028d65-a87d-4216-a648-068e6eaee09c",
   "metadata": {},
   "source": [
    "🥵"
   ]
  },
  {
   "cell_type": "markdown",
   "id": "719c6c1d-fb95-457c-8869-b425a6d0aabd",
   "metadata": {},
   "source": [
    "### c:\n",
    "Lastly, I'll assume that for these Helium atoms, $N/V$ is the inverse of the average volume of one such atom. \n"
   ]
  },
  {
   "cell_type": "code",
   "execution_count": 14,
   "id": "6c16fb53-1bdc-4d01-b16b-280a2321973e",
   "metadata": {},
   "outputs": [],
   "source": [
    "liq_He_dens = 1/(46.2) * 1e30 # get in inverse cubic meters"
   ]
  },
  {
   "cell_type": "code",
   "execution_count": 16,
   "id": "0bf995b3-9359-41fa-ad59-7ef9355bdc16",
   "metadata": {},
   "outputs": [
    {
     "data": {
      "text/plain": [
       "2.832096459571869"
      ]
     },
     "execution_count": 16,
     "metadata": {},
     "output_type": "execute_result"
    }
   ],
   "source": [
    "joules_to_ev(fermi_energy(liq_He_dens))"
   ]
  },
  {
   "cell_type": "code",
   "execution_count": 17,
   "id": "54352ff6-06cc-433d-8dec-54c760969e90",
   "metadata": {},
   "outputs": [
    {
     "data": {
      "text/plain": [
       "32865.18373313461"
      ]
     },
     "execution_count": 17,
     "metadata": {},
     "output_type": "execute_result"
    }
   ],
   "source": [
    "fermi_energy(liq_He_dens)/k"
   ]
  }
 ],
 "metadata": {
  "kernelspec": {
   "display_name": "Python 3 (ipykernel)",
   "language": "python",
   "name": "python3"
  },
  "language_info": {
   "codemirror_mode": {
    "name": "ipython",
    "version": 3
   },
   "file_extension": ".py",
   "mimetype": "text/x-python",
   "name": "python",
   "nbconvert_exporter": "python",
   "pygments_lexer": "ipython3",
   "version": "3.12.2"
  }
 },
 "nbformat": 4,
 "nbformat_minor": 5
}
