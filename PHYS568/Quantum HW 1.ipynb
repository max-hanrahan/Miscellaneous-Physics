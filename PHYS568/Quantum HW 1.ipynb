{
 "cells": [
  {
   "cell_type": "markdown",
   "id": "daee997d-b4a7-4add-8716-9a935b928461",
   "metadata": {},
   "source": [
    "## 1:\n",
    "\n",
    "Our goal is to show that the stationary phase formula:\n",
    "\n",
    "$$\n",
    "\\int_{-\\infty}^{\\infty}e^{ig(x)}dx \\approx \\sqrt{\\frac{2 \\pi i}{g^{\\prime \\prime} (x_0)}}e^{i g(x_0)}\n",
    "$$\n",
    "\n",
    "is *exact* if $g(x)$ is a quadratic polynomial with real coefficients $a$, $b$, $c$. We'll derive a handy formula along the way. \n",
    "\n",
    "To begin, let's substitute $g(x) = ax^2 + bx +c$:\n",
    "$$\n",
    "\\begin{aligned}\n",
    "& \\int_{-\\infty}^{\\infty} \\exp \\left\\{i\\left(a x^2+b x+c\\right)\\right\\} d x\n",
    "\\end{aligned}\n",
    "$$\n",
    "We can massage this by completing the square:\n",
    "$$\n",
    "\\begin{aligned}\n",
    "= \\int_{-\\infty}^\\infty \\exp \\left\\{i\\left[a\\left(x+\\frac{b}{2 a}\\right)^2+c-\\frac{b^2}{2 a}\\right\\} d x\\right.\n",
    "& =\\exp \\left\\{i [ c - \\frac { b ^ { 2 } } { 2 a } ] \\left\\{\\int_{-\\infty}^{\\infty} \\exp \\left\\{a_i\\left(x+\\frac{b}{2 a}\\right)^2\\right\\}\\right.\\right. \\\\\n",
    "\\end{aligned}\n",
    "$$\n",
    "\n",
    "We can then use what we know about Gaussian integrals: $\\int_{-\\infty}^{\\infty} e^{-a(x+b)^2} d x=\\sqrt{\\frac{\\pi}{a}}$:\n",
    "$$\n",
    " =\\exp \\left\\{i\\left[c-\\frac{b^2}{2 a}\\right]\\right\\} \\sqrt{\\frac{\\pi}{-a_i}} \\\\\n",
    "=\\exp \\left\\{i\\left[c-\\frac{b^2}{2 a}\\right]\\right\\} \\sqrt{\\frac{\\pi}{|a|}} \\frac{1}{\\sqrt{-\\operatorname{sgn}(a) i}}  \\\\\n",
    "=\\exp \\left\\{i [ c - \\frac { b ^ { 2 } } { 2 a } ] \\left\\}\\sqrt{\\frac{\\pi}{|a|}} \\exp \\left\\{ i \\frac{\\pi}{4} \\operatorname{sgn}(a)\\right\\}\\right.\\right.\n",
    "$$\n",
    "\n",
    "$$\n",
    "\\begin{aligned}\n",
    "& =\\sqrt{\\frac{\\pi}{|a|}} \\exp \\left\\{i\\left[c-\\frac{b^2}{2 a}+\\frac{\\pi}{4} \\operatorname{sgn}(a)\\right]\\right\\} \\\\\n",
    "\\end{aligned}\n",
    "$$\n",
    "\n",
    "\n",
    "In order to proceed, we will use the stationary phase approximation to evaluate the original expression and see that they are the same.  We know $g(x)$ is a quadratic polynomial so it must have only one extreme point at $x = -\\frac{b}{2a}$. So then:\n",
    "\n",
    "\n"
   ]
  },
  {
   "cell_type": "markdown",
   "id": "df9d79e0",
   "metadata": {},
   "source": [
    "$$\n",
    "\\begin{aligned}\n",
    "& g^{\\prime \\prime}\\left(x=-\\frac{b}{2 a}\\right)=2 a \\quad \\text{and} \\quad \\operatorname{sgn}\\left[g^{\\prime \\prime}\\left(x=-\\frac{b}{2 a}\\right)\\right]=\\operatorname{sgn}(a) \\\\\n",
    "\\end{aligned}\n",
    "$$\n",
    "Which means, according to the stationary phase formula:\n",
    "$$\n",
    "\\begin{aligned}\n",
    "& \\sqrt{\\frac{2 \\pi}{2|a|}} \\exp \\left\\{i\\left[a\\left(-\\frac{b}{2 a}\\right)^2+b\\left(-\\frac{b}{2 a}\\right)+c\\right]\\right\\} \\exp \\left\\{i \\frac{\\pi}{4} \\operatorname{sgn}(a)\\right\\} \\\\\n",
    "= & \\sqrt{\\frac{\\pi}{|a|}} \\exp \\left\\{i\\left[\\frac{b^2}{4 a}-\\frac{b^2}{2 a}+c\\right]\\right\\} \\exp \\left\\{i \\frac{\\pi}{4} \\operatorname{sgn}(a)\\right\\} \\\\\n",
    "= & \\sqrt{\\frac{\\pi}{|a|}} \\exp \\left\\{i\\left[c-\\frac{b^2}{4 a}+\\frac{\\pi}{4} \\operatorname{sgn}(a)\\right]\\right\\}\n",
    "\\end{aligned}\n",
    "$$\n",
    "\n",
    "This is identical to the previous expression we found, and therefore completes the proof. "
   ]
  },
  {
   "cell_type": "markdown",
   "id": "43f9e9ae-c73b-4924-857b-92c11e4335ba",
   "metadata": {},
   "source": [
    "## 2:\n",
    "\n",
    "Expand the $a$-periodic sawtooth function into a Fourier series. \n",
    "\n",
    "We start with:\n",
    "\n",
    "$$\n",
    "\\sigma_a(x) = n + 1 - \\frac{x}{a}, \\quad n < \\frac{x}{a} < n + 1, \\quad n = \\infty, ..., \\infty\n",
    "$$\n",
    "\n",
    "Of course this function has the property:\n",
    "\n",
    "$$\n",
    "\\sigma_a(x+a) = \\sigma_a(x)\n",
    "$$\n",
    "\n",
    "Following example 1.5 in the book, we first notice that since the function has a period of $a$, \n",
    "\n",
    "$$\n",
    "f_m = \\frac{1}{a} \\int_{-a/2}^{a/2} e^{-2\\pi i m x/a} \\sigma_a(x) dx\n",
    "$$\n",
    "\n",
    "where $f_m$ are the unweighted components of the Fourier sum, i.e.:\n",
    "\n",
    "$$\n",
    "f(x) = \\sum_{m =-\\infty}^{\\infty} f_m   e^{2\\pi i m x/a}\n",
    "$$\n",
    "\n",
    "It is advisible to break up this integral into two, one with positive and one with negative bounds, due to the discontinuous point in the middle:\n",
    "\n",
    "$$\n",
    "f_m = \\frac{1}{a} \\int_{-a/2}^{0 } e^{-2\\pi i m x/a} \\left(-\\frac{x}{a}\\right) dx + \\frac{1}{a} \\int_{0}^{a/2} e^{-2\\pi i m x/a}\\left(1-\\frac{x}{a}\\right) dx\n",
    "$$\n",
    "\n",
    "\n",
    "So first let's evaluate $f_0$:\n",
    "\n",
    "$$\n",
    "\\begin{aligned}\n",
    "f_0 &= \\frac{1}{a} \\int_{-a/2}^{0 } \\left(-\\frac{x}{a}\\right) dx + \\frac{1}{a} \\int_{0}^{a/2} \\left(1-\\frac{x}{a}\\right) dx \\\\\n",
    "&= \\frac{1}{a^2} \\int_0^{a/2}x dx + \\frac{1}{a} \\int_{0}^{a/2} \\left(1-\\frac{x}{a}\\right) dx \\\\\n",
    "&= \\frac{1}{a^2} \\left[\\frac{1}{2}x^2\\right]_0^{a/2} + \\frac{1}{a} \\left[x - \\frac{x^2}{2a}\\right]_0^{a/2} \\\\\n",
    "&= \\frac{1}{8} + \\left(\\frac{1}{2} - \\frac{1}{8}\\right) \\\\\n",
    "&= \\frac{1}{2}\n",
    "\\end{aligned}\n",
    "$$\n",
    "\n",
    "Now to evaluate $m \\neq 0$:\n",
    "\n",
    "$$\n",
    "\\begin{aligned}\n",
    "f_m &= \\frac{1}{a} \\int_{-a/2}^{0 } e^{-2\\pi i m x/a} \\left(-\\frac{x}{a}\\right) dx + \\frac{1}{a} \\int_{0}^{a/2} e^{-2\\pi i m x/a}\\left(1-\\frac{x}{a}\\right) dx \\\\\n",
    "&= -\\frac{e^{-\\frac{2 i \\pi  m x}{a}} (a+2 i \\pi  m x)}{4 \\pi ^2 a m^2} \\Big|_{-a/2}^{0} + \\frac{i e^{-\\frac{2 i \\pi  m x}{a}} (-2 \\pi  m x+a (2 \\pi  m+i))}{4 \\pi ^2 a m^2} \\Big | _{0}^{a/2} \\\\\n",
    "&= -\\frac{1+e^{i \\pi  m} (-1+i \\pi  m)}{4 \\pi ^2 m^2} + \\frac{-2 i \\pi  m+e^{-i \\pi  m} (-1+i \\pi  m)+1}{4 \\pi ^2 m^2} \\\\\n",
    "&= \\frac{e^{-i \\pi  m} \\left(-2 i \\pi  e^{i \\pi  m} m+i \\pi  m+e^{2 i \\pi  m} (1-i \\pi  m)-1\\right)}{4 \\pi ^2 m^2}\n",
    "\\end{aligned}\n",
    "$$\n",
    "\n",
    "With the help of Euler's formula, let's rewrite this:\n",
    "$$\n",
    "\\begin{aligned}\n",
    "f_m &= \\frac{(\\cos (\\pi  m)-i \\sin (\\pi  m))}{4 \\pi ^2 m^2} \\Big[ \n",
    "    i \\pi  m + 2 \\pi  m \\sin (\\pi  m) + \\pi  m \\sin (2 \\pi  m) \\nonumber \\\\\n",
    "    &\\quad + i \\sin (2 \\pi  m) - 2 i \\pi  m \\cos (\\pi  m) - i \\pi  m \\cos (2 \\pi  m) \\nonumber \\\\\n",
    "    &\\quad + \\cos (2 \\pi  m) - 1 \n",
    "\\Big]\n",
    "\\end{aligned}\n",
    "$$\n",
    "\n",
    "Which greatly reduces to:\n",
    "\n",
    "$$\n",
    "f_m = \\frac{(\\pi  m+i) \\sin (\\pi  m)-i \\pi  m}{2 \\pi ^2 m^2}\n",
    "$$\n",
    "Now $m$, like $n$, is an integer and thus the $\\sin$ will vanish:"
   ]
  },
  {
   "cell_type": "markdown",
   "id": "94857c87",
   "metadata": {},
   "source": [
    "$$\n",
    "\\begin{aligned}\n",
    "f_m &= -\\frac{i \\pi m}{2\\pi^2 m^2} \n",
    "&= \\frac{1}{2\\pi m i}\n",
    "\\end{aligned}\n",
    "$$\n",
    "\n"
   ]
  },
  {
   "cell_type": "markdown",
   "id": "d6697345",
   "metadata": {},
   "source": [
    "And at last we have:\n",
    "\n",
    "$$\n",
    "\\begin{aligned}\n",
    "\\sigma_a(x) &= \\sum_{m =-\\infty}^{\\infty} f_m   e^{2\\pi i m x/a}  \\\\\n",
    "&= \\frac{1}{2} + \\sum_{m \\neq 0} \\frac{1}{2\\pi m i} \\exp(2 \\pi m x/a)\n",
    "\\end{aligned}\n",
    "$$\n",
    "\n",
    "Incidentally this expression is nearly identical to what we recieve for the sawtooth wave described by the example problem in the textbook. It similarly reduces to:\n",
    "\n",
    "$$\n",
    "\\sigma_a(x) = \\frac{1}{2} + \\frac{1}{\\pi} \\sum_{m=1}^{\\infty} \\frac{\\sin (2 \\pi m x/a)}{m}\n",
    "$$"
   ]
  },
  {
   "cell_type": "markdown",
   "id": "6ed9ee31-3d8b-4365-b656-a4c2ac5822cd",
   "metadata": {},
   "source": [
    "## 3:\n",
    " With the help of Poisson's summation formula and the Fourier transfrom of the Lorentzian, show that\n",
    "\n",
    "\n",
    " $$\n",
    "\\sum_{n =-\\infty}^{\\infty} \\frac{1}{a^2 + n^2} = \\frac{\\pi}{a} \\left[\\frac{e^{2 \\pi a} + 1}{e^{2\\pi a} -1}\\right]\n",
    " $$\n",
    "\n",
    "To begin, let's look at Poisson's summation formula:\n",
    "\n",
    "$$\n",
    "\\sum_{n = -\\infty}^{\\infty} f(na) = \\frac{1}{a} \\sqrt {2\\pi} \\sum_{m = -\\infty}^{\\infty} \\mathcal{F}(2 \\pi m/a)\n",
    "$$\n",
    "\n",
    "And the Fourier transform of the Lorentzian is also given in the textbook:\n",
    "\n",
    "\n",
    "$$\n",
    "\\mathcal{F} (p) = \\frac{1}{\\sqrt{2\\pi}} \\int_{-\\infty}^{\\infty} e^{ipx} \\frac{1}{1 + (x/a)^2}dx = |a|\\sqrt{\\frac{\\pi}{2}}e^{- |pa|}\n",
    "$$"
   ]
  },
  {
   "cell_type": "markdown",
   "id": "b759a6e9",
   "metadata": {
    "vscode": {
     "languageId": "plaintext"
    }
   },
   "source": [
    "First, let's get the Lorentzian (pre-transform) in a more suggestive form:\n",
    "\n",
    "$$\n",
    "\\sum_{n =-\\infty}^{\\infty} \\frac{1}{a^2 + n^2} = \\frac{1}{a^2} \\sum_{n =-\\infty}^{\\infty} \\frac{1}{1 + \\left(\\frac{n}{a}\\right)^2}\n",
    "$$\n",
    "\n",
    "And now if we define $f(n) = \\frac{1}{1+ (n/a)^2}$, the Fourier transform for $f(n) \\to \\mathcal{F}(p)$ is readily availible:\n",
    "\n",
    "$$\n",
    "\\mathcal{F}(p) =|a|\\sqrt{\\frac{\\pi}{2}}e^{- |pa|}\n",
    "$$\n",
    "\n",
    "And we can now make use of Poisson's summation formula:\n",
    "\n",
    "$$\n",
    "\\frac{1}{a^2}\\sum_{n = -\\infty}^{\\infty} \\frac{1}{1+ (n/a)^2}  = \\frac{1}{a^2}\\frac{1}{a} \\sqrt {2\\pi} \\sum_{m = -\\infty}^{\\infty} |a|\\sqrt{\\frac{\\pi}{2}}e^{- |pa|}\n",
    "$$"
   ]
  },
  {
   "cell_type": "markdown",
   "id": "e2760511",
   "metadata": {},
   "source": [
    "Most of the $a$'s cancel, and we can make the constants nicer. \n",
    "\n",
    "$$\n",
    "\\frac{1}{a^2}\\sum_{n = -\\infty}^{\\infty} \\frac{1}{1+ (n/a)^2}  = \\frac{\\pi}{a} \\sum_{m = -\\infty}^{\\infty}e^{- |2\\pi ma|}\n",
    "$$\n",
    "\n",
    "This is something of a redundant sum, because we're using an absolute value but summing over negative integers. So the only value not double-counted is zero, meaning we can rewrite the right hand side like so:\n",
    "\n",
    "$$\n",
    "\\frac{\\pi}{a} \\sum_{m = -\\infty}^{\\infty}e^{- |2\\pi ma|} = \\frac{\\pi}{a} \\left(1 + 2\\sum_{m=1}^{\\infty} e^{-2 \\pi m a}\\right)\n",
    "$$\n",
    "\n",
    "And the left hand side was always equal to $\\sum_{n =-\\infty}^{\\infty} \\frac{1}{a^2 + n^2}$, so we can recast the LHS as we work on the right:\n",
    "\n",
    "$$\n",
    "\\begin{aligned}\n",
    "\\sum_{n =-\\infty}^{\\infty} \\frac{1}{a^2 + n^2} &= \\frac{\\pi}{a} \\left(1 + 2\\sum_{m=1}^{\\infty} e^{-2 \\pi m a}\\right) \\\\\n",
    "&= \\frac{\\pi}{a} \\left(1 + \\frac{2}{e^{2\\pi a} - 1}\\right) \\\\\n",
    "&= \\frac{\\pi}{a} \\left(\\frac{e^{2\\pi a} - 1}{e^{2\\pi a} - 1} + \\frac{2}{e^{2\\pi a} - 1}\\right) \\\\\n",
    "&= \\frac{\\pi}{a}\\left[\\frac{e^{2\\pi a} + 1}{e^{2\\pi a} - 1}\\right]\n",
    "\\end{aligned}\n",
    "$$\n",
    "\n",
    "which is what we wanted to show. "
   ]
  },
  {
   "cell_type": "markdown",
   "id": "b873ca00-45ff-4390-9642-62401fb6016e",
   "metadata": {},
   "source": [
    "## 4:\n",
    "\n",
    "Given the weight function $\\omega(x)$ and the orthogonality interval $[a,b]$, compute the recurrence coefficients $\\alpha_n, \\beta_n$, and $\\gamma_n$, for the set of polynomials orthonormal with respect to $\\omega(x)$ on $[a,b]$. In the interest of uniqueness, choose $\\beta_n >0, n = 0, 1, 2 ...$"
   ]
  },
  {
   "cell_type": "markdown",
   "id": "33d0d81c",
   "metadata": {},
   "source": [
    "Some useful boilerplate before we start:\n",
    "\n",
    "$\\Omega_n(x)$ is orthogonal to $\\omega(x)$ on $[a,b]$ if \n",
    "$$\n",
    "\\int_a^b \\omega(x) \\Omega_n(x) \\Omega_m(x) dx = \\mathcal{N}_n \\delta_{mn}\n",
    "$$\n",
    "\n",
    "Orthogonal polynomials satisfy the following recurrence relation:\n",
    "\n",
    "$$\n",
    "\\Omega_{n+1}(x) = \\alpha_n \\Omega_n(x) - \\beta_n x \\Omega_n(x) - \\gamma_n \\Omega_{n - 1}(x)\n",
    "$$"
   ]
  },
  {
   "cell_type": "markdown",
   "id": "5303035b",
   "metadata": {},
   "source": [
    "Let's take this recurrence relation and multiply by $\\omega(x)\\Omega_n(x)$, then integrate on $[a,b]$:\n",
    "\n",
    "$$\n",
    "\\int_{a}^{b}\\omega(x)\\Omega_n(x) \\Omega_{n+1}(x)dx = \\int_a^b \\omega(x)\\Omega_n(x) \\alpha_n \\Omega_n(x)dx - \\int_a^b \\omega(x)\\Omega_n(x)\\beta_n x \\Omega_n(x)dx - \\int_a^b \\omega(x)\\Omega_n(x)\\gamma_n \\Omega_{n - 1}(x)dx\n",
    "$$\n"
   ]
  },
  {
   "cell_type": "markdown",
   "id": "35a7da14",
   "metadata": {},
   "source": [
    "The LHS must be zero by orthogonality, as does the last term on the RHS. Thus\n",
    "\n",
    "$$\n",
    "\\int_a^b\\alpha_n \\omega(x) \\Omega_n(x)^2 dx = \\int_a^b \\beta_n \\omega(x) \\Omega_n(x)^2dx \n",
    "$$"
   ]
  },
  {
   "cell_type": "markdown",
   "id": "71f8e4b4",
   "metadata": {},
   "source": [
    "From which the solution to $\\alpha_n$ is apparent:"
   ]
  },
  {
   "cell_type": "markdown",
   "id": "8fb8ab34",
   "metadata": {},
   "source": [
    "$$\n",
    "\\alpha_n = \\frac{\\beta_n \\int_a^b \\omega(x)x \\Omega_n(x)^2dx}{\\int_a^b \\omega(x) \\Omega(x)^2 dx}\n",
    "$$\n",
    "\n",
    "And we can reduce this fruther, since orthogonality relations imply that the denominator is 1:\n",
    "\n",
    "\n",
    "$$\n",
    "\\boxed{\\alpha_n = \\beta_n \\int_a^b \\omega(x)x \\Omega_n(x)^2dx}\n",
    "$$\n"
   ]
  },
  {
   "cell_type": "markdown",
   "id": "13f553c5",
   "metadata": {},
   "source": [
    "<!-- \n",
    "Now I'll turn my attention to $\\beta_n$: the strategy is the same as the one for which we found $\\alpha_n$, but instead we multiply our recurrence relation by $\\omega(x)\\Omega_{n+1}(x)$:\n",
    "\n",
    "\n",
    "$$\n",
    "\\int_a^b\\Omega_{n+1}(x)\\omega(x)\\Omega_{n+1}(x)dx = \\int_a^b \\alpha_n \\Omega_n(x)\\omega(x)\\Omega_{n+1}(x)dx - \\int_a^b\\beta_n x \\Omega_n(x)\\omega(x)\\Omega_{n+1}(x)dx - \\int_a^b\\gamma_n \\Omega_{n - 1}(x)\\omega(x)\\Omega_{n+1}(x)\n",
    "$$ -->"
   ]
  },
  {
   "cell_type": "markdown",
   "id": "05dd38b1",
   "metadata": {},
   "source": [
    "<!-- This time we orthogonality claims the first and third term of the RHS:\n",
    "\n",
    "$$\n",
    "\\int_a^b\\omega(x)\\Omega_{n+1}(x)^2 dx = - \\int_a^b\\beta_n x \\Omega_n(x)\\omega(x)\\Omega_{n+1}(x)dx\n",
    "$$\n",
    "\n",
    "So now we simply solve for $\\beta_n$:\n",
    "\n",
    "$$\n",
    "\\boxed{\\beta_n = \\frac{-\\int_a^b\\omega(x)\\Omega_{n+1}(x)^2}{\\int_a^b x \\Omega_n(x)\\omega(x)\\Omega_{n+1}(x)dx}}\n",
    "$$ -->"
   ]
  },
  {
   "cell_type": "markdown",
   "id": "cb25c121",
   "metadata": {},
   "source": [
    "\n",
    "Now I'll turn my attention to $\\gamma_n$: the strategy is the same as the one for which we found $\\alpha_n$, but instead we multiply our recurrence relation by $\\omega(x)\\Omega_{n-1}(x)$:\n",
    "\n",
    "$$\n",
    "\\begin{aligned}\n",
    "&\\int_a^b\\Omega_{n+1}(x)\\omega(x)\\Omega_{n-1}(x)dx \\\\\n",
    "&= \\int_a^b\\alpha_n \\Omega_n(x)\\omega(x)\\Omega_{n-1}(x)dx - \\int_a^b \\beta_n x \\Omega_n(x)\\omega(x)\\Omega_{n-1}(x)dx - \\int_a^b \\gamma_n (x)\\omega(x)\\Omega_{n-1}(x)^2dx\n",
    "\\end{aligned}\n",
    "$$\n",
    "\n",
    "\n"
   ]
  },
  {
   "cell_type": "markdown",
   "id": "8c2e27a6",
   "metadata": {},
   "source": [
    "LHS and first term on the RHS die due to orthogonality:\n",
    "\n",
    "$$\n",
    " \\int_a^b \\beta_n x \\Omega_n(x)\\omega(x)\\Omega_{n-1}(x)dx = \\int_a^b \\gamma_n (x)\\omega(x)\\Omega_{n-1}(x)^2dx\n",
    "$$"
   ]
  },
  {
   "cell_type": "markdown",
   "id": "5b67a7a9",
   "metadata": {},
   "source": [
    "And then\n",
    "\n",
    "$$\n",
    "\\gamma_n = \\frac{\\beta_n \\int_a^b \\Omega_n(x) \\omega(x)\\Omega_{n-1}(x)dx}{\\int_a^b\\omega(x)\\Omega_{n-1}(x)^2dx}\n",
    "$$\n",
    "\n",
    "and as we've seen before, this denominator can go to 1:\n",
    "\n",
    "$$\n",
    "\\boxed{\\gamma_n = \\beta_n \\int_a^b \\Omega_n(x) \\omega(x)\\Omega_{n-1}(x)dx}\n",
    "$$"
   ]
  },
  {
   "cell_type": "markdown",
   "id": "c977ee25",
   "metadata": {},
   "source": [
    "We *could* find $\\beta_n$ as we have for these other two coefficients, but this would not guarantee uniqueness. To get around that problem, let's use this orthogonality relation:\n",
    "\n",
    "$$\n",
    "1 = \\int_a^b \\omega(x) \\Omega_{n+1}(x)^2 dx\n",
    "$$\n",
    "\n",
    "From here we can plug in our recurrence relation for $\\Omega_{n+1}$:\n",
    "\n",
    "$$\n",
    "1 = \\int_a^b \\omega(x) \\left[\\alpha_n \\Omega_n(x) - \\beta_n x \\Omega_n(x) - \\gamma_n \\Omega_{n - 1}(x)\\right]^2 dx\n",
    "$$\n",
    "\n",
    "And let's use our newfound, normalized expressions for $\\alpha_n$ and $\\gamma_n$:\n",
    "\n",
    "$$\n",
    "1 = \\int_a^b \\omega(x) \\left[\\left(\\beta_n \\int_a^b \\omega(x)x \\Omega_n(x)^2dx\\right) \\Omega_n(x) - \\beta_n x \\Omega_n(x) - \\left(\\beta_n \\int_a^b \\Omega_n(x) \\omega(x)\\Omega_{n-1}(x)dx\\right) \\Omega_{n - 1}(x)\\right]^2 dx\n",
    "$$\n"
   ]
  },
  {
   "cell_type": "markdown",
   "id": "43489ee3",
   "metadata": {},
   "source": [
    "$$\n",
    "\\begin{aligned}\n",
    "& =\\int_a^b \\omega(x) \\alpha_n^2 \\Omega_n^2(x) d x-2 \\int_a^b \\omega(x) \\alpha_n \\beta_n x \\Omega_n^2(x) d x+\\int_a^b \\omega(x) \\beta_n^2 x^2 \\Omega_n^2(x) d x \\\\\n",
    "& -\\int_a^b \\omega(x) 2 \\gamma_n \\alpha_n \\Omega_n(x) \\Omega_{n-1}(x) d x+\\int_a^b \\omega(x) 2 \\gamma_n \\beta_n x \\Omega_n(x) \\Omega_{n-1}(x) d x \\\\\n",
    "& +\\int_a^b \\omega(x) \\gamma_n^2 \\Omega_{n+1}^2(x) d x \\\\\n",
    "\\end{aligned}\n",
    "$$\n",
    "Some of these cancel, most do not...\n",
    "\n",
    "$$\n",
    "\\begin{aligned}\n",
    "& =\\alpha_n^2-2 \\alpha_n \\beta_n \\int_a^b x \\omega(x) \\Omega_n^2(x) d x+\\beta_n^2 \\int_a^b x^2 \\omega(x) \\Omega_n^2(x) d x-0 \\\\\n",
    "& +2 \\gamma_n \\beta_n \\int_a^b x \\omega(x) \\Omega_n(x) \\Omega_{n-1}(x) d x+\\gamma_n^2 \\\\\n",
    "&= \\alpha_n^2-2 \\alpha_n \\alpha_n{ }^2 \\beta_n^2 \\int_a^b x^2 \\omega(x) \\Omega_n^2(x) d x+2 \\gamma_n\\left(-\\gamma_n\\right)+\\gamma_n^2 \\\\\n",
    "&= \\alpha_n^2-2 \\alpha_n^2-2 \\gamma_n^2+\\gamma_n^2+\\beta_n^2 \\int_a^b x^2 \\omega(x) \\Omega_n^2(x) \\alpha x \\\\\n",
    "& =-\\alpha_n^2-\\gamma_n^2+\\beta_n^2 \\int_a^b x^2 \\omega(x) \\Omega_n^2(x) d x \\\\\n",
    "& =-\\beta_n^2\\left[\\left(\\int_a^b x \\omega(x) \\Omega_n^2(x) d x\\right)^2+\\left(\\int_a^b x \\omega(x) \\Omega_{n-1}(x) \\Omega_n(x) d x\\right)^2 - \\int_a^b x^2 \\omega(x) \\Omega_n(x)^2 dx \\right]\n",
    "\\end{aligned}\n",
    "$$"
   ]
  },
  {
   "cell_type": "markdown",
   "id": "e0486df3",
   "metadata": {},
   "source": [
    "This finally gives us enough information to solve for $\\beta_n$:\n",
    "\n",
    "$$\n",
    "\\begin{aligned}\n",
    "\\beta_n^2 &= -\\left[\\left(\\int_a^b x \\omega(x) \\Omega_n^2(x) d x\\right)^2+\\left(\\int_a^b x \\omega(x) \\Omega_{n-1}(x) \\Omega_n(x) d x\\right)^2 - \\int_a^b x^2 \\omega(x) \\Omega_n(x)^2 dx \\right]^{-1} \\\\\n",
    "&= \\left[-\\left(\\int_a^b x \\omega(x) \\Omega_n^2(x) d x\\right)^2-\\left(\\int_a^b x \\omega(x) \\Omega_{n-1}(x) \\Omega_n(x) d x\\right)^2 + \\int_a^b x^2 \\omega(x) \\Omega_n(x)^2 dx \\right]^{-1}\n",
    "\\end{aligned}\n",
    "$$"
   ]
  },
  {
   "cell_type": "markdown",
   "id": "a3ebba80",
   "metadata": {},
   "source": [
    "And thus:\n",
    "\n",
    "$$\n",
    "\\beta_n = \\pm \\left[-\\left(\\int_a^b x \\omega(x) \\Omega_n^2(x) d x\\right)^2-\\left(\\int_a^b x \\omega(x) \\Omega_{n-1}(x) \\Omega_n(x) d x\\right)^2 + \\int_a^b x^2 \\omega(x) \\Omega_n(x)^2 dx \\right]^{-1/2}\n",
    "$$"
   ]
  },
  {
   "cell_type": "markdown",
   "id": "b6cf7dc1-4c86-4ec0-a54d-44eea16615b2",
   "metadata": {},
   "source": [
    "In the interest of uniqueness, we can take $\\beta_n>0$. Then:\n",
    "\n",
    "$$\n",
    "\\boxed{\\beta_n = \\frac{1}{\\sqrt{\\left[-\\left(\\int_a^b x \\omega(x) \\Omega_n^2(x) d x\\right)^2-\\left(\\int_a^b x \\omega(x) \\Omega_{n-1}(x) \\Omega_n(x) d x\\right)^2 + \\int_a^b x^2 \\omega(x) \\Omega_n(x)^2 dx \\right]}}}\n",
    "$$"
   ]
  },
  {
   "cell_type": "markdown",
   "id": "19c7317c-c1db-4ae0-b481-e7232b9491ef",
   "metadata": {},
   "source": [
    "This more explicit $\\beta_n$ allows us to more explicitly write the constants $\\alpha_n$ and $\\gamma_n$:\n",
    "\n",
    "$$\n",
    "\\boxed{\\gamma_n = \\frac{\\int_a^b \\Omega_n(x) \\omega(x)\\Omega_{n-1}(x)dx}{\\sqrt{\\left[-\\left(\\int_a^b x \\omega(x) \\Omega_n^2(x) d x\\right)^2-\\left(\\int_a^b x \\omega(x) \\Omega_{n-1}(x) \\Omega_n(x) d x\\right)^2 + \\int_a^b x^2 \\omega(x) \\Omega_n(x)^2 dx \\right]}}}\n",
    "$$\n",
    "\n",
    "$$\n",
    "\\boxed{\\alpha_n = \\frac{\\int_a^b \\omega(x)x \\Omega_n(x)^2dx}{\\sqrt{\\left[-\\left(\\int_a^b x \\omega(x) \\Omega_n^2(x) d x\\right)^2-\\left(\\int_a^b x \\omega(x) \\Omega_{n-1}(x) \\Omega_n(x) d x\\right)^2 + \\int_a^b x^2 \\omega(x) \\Omega_n(x)^2 dx \\right]}}}\n",
    "$$\n"
   ]
  },
  {
   "cell_type": "markdown",
   "id": "53ae07b2-9bc6-4450-9627-278160fff405",
   "metadata": {},
   "source": [
    "## 5:\n",
    "\n",
    "Show that\n",
    "\n",
    "$$\n",
    "\\int_{1}^{\\infty}\\frac{dx}{\\sqrt{x^4 -1}} = \\int_0^1\\frac{dx}{\\sqrt{1- x^4}} = \\frac{1}{\\sqrt 2} K \\left(\\frac{1}{\\sqrt 2}\\right)\n",
    "$$"
   ]
  },
  {
   "cell_type": "markdown",
   "id": "1906fa4f",
   "metadata": {},
   "source": [
    "First things first, let's get the first expression looking like the second expression. \n",
    "\n",
    "If we make the substitution $x \\to \\frac{1}{t}$, then $dx = -t^{-2} dt$. \n",
    "\n",
    "Replace the bounds and turn the crank:\n",
    "\n",
    "$$\n",
    "\\int_1^0 \\frac{-t^{-2} dt}{\\sqrt{\\frac{1}{t^4} - 1}} = \\int_0^1 \\frac{dt}{\\sqrt{1 -t^4}}\n",
    "$$\n",
    "\n",
    "which is identical to the second expression in the triple equality above. On to the third:\n",
    "\n",
    "Let's make another change of variables: $t \\to \\cos(u)$, so $dt = -\\sin (u) du$. \n",
    "\n",
    "Plug and chug:\n",
    "\n",
    "$$\n",
    " \\int_0^{1} \\frac{dt}{\\sqrt{1 -t^4}} =  \\int_{\\pi/2}^{0} \\frac{ -\\sin  (u) du}{\\sqrt{1 -\\cos^4 (u)}} = \\int_{0}^{\\pi/2} \\frac{ \\sin  (u) du}{\\sqrt{1 -\\cos^4 (u)}} \\\\\n",
    "$$\n",
    "\n",
    "We can do better. Let's use the pythagorean identity to accomplish the following:\n",
    "\n",
    "$$\n",
    "\\begin{aligned}\n",
    "&(\\sin^2 u + \\cos^u )^2 = 1 \\\\\n",
    "&\\sin^4 u + 2 \\sin^2 u \\cos ^2 u + \\cos ^4 u = 1 \\\\\n",
    "&1 - \\cos^4 u = \\sin^4 u + 2 \\sin^2 u \\cos ^2 u\n",
    "\\end{aligned}\n",
    "$$\n",
    "\n",
    "And then:\n",
    "\n",
    "$$\n",
    "\\begin{aligned}\n",
    "  \\int_0^{1} \\frac{dt}{\\sqrt{1 -t^4}} &= \\int_0^{\\pi/2} \\frac{ \\sin (u) du}{\\sqrt{\\sin^4 u + 2 \\sin^2 u \\cos ^2 u}} \\\\\n",
    "   &= \\int_0^{\\pi/2} \\frac{ \\sin (u) du}{\\sin (u) \\sqrt{\\sin^2 u + 2 \\cos ^2 u}} \\\\\n",
    "      &= \\int_0^{\\pi/2} \\frac{ du}{\\sqrt{\\sin^2 u + 2 \\cos ^2 u}} \\\\\n",
    "            &= \\int_0^{\\pi/2} \\frac{ du}{\\sqrt{\\sin^2 u + 2 (1 - \\sin^2 u) ^2 u}} \\\\\n",
    "            &= \\int_0^{\\pi/2} \\frac{ du}{\\sqrt{2 - \\sin^2 u}} \\\\\n",
    "            &= \\frac{1}{\\sqrt 2}\\int_0^{\\pi/2} \\frac{ du}{\\sqrt{1 - \\frac{1}{2}\\sin^2 u}} \\\\\n",
    "\\end{aligned}\n",
    "$$\n",
    "\n",
    "\n",
    "Now we want to compare to the complete elliptic integral of the first kind $K(k)$, defined as:\n",
    "\n",
    "$$\n",
    "K(k) = \\int_0^{\\pi/2} \\frac{ d\\alpha}{\\sqrt{1 - k^2 \\sin^2 (\\alpha)}} \n",
    "$$\n",
    "\n",
    "So we can be explicit about $\\frac{1}{\\sqrt 2}K\\left(\\frac{1}{\\sqrt{2}}\\right)$:"
   ]
  },
  {
   "cell_type": "markdown",
   "id": "40afb52f",
   "metadata": {},
   "source": [
    "$$\n",
    "\\frac{1}{\\sqrt 2}K\\left(\\frac{1}{\\sqrt{2}}\\right) = \\frac{1}{\\sqrt 2}\\int_0^{\\pi/2} \\frac{d \\alpha}{\\sqrt{1 - \\frac{1}{2} \\sin^2 (\\alpha)} }\n",
    "$$\n",
    "\n",
    "This is identical to the last integral we wrote in terms of $u$. This shows that the second and third expression in our triple equality are equivalent, and thus completes the proof. "
   ]
  },
  {
   "cell_type": "markdown",
   "id": "26bbdb78-042e-4e58-8e67-1268f5729694",
   "metadata": {},
   "source": [
    "## 6:\n",
    "\n",
    "Our goal is to:\n",
    "\n",
    "1. Show that the Wronskian of Airy functions $\\text{Ai}(x)$ and $\\text{Bi}(x)$ is a constant\n",
    "2. Evaluate that constant\n",
    "\n",
    "First, let's be explicit about the Wronskian of two functions:"
   ]
  },
  {
   "cell_type": "markdown",
   "id": "b53d999f-f24c-409a-ba09-f276bbec2c80",
   "metadata": {},
   "source": [
    "$$\n",
    "W[\\alpha(x), \\beta(x)] = \\alpha^ \\prime(x) \\beta (x) - \\alpha(x) \\beta^\\prime  (x)\n",
    "$$\n",
    "so then"
   ]
  },
  {
   "cell_type": "markdown",
   "id": "c4ee2b20-d72b-4fe0-af66-cd3568a1e9f5",
   "metadata": {},
   "source": [
    "$$\n",
    "W[\\text{Ai}(x), \\text{Bi}(x)]  = \\text{Ai}^\\prime(x) \\text{Bi}(x) - \\text{Ai}(x) \\text{Bi}^\\prime(x)\n",
    "$$"
   ]
  },
  {
   "cell_type": "markdown",
   "id": "44cad7d2-c46f-482d-9438-9c99017a11fc",
   "metadata": {},
   "source": [
    "To prove that this is constant, we can show that its first derivative is equal to zero:\n",
    "\n",
    "\n",
    "$$\n",
    "W^\\prime[\\text{Ai}(x), \\text{Bi}(x)] = \\text{Ai}''(x)  \\text{Bi}(x) + \\text{Ai}'(x)  \\text{Bi}'(x) - \\text{Ai}'(x)  \\text{Bi}'(x) - \\text{Ai}(x)  \\text{Bi}''(x)\n",
    "$$"
   ]
  },
  {
   "cell_type": "markdown",
   "id": "b8aea509-5512-4f5e-9264-bfc128f03cfb",
   "metadata": {},
   "source": [
    "$$\n",
    "W^\\prime[\\text{Ai}(x), \\text{Bi}(x)] = \\text{Ai}''(x)  \\text{Bi}(x) - \\text{Ai}(x)  \\text{Bi}''(x)\n",
    "$$"
   ]
  },
  {
   "cell_type": "markdown",
   "id": "7110b3b6-5775-406d-8e64-a42a757976d0",
   "metadata": {},
   "source": [
    "Now since the Airy function must satisfy the Airy differential equation $y^{\\prime \\prime} (x) -x y(x) = 0$, then it follows that  $\\text{Ai}^{\\prime \\prime}(x) = x \\text{Ai}(x)$:"
   ]
  },
  {
   "cell_type": "markdown",
   "id": "1a5cecf5-db08-4ec9-8593-206c39a09375",
   "metadata": {},
   "source": [
    "$$\n",
    "W^\\prime[\\text{Ai}(x), \\text{Bi}(x)] = x \\text{Ai}(x)  \\text{Bi}(x) - x \\text{Ai}(x)   \\text{Bi}(x) = 0\n",
    "$$"
   ]
  },
  {
   "cell_type": "markdown",
   "id": "bfcca3dc-3b14-46ed-addc-3971ccf2a5f7",
   "metadata": {},
   "source": [
    "We have thus accomplished our first goal: to show that $W[\\text{Ai}(x), \\text{Bi}(x)]$ is invariant with $x$. Our next goal is to evaluate $W[\\text{Ai}(x), \\text{Bi}(x)]$, which we can now do at any value of $x$. "
   ]
  },
  {
   "cell_type": "markdown",
   "id": "2056ae30-4795-48c7-8640-fa84af22bb2a",
   "metadata": {},
   "source": [
    "The Airy functions and their derivatives at zero are easily found:\n",
    "\n",
    "$$\n",
    "\\text{Ai}(0) =\\frac{1}{3^{2/3} \\Gamma \\left(\\frac{2}{3}\\right)}\n",
    "$$"
   ]
  },
  {
   "cell_type": "markdown",
   "id": "5167778d-18e5-422e-ab70-2ebcbf6db4f2",
   "metadata": {},
   "source": [
    "$$\n",
    "\\text{Ai}^\\prime(0) = -\\frac{1}{\\sqrt[3]{3} \\Gamma \\left(\\frac{1}{3}\\right)}\n",
    "$$"
   ]
  },
  {
   "cell_type": "markdown",
   "id": "f4db9267-8185-4423-8f74-4aaf84b22181",
   "metadata": {},
   "source": [
    "$$\n",
    "\\text{Bi}(0) = \\sqrt 3 \\text{Ai}(0) = \\frac{1}{\\sqrt[6]{3} \\Gamma \\left(\\frac{2}{3}\\right)}\n",
    "$$"
   ]
  },
  {
   "cell_type": "markdown",
   "id": "6baf2fdf-de7c-40b8-afe6-f4f899f6163c",
   "metadata": {},
   "source": [
    "$$\n",
    "\\text{Bi} ^\\prime (0) = -\\sqrt 3 \\text{Ai}^\\prime (0) = \\frac{\\sqrt[6]{3}}{\\Gamma \\left(\\frac{1}{3}\\right)}\n",
    "$$"
   ]
  },
  {
   "cell_type": "markdown",
   "id": "d5e5cbb8-51b4-4946-87c0-48db56989e5c",
   "metadata": {},
   "source": [
    "So then the Wronskian can be evaluated at $x = 0$:"
   ]
  },
  {
   "cell_type": "markdown",
   "id": "bb4a0c30-6b9d-4f25-a651-fc61e171c628",
   "metadata": {},
   "source": [
    "$$\n",
    "\\begin{aligned}\n",
    "W[\\text{Ai}(x), \\text{Bi}(x)] &=  \\text{Ai}^\\prime(x) \\text{Bi}(x) - \\text{Ai}(x) \\text{Bi}^\\prime(x) \\\\\n",
    "&=-\\frac{1}{\\sqrt{3} \\Gamma \\left(\\frac{1}{3}\\right) \\Gamma \\left(\\frac{2}{3}\\right)} -\\frac{1}{\\sqrt{3} \\Gamma \\left(\\frac{1}{3}\\right) \\Gamma \\left(\\frac{2}{3}\\right)} \\\\\n",
    "&= -\\frac{2}{\\sqrt{3} \\Gamma \\left(\\frac{1}{3}\\right) \\Gamma \\left(\\frac{2}{3}\\right)}\n",
    "\\end{aligned}\n",
    "$$"
   ]
  },
  {
   "cell_type": "markdown",
   "id": "4dc3e1cd-4ed1-4c89-8614-f59f12ade711",
   "metadata": {},
   "source": [
    "We can simplify this further using the reflection formula:\n",
    "\n",
    "$$\n",
    "\\Gamma \\left(\\frac{1}{3}\\right) \\Gamma \\left(\\frac{2}{3}\\right) = \\frac{\\pi}{\\sin(\\frac{\\pi}{3})} = \\frac{2\\pi}{\\sqrt{3}}\n",
    "$$"
   ]
  },
  {
   "cell_type": "markdown",
   "id": "c7fcb74e-4d0e-45df-a4b4-4978d1b2afc6",
   "metadata": {},
   "source": [
    "and thus:\n",
    "\n",
    "$$\n",
    "W[\\text{Ai}(x), \\text{Bi}(x)] = -\\frac{2/\\sqrt3}{2\\pi/\\sqrt 3} = \\boxed{-\\frac{1}{\\pi}}\n",
    "$$"
   ]
  }
 ],
 "metadata": {
  "kernelspec": {
   "display_name": "Python 3 (ipykernel)",
   "language": "python",
   "name": "python3"
  },
  "language_info": {
   "codemirror_mode": {
    "name": "ipython",
    "version": 3
   },
   "file_extension": ".py",
   "mimetype": "text/x-python",
   "name": "python",
   "nbconvert_exporter": "python",
   "pygments_lexer": "ipython3",
   "version": "3.12.2"
  }
 },
 "nbformat": 4,
 "nbformat_minor": 5
}
