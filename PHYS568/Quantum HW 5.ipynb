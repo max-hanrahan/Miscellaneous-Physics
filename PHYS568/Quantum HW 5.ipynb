{
 "cells": [
  {
   "cell_type": "markdown",
   "metadata": {},
   "source": [
    "## 1:\n",
    "\n",
    "Test Lagrange's inversion formula:\n",
    "\n",
    "$$\n",
    "\\begin{aligned}\n",
    "&E_n = \\tilde E \\\\\n",
    "&+ \\sum_{m=1}^{\\infty} \\frac{d^{m-1}}{dE^{m-1}} \\left(\\frac{E - \\tilde E}{f(E) - f(\\tilde E)}\\right)^m |_{E = \\tilde E} \\frac{[n - f(\\tilde E)]^m}{m!}\n",
    "\\end{aligned}\n",
    "$$\n",
    "\n",
    "for\n",
    "\n",
    "(a) $\\beta E = n$ and $\\tilde E = 0$. \n",
    "\n"
   ]
  },
  {
   "cell_type": "markdown",
   "metadata": {},
   "source": [
    "$$\n",
    "E_n = \\sum_{m=1}^{\\infty} \\frac{d^{m-1}}{dE^{m-1}} \\left(\\frac{E - 0}{f(E) - f(0)}\\right)^m |_{E = 0} \\frac{[n - f(0)]^m}{m!}\n",
    "$$\n"
   ]
  },
  {
   "cell_type": "markdown",
   "metadata": {},
   "source": [
    "\n",
    "$$\n",
    "E_n = \\sum_{m=1}^{\\infty} \\frac{d^{m-1}}{dE^{m-1}} \\left(\\frac{E }{f(E) - f(0)}\\right)^m |_{E = 0} \\frac{[n - f(0)]^m}{m!}\n",
    "$$\n",
    "\n",
    "Now given the problem statement, we take $f(E) = \\beta E$, and hence, $f(0) = 0$:\n",
    "\n",
    "$$\n",
    "\\begin{aligned}\n",
    "E_n &= \\sum_{m=1}^{\\infty} \\frac{d^{m-1}}{dE^{m-1}} \\left(\\frac{E }{ \\beta E}\\right)^m |_{E = 0} \\frac{[n]^m}{m!} \\\\\n",
    "&= \\sum_{m=1}^{\\infty} \\frac{d^{m-1}}{dE^{m-1}} \\left(\\frac{1}{ \\beta}\\right)^m |_{E = 0} \\frac{[n]^m}{m!} \n",
    "\\end{aligned}\n",
    "$$"
   ]
  },
  {
   "cell_type": "markdown",
   "metadata": {},
   "source": [
    "This derivative will be $\\frac{1}{\\beta}$ when $m=1$ and $0$ otherwise. \n",
    "\n",
    "Thus, only the $m=1$ term survives. \n",
    "\n",
    "$$\n",
    "\\boxed{E_n = \\frac{n}{\\beta} }\n",
    "$$"
   ]
  },
  {
   "cell_type": "markdown",
   "metadata": {},
   "source": [
    "(b) Now do the same for $\\sin(\\beta E) = \\alpha n$:"
   ]
  },
  {
   "cell_type": "markdown",
   "metadata": {},
   "source": [
    "Like before, $f(E) = \\sin(\\beta E) \\implies f(0) = 0$.\n",
    "\n",
    "$$\n",
    "E_n = \\sum_{m=1}^{\\infty} \\frac{d^{m-1}}{dE^{m-1}} \\left(\\frac{E}{f(E)}\\right)^m |_{E = 0} \\frac{[n ]^m}{m!}\n",
    "$$\n",
    "\n",
    "$$\n",
    "E_n = \\sum_{m=1}^{\\infty} \\frac{d^{m-1}}{dE^{m-1}} \\left(\\frac{E}{\\sin(\\beta E)}\\right)^m |_{E = 0} \\frac{[n ]^m}{m!}\n",
    "$$"
   ]
  },
  {
   "cell_type": "markdown",
   "metadata": {},
   "source": [
    "Let's expand this to third order, and take derivatives one-by-one. The first derivative in our sum is simply\n",
    "\n",
    "$$\n",
    "\\frac{\\alpha E}{\\sin(\\beta E)}|_{E=0}\n",
    "$$\n",
    "\n",
    "This is an indeterminate form, but we can evaluate it using L'Hopitals rule:\n",
    "\n",
    "$$\n",
    "\\frac{\\alpha}{\\beta \\cos(\\beta E)}|_{E=0} = \\frac{\\alpha}{\\beta}\n",
    "$$\n",
    "\n",
    "That's the first \"derivative\" in our sum. On to the second:\n",
    "\n",
    "$$\n",
    "\\frac{d}{dE} \\left(\\frac{\\alpha^2 E^2}{\\sin^2 (\\beta E)}\\right)|_{E=0}\n",
    "$$"
   ]
  },
  {
   "cell_type": "markdown",
   "metadata": {},
   "source": [
    "Again, we'll need to use L'Hopital's rule:\n",
    "\n",
    "$$\n",
    "\\frac{2\\alpha^2 \\sin(\\beta E) + 2 \\alpha^2 \\beta E \\cos(\\beta E) - 4\\alpha^2 E \\beta \\cos(\\beta E) + 2\\alpha^2 E^2 \\beta^2 \\sin(\\beta E)}{\\beta \\cos(\\beta E)}|_{E=0}\n",
    "$$\n",
    "\n",
    "This reduces to $0/\\beta$. Whew. \n",
    "\n",
    "Lasty, let's look at the third derivative:\n",
    "\n",
    "$$\n",
    "\\frac{\\partial^3}{\\partial E^3}\\left(\\frac{\\alpha^3 E^3}{\\sin^3 (\\beta E)}\\right)|_{E=0} =  \\left(\\frac{\\sin^2 (\\beta E) (6 \\epsilon + 3 \\beta^2E^2)-19E^2 \\cos(\\beta E) \\sin(\\beta E) + 12\\beta^2 E^3 \\cos^2 (\\beta E)}{\\sin^3 (\\beta E)}\\right)|_{E=0}\n",
    "$$\n",
    "\n",
    "Had to differentiate this twice in mathematica to get L'Hopital's rule to work, but eventually ended up with $\\alpha^3 /\\beta$, which means:\n",
    "\n",
    "$$\n",
    "E_n \\approx \\frac{n \\alpha}{\\beta} + \\frac{\\alpha^3 n^3}{6 \\beta},\n",
    "$$\n",
    "\n",
    "which is exactly the same as one would expect from the expansion of $\\arcsin(\\alpha n) / \\beta$ around $\\alpha n$, as our hint encourages us to compare to Lagrange's formula. "
   ]
  },
  {
   "cell_type": "markdown",
   "metadata": {},
   "source": [
    "## 2:\n",
    "\n",
    "Compute the energy spectrum of a quantum particle of mass $m$ inside the potential\n",
    "\n",
    "$$\n",
    "V(x) = V_0 \\tan^2 (\\alpha x), \\quad V_0 >0, \\alpha >0\n",
    "$$\n",
    "\n",
    "Hint: notice that\n",
    "\n",
    "$$\n",
    "\\tan^2 (\\alpha x) = \\frac{1}{\\cos^2 (\\alpha x)} - 1\n",
    "$$"
   ]
  },
  {
   "cell_type": "markdown",
   "metadata": {},
   "source": [
    "First, we write the Schrodinger equation:\n",
    "\n",
    "$$\n",
    "-\\frac{\\hbar^2}{2m} \\frac{\\partial^2 \\psi(x)}{\\partial x^2} + V_0 \\tan^2 (\\alpha x) \\psi(x) = E \\psi(x)\n",
    "$$\n",
    "\n",
    "and then we substitute:\n",
    "\n",
    "$$\n",
    "-\\frac{\\hbar^2}{2m} \\frac{\\partial^2 \\psi(x)}{\\partial x^2} + V_0 \\left(\\frac{1}{\\cos^2 (\\alpha x)} -1 \\right) \\psi(x) = E \\psi(x)\n",
    "$$\n",
    "\n",
    "From here, the goal is to make substitutions that make this equivalent to the inverse cos-squared potential, which was solved early in ch 6.2. Let's begin by defining $E^\\prime = E+ V_0$:"
   ]
  },
  {
   "cell_type": "markdown",
   "metadata": {},
   "source": [
    "$$\n",
    "-\\frac{\\hbar^2}{2m} \\frac{\\partial^2 \\psi(x)}{\\partial x^2} + V_0 \\left(\\frac{1}{\\cos^2 (\\alpha x)} \\right) \\psi(x) = E \\psi(x) + V_0 \\psi(x)\n",
    "$$\n",
    "\n",
    "$$\n",
    "-\\frac{\\hbar^2}{2m} \\frac{\\partial^2 \\psi(x)}{\\partial x^2} + V_0 \\left(\\frac{1}{\\cos^2 (\\alpha x)} \\right) \\psi(x) = E^\\prime \\psi(x)\n",
    "$$"
   ]
  },
  {
   "cell_type": "markdown",
   "metadata": {},
   "source": [
    "This is clearly the same as the Schrodinger equation for the inverse cos-squared potential. To which we know the solution of the energy spectrum:\n",
    "\n",
    "$$\n",
    "E^\\prime_n = \\frac{\\hbar^2 \\alpha^2}{8m} \\left[1 + 2n + \\sqrt{1 + \\frac{8mV_0}{\\alpha^2 \\hbar^2}}\\right]^2, \\quad n = 0, 1, 2,...\n",
    "$$\n",
    "\n",
    "And thus, \n",
    "\n",
    "$$\n",
    "\\boxed{E_n = \\frac{\\hbar^2 \\alpha^2}{8m} \\left[1 + 2n + \\sqrt{1 + \\frac{8mV_0}{\\alpha^2 \\hbar^2}}\\right]^2 - V_0}\n",
    "$$"
   ]
  },
  {
   "cell_type": "markdown",
   "metadata": {},
   "source": [
    "## 3:\n",
    "\n",
    "The Eckart potential \n",
    "\n",
    "$$\n",
    "V(x) = - \\frac{V_0}{\\cosh^2(\\alpha x)}, \\quad \\alpha>0, V_0 >0\n",
    "$$\n",
    "\n",
    "and the inverse cosine-squared potential are closely related. We notice that the substitutions $V_0 \\ to -V_0$ and $\\alpha \\to i \\alpha$ turn the inverse $\\cos^2$ potential into the Eckart potential. Therefore, guided by the substitution that solved the spectral problem of the inverse cos-square potential, compute the trajectory $x(t)$, the classical action $S(E)$, the exact energy spectrum $E_n$, and the generalized WKB phase $\\phi_E(E)$ of the Eckart potential. "
   ]
  },
  {
   "cell_type": "markdown",
   "metadata": {
    "vscode": {
     "languageId": "plaintext"
    }
   },
   "source": [
    "Well, trajectory first, following the example in the book using the inverse cosh^2 potential. \n",
    "\n",
    "$$\n",
    "I = \\int_0^x \\frac{dx^\\prime}{\\sqrt{E- V(x \\prime)}} = \\sqrt{\\frac{2}{m}}t\n",
    "$$\n",
    "\n",
    "(3.13, 6.71)\n",
    "\n",
    "Before we equate this to $\\sqrt{\\frac{2}{m}}t$, we've got some simplifying to do:\n",
    "\n",
    "$$\n",
    "\\begin{aligned}\n",
    "I &= \\int_0^x \\frac{dx^\\prime}{\\sqrt{E+ \\frac{V_0}{\\cosh^2 \\alpha x^2} }} \\\\\n",
    "&= \\int_0^x \\frac{dx^\\prime}{\\sqrt{E+ V_0 (1 - \\tanh^2 (\\alpha x^2)) }}  \\\\\n",
    "&= \\int_0^x \\frac{dx^\\prime}{\\sqrt{E+ V_0 - V_0\\tanh^2 (\\alpha x^2) }}  \\\\\n",
    "&= \\frac{1}{\\sqrt {V_0}}\\int_0^x \\frac{dx^\\prime}{\\sqrt{\\frac{E+ V_0}{V_0} - \\tanh^2 (\\alpha x^2) }}  \\\\\n",
    "\\end{aligned}\n",
    "$$\n",
    "\n",
    "Now let $\\xi = \\frac{E - V_0}{V_0}$:\n"
   ]
  },
  {
   "cell_type": "markdown",
   "metadata": {},
   "source": [
    "$$\n",
    "\\begin{aligned}\n",
    "I &= \\frac{1}{\\sqrt{V_0}} \\int_0^x \\frac{dx^\\prime}{\\sqrt{\\xi - \\tanh(\\alpha x^ {\\prime})}} \\\\\n",
    "&= \\frac{1}{\\alpha \\sqrt{V_0 (1 - \\xi)}} \\arctan\\left(\\frac{\\sqrt{1 - \\xi} \\tanh(\\alpha x)}{\\sqrt{\\xi + \\text{sech}^2 (\\alpha x) -1}}\\right)\\Big|_0^x \\\\\n",
    "&= \\frac{1}{\\alpha \\sqrt{V_0 (1 - \\xi)}} \\arctan\\left(\\frac{\\sqrt{1 - \\xi} \\tanh(\\alpha x)}{\\sqrt{\\xi + \\text{sech}^2 (\\alpha x) -1}}\\right) \\\\\n",
    "&= \\frac{1}{\\alpha \\sqrt{V_0 (1 - \\xi)}} \\arctan\\left(\\frac{\\sqrt{1 - \\xi} \\tanh(\\alpha x)}{\\sqrt{\\xi - \\tanh^2 (\\alpha x)}}\\right),\n",
    "\\end{aligned}\n",
    "$$"
   ]
  },
  {
   "cell_type": "markdown",
   "metadata": {},
   "source": [
    "which we can finally equate to $\\sqrt{\\frac{2}{m}}t$. \n",
    "\n",
    "In so doing, we receive:\n",
    "\n",
    "$$\n",
    " \\arctan\\left(\\frac{\\sqrt{1 - \\xi} \\tanh(\\alpha x)}{\\sqrt{\\xi - \\tanh^2 (\\alpha x)}}\\right) = \\alpha \\sqrt{V_0 (1 - \\xi)} = \\alpha \\sqrt{\\frac{2 |E|}{m}}t.\n",
    "$$\n",
    "\n",
    "Now let $\\omega = \\alpha \\sqrt{\\frac{2 |E|}{m}}$:\n",
    "\n",
    "$$\n",
    "\\sqrt{\\frac{\\frac{|E|}{V_0} \\tanh^2 (\\alpha x)}{\\xi - \\tanh^2 (\\alpha x)}} = \\tan(\\omega t)\n",
    "$$\n",
    "\n",
    "I was able to invert this via mathematica:\n",
    "\n",
    "$$\n",
    "x(t) = \\pm \\frac{1}{\\alpha}{\\tanh ^{-1}\\left(\\frac{\\sqrt{\\xi } \\sqrt{V_0} \\tan (t \\omega )}{\\sqrt{| E| +V_0 \\tan ^2(t \\omega )}}\\right)}\n",
    "$$\n",
    "\n",
    "And of course, we take the positive trajectory and simplify to receive:\n",
    "\n",
    "$$\n",
    "\\boxed{\n",
    "    x(t) = \\frac{1}{\\alpha} \\arctan \\left(\\frac{\\sqrt{\\frac{E+V_0}{V_0}}\\tan (\\omega t)}{ \\sqrt{\\frac{|E|}{V_0}+ \\tan^2 (\\omega t)}}\\right)\n",
    "}\n",
    "$$\n",
    "\n"
   ]
  },
  {
   "cell_type": "markdown",
   "metadata": {},
   "source": [
    "Cool. Up next, the classical action, which we can do using a trick: sub in $V_0 \\to -V_0$ and $\\alpha \\to i \\alpha$ in the inverse cos^2 potential's result. By 6.16:\n",
    "\n",
    "$$\n",
    "S(E) = \\frac{2 \\pi \\sqrt{2m}}{\\alpha} \\left(\\sqrt E - \\sqrt {V_0}\\right)\n",
    "$$\n",
    "\n",
    "Now make the substitutions:\n",
    "\n",
    "$$\n",
    "S(E) = \\frac{2 \\pi \\sqrt{2m}}{i\\alpha} \\left(\\sqrt {-|E|} - \\sqrt {-V_0}\\right)\n",
    "$$"
   ]
  },
  {
   "cell_type": "markdown",
   "metadata": {},
   "source": [
    "Notice that we have also flipped $E$ because the Eckart potential has a negative energy spectrum, unlike the inverse cos^2. Getting to the right answer from here is just a matter of cancelling the $i$'s:\n",
    "\n",
    "$$\n",
    "\\boxed{S(E) = \\frac{2 \\pi \\sqrt{2m}}{\\alpha} \\left(-\\sqrt {|E|} + \\sqrt {V_0}\\right)}\n",
    "$$\n",
    "\n",
    "Boom! Onto the energy spectra.\\\n",
    "We will use a similar trick. Let's start with the energy spectrum of the inverse $\\cos^2$ potential (6.31):"
   ]
  },
  {
   "cell_type": "markdown",
   "metadata": {},
   "source": [
    "$$\n",
    "E_n = \\frac{\\hbar^2 \\alpha^2}{8m} \\left[1 + 2n + \\sqrt{1 + \\frac{8mV_0}{\\alpha^2 \\hbar^2}}\\right]^2\n",
    "$$\n",
    "\n",
    "Then take $V_0 \\to -V_0$, $\\alpha \\to i \\alpha$:\n",
    "\n",
    "$$\n",
    "\\begin{aligned}\n",
    "E_n &= \\frac{-\\hbar^2 \\alpha^2}{8m} \\left[1 + 2n + \\sqrt{1 + \\frac{-8mV_0}{-\\alpha^2 \\hbar^2}}\\right]^2 \\\\\n",
    "&= \\frac{-\\hbar^2 \\alpha^2}{8m} \\left[1 + 2n - \\sqrt{1 + \\frac{8mV_0}{\\alpha^2 \\hbar^2}}\\right]^2 \n",
    "\\end{aligned}\n",
    "$$"
   ]
  },
  {
   "cell_type": "markdown",
   "metadata": {},
   "source": [
    "We actually had to take the negative square root instead of the positive for this to work out. This is valid for $n = 0, 1, 2, ...$, so we can just shift it over by 1 and receive:\n",
    "\n",
    "$$\n",
    "\\boxed{E_n = -\\frac{\\hbar^2 \\alpha^2}{8m} \\left[(2n-1) - \\sqrt{1 + \\frac{8mV_0}{\\alpha^2 \\hbar^2}}\\right]^2, \\quad n = 1, 2, ...}\n",
    "$$"
   ]
  },
  {
   "cell_type": "markdown",
   "metadata": {},
   "source": [
    "At last, we must compute the generalized WKB phase. \n",
    "But this shouldn't be a big deal, now that we have the classical action. Let's start from 5.57:\n",
    "\n",
    "$$\n",
    "\\frac{1}{\\hbar} S(E_n) = 2\\pi n + \\phi(E_n), \\quad n = 1, 2, ...\n",
    "$$\n",
    "\n",
    "We'll plug in our action:\n",
    "\n",
    "$$\n",
    " \\frac{2 \\pi  \\sqrt{2m}}{\\hbar \\alpha} \\left(-\\sqrt {|E|} + \\sqrt {V_0}\\right) = 2\\pi n + \\phi(E_n)\n",
    "$$\n",
    "\n",
    "The rest is simplification:\n",
    "\n",
    "$$\n",
    "\\begin{aligned}\n",
    "\\phi(E_n) &=  \\frac{2 \\pi  \\sqrt{2m}}{\\hbar \\alpha} \\left(-\\sqrt {|E|} + \\sqrt {V_0}\\right) - 2 \\pi n \\\\\n",
    "&=  \\frac{2 \\pi  \\sqrt{2m}}{\\hbar \\alpha} \\left(-\\sqrt {\\left[-\\frac{\\hbar^2 \\alpha^2}{8m} \\left[(2n-1) - \\sqrt{1 + \\frac{8mV_0}{\\alpha^2 \\hbar^2}}\\right]^2\\right]} + \\sqrt {V_0}\\right) - 2 \\pi n \\\\\n",
    "&= \\boxed{\\pi \\left(\\sqrt{\\frac{8mV_0}{\\alpha^2 \\hbar^2}} - 1 - \\sqrt{1 + \\frac{8mV_0}{\\alpha^2 \\hbar^2}}\\right)},\n",
    "\\end{aligned}\n",
    "$$\n",
    "\n",
    "as desired. "
   ]
  },
  {
   "cell_type": "markdown",
   "metadata": {},
   "source": [
    "## 4:\n",
    "\n",
    "The shape of the exponential potential:\n",
    "\n",
    "$$\n",
    "\\begin{aligned}\n",
    "V(x) = \\begin{cases}\n",
    "-V_0 \\exp(-\\alpha x), \\quad &\\text{for } x> 0\\\\\n",
    "\\infty, \\quad &\\text{for } x \\leq 0\\\\\n",
    "\\end{cases}\n",
    "\\end{aligned}\n",
    "$$\n",
    "\n",
    "$V_0 > 0$, $\\alpha >0$ is similar to the shape of the one-dimensional hydrogen potential with two important differences: (a) The exponential potential is finite at $x = 0$ and (b) the exponential potential vanishes much faster for $x \\to \\infty$. Nevertheless, for $V_0$ larger than a critical potential strength $V_0^{(c)}$, the exponential potential supports a finite number of bound states that can be computed analutically. For $V_0 < V_0^{(c)}$, the exponential potential does not support any bound states. \n",
    "\n",
    "(a) Substitute $z = \\beta \\exp(- \\alpha x/2)$, where $\\beta$ is a positive constatnt. Determine $\\beta$ such that the one-dimensional Schrödinger equation for $\\phi(z)$ is the Bessel differential equation. "
   ]
  },
  {
   "cell_type": "markdown",
   "metadata": {},
   "source": [
    "First: let's write the 1D S.E.:\n",
    "\n",
    "$$\n",
    "-\\frac{\\hbar^2}{2m} \\frac{\\partial^2 \\phi(x)}{\\partial x^2} + V(x) \\phi(x) = E \\phi(x)\n",
    "$$\n",
    "\n",
    "And plug in our potential:\n",
    "\n",
    "$$\n",
    "-\\frac{\\hbar^2}{2m} \\frac{\\partial^2 \\phi(x)}{\\partial x^2} - V_o \\exp(-\\alpha x)\\phi(x) = E \\phi(x)\n",
    "$$\n",
    "\n",
    "for $x >0$. \n",
    "\n",
    "Now if we make the substitution $z = \\beta \\exp(- \\alpha x/2)$, then \n",
    "\n",
    "$$\n",
    "-\\frac{\\hbar^2}{2m} \\frac{\\partial^2 \\phi(x)}{\\partial x^2} - V_o (z/\\beta)^2\\phi(x) = E \\phi(x)\n",
    "$$\n",
    "\n",
    "But we're mixing $z$'s and $x$'s. So let's figure out how to recast these $x$-derivatives:\n",
    "\n",
    "$$\n",
    "\\frac{\\partial z}{\\partial x} = - \\frac{\\alpha}{2} \\beta \\exp(- \\alpha x / 2) = - \\frac{\\alpha }{2} z\n",
    "$$\n",
    "\n",
    "and so:\n",
    "\n",
    "$$\n",
    "\\frac{\\partial }{\\partial x} = \\frac{\\partial z}{\\partial x}\\frac{\\partial }{\\partial z} = - \\frac{\\alpha}{2} z\\frac{\\partial }{\\partial z}\n",
    "$$\n",
    "\n",
    "Similarly:\n",
    "\n",
    "$$\n",
    "\\frac{\\partial ^2 z}{\\partial x^2} = \\frac{\\alpha^2}{4}z \n",
    "$$\n",
    "\n",
    "so:\n",
    "\n",
    "$$\n",
    "\\begin{aligned}\n",
    "\\frac{\\partial ^2 \\phi}{\\partial x^2} = \\frac{\\partial }{\\partial x} \\left(\\frac{\\partial \\phi}{\\partial x}\\right) &= \\frac{\\partial }{\\partial x}  \\left(- \\frac{\\alpha}{2} z\\frac{\\partial \\phi}{\\partial z}\\right) \\\\\n",
    "&= -\\frac{\\alpha}{2}\\frac{\\partial }{\\partial x}  \\left( z\\frac{\\partial \\phi}{\\partial z}\\right) \\\\\n",
    "&= - \\frac{\\alpha}{2}  \\left(-\\frac{\\alpha}{2} z\\frac{\\partial }{\\partial z}\\right) \\left(z\\frac{\\partial \\phi}{\\partial z}\\right) \\\\\n",
    "&= - \\frac{\\alpha}{2}  \\left(-\\frac{\\alpha}{2} z\\left( \\frac{\\partial \\phi}{\\partial z} + z \\frac{\\partial^2 \\phi}{\\partial z^2} \\right)\\right) \\\\\n",
    "&= \\frac{\\alpha^2}{4} \\left(z \\phi'(z) + z^2 \\phi''(z)\\right)\n",
    "\\end{aligned}\n",
    "$$"
   ]
  },
  {
   "cell_type": "markdown",
   "metadata": {},
   "source": [
    "So then let's go back to our S.E.:\n",
    "\n",
    "$$\n",
    "-\\frac{\\hbar^2}{2m} \\frac{\\partial^2 \\phi(x)}{\\partial x^2} - V_o (z/\\beta)^2\\phi(z) = E \\phi(z)\n",
    "$$\n",
    "\n",
    "where I've recast $\\phi(x)$ as $\\phi(z)$: this changes the boundary conditions but is otherwise okay to do.  This will be addressed in part (b).\\\n",
    "From there, plug in our second $x$-derivative and turn it into a $z$ derivative:\n",
    "\n",
    "$$\n",
    "-\\frac{\\hbar^2}{2m} \\frac{\\alpha^2}{4} \\left(z \\phi'(z) + z^2 \\phi''(z)\\right) - V_o (z/\\beta)^2\\phi(x) = E \\phi(z)\n",
    "$$\n",
    "\n",
    "\n",
    "$$\n",
    "-\\frac{\\hbar^2}{2m} \\frac{\\alpha^2}{4} \\left(z \\phi'(z) + z^2 \\phi''(z)\\right) - V_o \\frac{z^2}{\\beta^2}\\phi(z) = E \\phi(z)\n",
    "$$\n",
    "\n",
    "\n",
    "$$\n",
    "-\\frac{\\hbar^2}{2m} \\frac{\\alpha^2}{4} \\left(z \\phi'(z) + z^2 \\phi''(z)\\right) = \\left(E +V_o \\frac{z^2}{\\beta^2}\\right) \\phi(z)\n",
    "$$\n",
    "\n",
    "\n",
    "$$\n",
    " z \\phi'(z) + z^2 \\phi''(z) = -\\frac{8m}{\\alpha^2 \\hbar^2}\\left(E +V_o \\frac{z^2}{\\beta^2}\\right) \\phi(z)\n",
    "$$\n",
    "\n",
    "$$\n",
    " z \\phi'(z) + z^2 \\phi''(z) = \\frac{8m}{\\alpha^2 \\hbar^2}\\left(-V_o \\frac{z^2}{\\beta^2} - E\\right) \\phi(z)\n",
    "$$\n",
    "\n",
    "\n",
    "$$\n",
    " z \\phi'(z) + z^2 \\phi''(z) + \\frac{8m}{\\alpha^2 \\hbar^2}\\left(V_o \\frac{z^2}{\\beta^2} + E\\right) \\phi(z) = 0\n",
    "$$"
   ]
  },
  {
   "cell_type": "markdown",
   "metadata": {},
   "source": [
    "Now compare to the Bessel differential equation:\n",
    "\n",
    "$$\n",
    "z^2 \\frac{\\partial^2 \\phi}{\\partial z^2} + z \\frac{\\partial \\phi}{\\partial z} + (z^2 -n^2)\\phi = 0\n",
    "$$"
   ]
  },
  {
   "cell_type": "markdown",
   "metadata": {},
   "source": [
    "This must be true when \n",
    "\n",
    "$$\n",
    "\\frac{8m V_0}{\\alpha^2 \\beta^2 \\hbar^2} = 1\n",
    "$$\n",
    "\n",
    "and therefore:\n",
    "\n",
    "$$\n",
    "\\boxed{\\beta = \\sqrt{\\frac{8mV_0}{\\alpha^2 \\hbar^2}}}\n",
    "$$\n",
    "\n",
    "must be satisfified to guarantee the Bessel differential equation. \n",
    "\n",
    "Later, we can also make use of the fact that \n",
    "\n",
    "$$\n",
    "n  = \\sqrt{\\frac{8mE}{\\alpha^2 \\hbar^2}} = \\beta \\sqrt{\\frac{E}{V_0}}\n",
    "$$"
   ]
  },
  {
   "cell_type": "markdown",
   "metadata": {},
   "source": [
    "(b) Now we will address the boundary conditions. Since this is an infinite well, the potential should decay at $x \\to \\infty$ and $x = 0$.\n",
    "\n",
    "Thus, $\\phi(x = 0) = 0$ and $\\phi(x \\to \\infty) =0$. \n",
    "\n",
    "But we have recast this in terms of $z = \\beta \\exp(-\\alpha/2)$.\n",
    "\n",
    "Hence, $\\boxed{\\phi(z = \\beta) =0 \\text { and }\\phi(z \\to 0) = 0}$."
   ]
  },
  {
   "cell_type": "markdown",
   "metadata": {},
   "source": [
    "(c) Based on the above two revelations, we must now assess the quantization condition for these energy levels. The $\\beta$ value we found above guarantees that the Bessel functions $J_\\nu$ and $N_\\nu$ could be solutions, but we also have that $\\phi(0) = 0$ as one of our boundary conditions. This rules out the Neumann function $N_\\nu$ as it is singular at $0$. So that leaves us with \n",
    "\n",
    "$$\n",
    "J_\\nu (\\beta) = 0\n",
    "$$\n",
    "\n",
    "As we found in part (a), $\\nu$ (which I previously referred to as $n$) is:\n",
    "\n",
    "$$\n",
    "\\nu =  \\beta \\sqrt{\\frac{E}{V_0}}\n",
    "$$\n",
    "\n",
    "In general then, for energy level $n$:\n",
    "\n",
    "$$\n",
    "\\nu_n =  \\beta \\sqrt{\\frac{E_n}{V_0}}\n",
    "$$\n",
    "\n",
    "we can solve this for $E_n$, and our quantization condition is therefore:\n",
    "\n",
    "$$\n",
    "\\boxed{J_\\nu (\\beta) = 0, \\quad E_n = V_0\\left(\\frac{\\nu_n}{\\beta}\\right)^2 }\n",
    "$$"
   ]
  },
  {
   "cell_type": "markdown",
   "metadata": {},
   "source": [
    "(d) Determine the critical potential $V_0^{(C)}$.\n",
    "\n",
    "This potential will have only _one_ bound state, and only just. Hence, $\\nu_1 = \\beta \\sqrt\\frac{E}{V_0} = 0$\n",
    "\n",
    "(as the potential shifts further and further up, the energy of the only bound state ought to go to zero. )\n",
    "\n",
    "And thus, $\\psi_1(z) = J_0(z)$, and must satisfy our first B.C., $J_0(\\beta) =0$.\n",
    "\n",
    "\n",
    "This can only be solved numerically:"
   ]
  },
  {
   "cell_type": "code",
   "execution_count": 1,
   "metadata": {},
   "outputs": [
    {
     "name": "stdout",
     "output_type": "stream",
     "text": [
      "Root: 2.4048255576957724\n"
     ]
    }
   ],
   "source": [
    "import numpy as np\n",
    "from scipy.optimize import root_scalar\n",
    "from scipy.special import j0\n",
    "\n",
    "# Define the function J_0(z)\n",
    "def bessel_j0(z):\n",
    "    return j0(z)\n",
    "\n",
    "# Find the first root using a bracketing method\n",
    "root = root_scalar(bessel_j0, bracket=[2, 4])  # First root is around 2.4\n",
    "print(f\"Root: {root.root}\")\n"
   ]
  },
  {
   "cell_type": "markdown",
   "metadata": {},
   "source": [
    "Thus, $\\beta = 2.4048 = \\sqrt{\\frac{8mV_0}{\\alpha^2 \\hbar^2}}$"
   ]
  },
  {
   "cell_type": "markdown",
   "metadata": {},
   "source": [
    "$$\n",
    "\\beta^2 = \\frac{8mV_0}{\\alpha \\hbar}\n",
    "$$\n",
    "\n",
    "$$\n",
    "\\beta^2 \\frac{\\alpha \\hbar}{8m}= V_0\n",
    "$$\n",
    "\n",
    "$$\n",
    "\\boxed{(2.4048)^2 \\frac{\\alpha \\hbar}{8m}= V_0}\n",
    "$$\n"
   ]
  },
  {
   "cell_type": "code",
   "execution_count": 3,
   "metadata": {},
   "outputs": [
    {
     "data": {
      "text/plain": [
       "0.7228828799999999"
      ]
     },
     "execution_count": 3,
     "metadata": {},
     "output_type": "execute_result"
    }
   ],
   "source": [
    "2.4048**2/8 # approx value of the constant out front"
   ]
  },
  {
   "cell_type": "markdown",
   "metadata": {},
   "source": [
    "## 5:\n",
    "\n",
    "The potential of the one-dimensional hydrogen atom with \"centrifugal term\" is given by \n",
    "\n",
    "$$\n",
    "V(x) = - \\frac{\\alpha}{x} + \\frac{\\beta}{x^2},\n",
    "$$\n",
    "\n",
    "where $\\alpha, \\beta > 0$ are constants. Compute the bound states wwave functions $\\phi_n(x)$ and the energy levels $E_n, n = 1, 2...$ according to the following scheme. \n",
    "\n",
    "(a) Let $\\phi(x) = Ax^{\\nu}P(x) \\exp(-sx)$, where $A, \\nu >0$ and $P(x)$ is an, as yet, unspecified function. Inserting this trial wave function into the statinonary Schrodinger equation for the one-dimensional hydrogen atom with centrifugal term, derive a differential equation for $P(x)$. "
   ]
  },
  {
   "cell_type": "markdown",
   "metadata": {},
   "source": [
    "Once again, let's begin by writing the 1D S.E.:\n",
    "\n",
    "$$\n",
    "-\\frac{\\hbar^2}{2m} \\frac{\\partial^2 \\phi(x)}{\\partial x^2} + V(x) \\phi(x) = E \\phi(x)\n",
    "$$\n",
    "\n",
    "We'll need to differentiate $\\phi(x)$...\n",
    "\n",
    "$$\n",
    "\\begin{aligned}\n",
    "\\frac{\\partial \\phi}{\\partial x} &= A e^{-s x} x^{\\nu } P'(x)+A \\nu  P(x) e^{-s x} x^{\\nu -1}-A s P(x) e^{-s x} x^{\\nu } \\\\\n",
    "&= A e^{-s x} x^{\\nu -1} \\left(x P'(x)+P(x) (\\nu -s x)\\right) \\\\\n",
    "\\end{aligned}\n",
    "$$\n",
    "\n",
    "...twice:\n",
    "\n",
    "\n",
    "$$\n",
    "\\begin{aligned}\n",
    "\\frac{\\partial ^2 \\phi}{\\partial x^2} &= -2 A s e^{-s x} \\left(x^{\\nu } P'(x)+\\nu  P(x) x^{\\nu -1}\\right)+A e^{-s x} \\left(x^{\\nu } P''(x)+2 \\nu  x^{\\nu -1} P'(x)+(\\nu -1) \\nu  P(x) x^{\\nu -2}\\right)+A s^2 P(x) e^{-s x} x^{\\nu } \\\\\n",
    "&= A e^{-s x} x^{\\nu -2} \\left(x \\left(x P''(x)+P'(x) (2 \\nu -2 s x)\\right)+P(x) \\left((\\nu -1) \\nu +s^2 x^2-2 \\nu  s x\\right)\\right)\n",
    "\\end{aligned}\n",
    "$$\n",
    "\n",
    "So then we can put that back in our Schrodinger Equation:\n",
    "\n",
    "$$\n",
    "-\\frac{\\hbar^2}{2m} \\left( A e^{-s x} x^{\\nu -2} \\left(x \\left(x P''(x)+P'(x) (2 \\nu -2 s x)\\right)+P(x) \\left((\\nu -1) \\nu +s^2 x^2-2 \\nu  s x\\right)\\right)\\right) + V(x) Ax^{\\nu}P(x) \\exp(-sx) = E Ax^{\\nu}P(x) \\exp(-sx)\n",
    "$$\n",
    "\n"
   ]
  },
  {
   "cell_type": "markdown",
   "metadata": {},
   "source": [
    "After we cancel out the $Ax^\\nu P(x) \\exp(-sx)$, we are left with:\n",
    "\n",
    "$$\n",
    "-\\frac{\\hbar^2}{2m} [x^\\nu (s^2 P - 2sP' + P'') + x^{\\nu -1} (2v P'-2svP) + x^{\\nu -2} (v(v-1))P] + \\left(-\\frac{\\alpha}{x} + \\frac{\\beta}{x^2} - E\\right)x^\\nu P\n",
    "$$\n",
    "\n",
    "From here, we can eliminate terms that involve $xP$ and $x^{-1}P$ by imposing two conditions:\n",
    "\n",
    "1. $\\nu(\\nu-1) - \\frac{2m\\beta}{\\hbar^2} =0$, to which the solution is:\n",
    "\n",
    "$$\n",
    "\\nu = \\frac{1 + \\sqrt{8m\\beta /\\hbar^2}}{2},\n",
    "$$\n",
    "\n",
    "for which we have taken the positive root on the grounds that $\\nu$ itself must be positive. \n",
    "\n",
    "Similarly, we have\n",
    "\n",
    "2. $s^2 + \\frac{2mE}{\\hbar^2} = 0$, and therefore\n",
    "\n",
    "$$\n",
    "E = -\\frac{\\hbar^2s^2}{2m}.\n",
    "$$\n",
    "\n",
    "With these constraints, \n",
    "\n",
    "$$\n",
    "x P^{\\prime \\prime}(x)+(2 v-2 s x) P^{\\prime}(x)+\\left(-2 s \\nu+2 \\frac{2ma}{\\hbar^2}\\right) P(x)=0\n",
    "$$\n",
    "\n",
    "From here I will define one more substitution, just to clean this up: $\\gamma = \\frac{2ma}{\\hbar^2}$, which gives us\n",
    "\n",
    "$$\n",
    "x P^{\\prime \\prime}(x)+(2 v-2 s x) P^{\\prime}(x)+\\left(-2 s \\nu+2 \\gamma \\right) P(x)=0\n",
    "$$"
   ]
  },
  {
   "cell_type": "markdown",
   "metadata": {},
   "source": [
    "\n",
    "\n",
    "(b) State the differential equation for $P$ in the variable $z = 2sx$. The wave function will be finite at infinity only if $P$ is a polynomial. Inspect the differential equation for $P$. State the conditions you have to require so that $P$ satisfies the differential equation for one of the classic polynomials discussed in Section 2.3. \n",
    "\n",
    "We start with the differential equation for $P(x)$ from part (a):\n",
    "\n",
    "$$\n",
    "x P^{\\prime \\prime}(x)+(2 v-2 s x) P^{\\prime}(x)+(-2 s \\nu+2 \\gamma) P(x)=0\n",
    "$$\n",
    "\n",
    "Now calculate its $z$-derivatives:\n",
    "\n",
    "$$\n",
    "\\frac{d P}{d x}=\\frac{d P}{d z} \\frac{d z}{d x}=\\frac{d P}{d z} \\cdot 2 s=2 s P^{\\prime}(z)\n",
    "$$\n",
    "\n",
    "\n",
    "$$\n",
    "\\frac{d^2 P}{d x^2}=\\frac{d}{d x}\\left(\\frac{d P}{d x}\\right)=\\frac{d}{d x}\\left(2 s \\frac{d P}{d z}\\right)=2 s \\frac{d}{d x}\\left(\\frac{d P}{d z}\\right)=2 s \\cdot \\frac{d^2 P}{d z^2} \\cdot \\frac{d z}{d x}=2 s \\cdot \\frac{d^2 P}{d z^2} \\cdot 2 s=4 s^2 P^{\\prime \\prime}(z)\n",
    "$$\n",
    "\n",
    "\n",
    "Our new equation is therefore\n",
    "$$\n",
    "2 s z P^{\\prime \\prime}(z)+(2 \\nu-z) \\cdot 2 s P^{\\prime}(z)+(-2 s \\nu+2 \\gamma) P(z)=0\n",
    "$$\n",
    "\n",
    "\n",
    "\n",
    "After some algebra, the differential equation for $P(z)$ in the variable $z=2 s x$ is:\n",
    "\n",
    "$$\n",
    "z P^{\\prime \\prime}(z)+(2 v-z) P^{\\prime}(z)+\\left(-\\nu+\\frac{\\gamma}{s}\\right) P(z)=0\n",
    "$$\n",
    "The associated Laguerre polynomials $L_n^k(z)$ are defined by the following DE:\n",
    "\n",
    "$$\n",
    "z \\frac{d^2 L_{\\mathrm{n}}^k}{d z^2}+(k+1-z) \\frac{d L_{\\mathrm{m}}^k}{d z}+n L_n^k(z)=0\n",
    "$$\n",
    "\n",
    "We can therefore make a mapping between our two sets of coefficients:\n",
    "\n",
    " $k+1-z=2 \\nu-z \\Rightarrow k+1=2 v \\Rightarrow k=2 \\nu-1$, and $\\mathrm{n}=-\\nu+\\frac{\\gamma}{g}$.\n",
    "\n",
    " Concisely:\n",
    "$$\n",
    "\\boxed{k=2 \\nu-1, \\quad-\\nu+\\frac{\\gamma}{s}=n, \\quad n=0,1,2, \\ldots,}\n",
    "$$\n",
    "\n",
    "with $\\gamma=\\frac{m \\alpha}{\\hbar^2}, \\nu=\\frac{1+\\sqrt{1+8 m \\beta / \\hbar^2}}{2}$. Hence,\n",
    "\n",
    "$$\n",
    "P(z)=L_n^{2 \\nu-1}(z)\n",
    "$$\n",
    "\n",
    "This should guarantee that our diff eq satisifies a Laguerre polynomial $L_{\\mathrm{n}}^k(z)$. \n",
    "$$\n",
    "\\nu=\\frac{1+\\sqrt{1+8 m \\beta / \\hbar^2}}{2}>0, \\quad \\gamma=\\frac{m \\alpha}{\\hbar^2}, \\quad s>0\n",
    "$$\n",
    "\n",
    "\n",
    "Rocall $E=-\\frac{h^2 s^2}{2 \\mathrm{~m}}$.\n",
    "The condition for $n$ is:\n",
    "\n",
    "$$\n",
    "-\\nu+\\frac{\\gamma}{s}=n, \\quad n=0,1,2, \\ldots\n",
    "$$\n",
    "\n",
    "\n",
    "Now plug $\\gamma$ back in and solve for $s$:\n",
    "$$\n",
    "s=\\frac{m \\alpha}{\\hbar^2(n+\\nu)}\n",
    "$$\n",
    "Let's plug all these back into our diff eq and see what holds:\n",
    "\n",
    "$$\n",
    "z P^{\\prime \\prime}(z)+(2 v-z) P^{\\prime}(z)+\\left(-\\nu+\\frac{\\gamma}{s}\\right) P(z)=0\n",
    "$$\n",
    "\n",
    "Indeed, this is an associated Laguerre polynomial! Provided the boxed conditions above are met. \n",
    "\n",
    "\n",
    "\n"
   ]
  },
  {
   "cell_type": "markdown",
   "metadata": {},
   "source": []
  },
  {
   "cell_type": "markdown",
   "metadata": {},
   "source": [
    "## 6:\n",
    "\n",
    "Suppose $E_n^{(V)} (V_0, \\alpha), n = 0, 1, 2, ....$ are the energy levels of a quantum particle moving in the potential \n",
    "\n",
    "$$\n",
    "V(x) = V_0 \\cosh(\\alpha x), \\quad V_0, \\alpha > 0\n",
    "$$\n",
    "\n",
    "Compute the energy levels $E_n^{(W)}(W_0, \\beta), n = 0, 1, 2...$ of a quantum particle moving in the potential\n",
    "\n",
    "$$\n",
    "W(x) = W_0 \\cosh^2 (\\beta x), \\quad W_0, \\beta >0\n",
    "$$"
   ]
  },
  {
   "cell_type": "markdown",
   "metadata": {},
   "source": [
    "Well, you know the drill. Schrodinger equation:\n",
    "\n",
    "$$\n",
    "-\\frac{\\hbar^2}{2m} \\frac{\\partial^2 \\psi(x)}{\\partial x^2} + V(x) \\psi(x) = E \\psi(x)\n",
    "$$\n",
    "\n",
    "Plug in:\n",
    "\n",
    "$$\n",
    "-\\frac{\\hbar^2}{2m} \\frac{\\partial^2 \\psi(x)}{\\partial x^2} + V_0\\cosh (\\alpha x) \\psi(x) = E \\psi(x)\n",
    "$$"
   ]
  },
  {
   "cell_type": "markdown",
   "metadata": {},
   "source": [
    "Our task is to get the S.E. associated with this other potential. From here we will use the identity:\n",
    "\n",
    "$$\n",
    "\\cosh^2 (x) = \\frac{\\cosh 2x +1}{2} = \\frac{\\cosh (2x)}{2} + \\frac{1}{2}\n",
    "$$"
   ]
  },
  {
   "cell_type": "markdown",
   "metadata": {},
   "source": [
    "Now, we'll write down the Schrodinger equation for $W(x)$:"
   ]
  },
  {
   "cell_type": "markdown",
   "metadata": {},
   "source": [
    "$$\n",
    "\\begin{aligned}\n",
    "&-\\frac{\\hbar^2}{2m} \\frac{\\partial^2 \\psi(x)}{\\partial x^2} + W(x) \\psi(x) = E \\psi(x) \\\\\n",
    "&-\\frac{\\hbar^2}{2m} \\frac{\\partial^2 \\psi(x)}{\\partial x^2} + W_0 \\cosh^2 (\\beta x) \\psi(x) = E \\psi(x)\n",
    "\\end{aligned}\n",
    "$$\n"
   ]
  },
  {
   "cell_type": "markdown",
   "metadata": {},
   "source": [
    "And then make the substitution:\n",
    "\n",
    "$$\n",
    "-\\frac{\\hbar^2}{2m} \\frac{\\partial^2 \\psi(x)}{\\partial x^2} + W_0 \\left(\\frac{\\cosh (2\\beta x)}{2} + \\frac{1}{2}\\right) \\psi(x) = E \\psi(x)\n",
    "$$"
   ]
  },
  {
   "cell_type": "markdown",
   "metadata": {},
   "source": [
    "Which rearranges to:\n",
    "\n",
    "$$\n",
    "-\\frac{\\hbar^2}{2m} \\frac{\\partial^2 \\psi(x)}{\\partial x^2} + W_0 \\left(\\frac{\\cosh (2\\beta x)}{2}\\right) \\psi(x) = \\left(E - \\frac{1}{2}W_0\\right) \\psi(x)\n",
    "$$"
   ]
  },
  {
   "cell_type": "markdown",
   "metadata": {},
   "source": [
    "Now define $\\alpha = 2 \\beta$ and $V_0 = \\frac{W_0}{2}$:"
   ]
  },
  {
   "cell_type": "markdown",
   "metadata": {},
   "source": [
    "$$\n",
    "-\\frac{\\hbar^2}{2m} \\frac{\\partial^2 \\psi(x)}{\\partial x^2} + V_0 \\left({\\cosh (\\alpha x)}\\right) \\psi(x) = \\left(E - \\frac{1}{2}W_0\\right) \\psi(x)\n",
    "$$"
   ]
  },
  {
   "cell_type": "markdown",
   "metadata": {},
   "source": [
    "Now if we define $E_W = E - W_0/2$, then:\n",
    "\n",
    "$$\n",
    "-\\frac{\\hbar^2}{2m} \\frac{\\partial^2 \\psi(x)}{\\partial x^2} + V_0 \\left({\\cosh (\\alpha x)}\\right) \\psi(x) = E_W \\psi(x)\n",
    "$$"
   ]
  },
  {
   "cell_type": "markdown",
   "metadata": {},
   "source": [
    "The solutions to this are exactly $E_n^{(V)}(V_0, \\alpha)$ from above. Then we can rewrite this as\n",
    "\n",
    "$$\n",
    "E_n^{(W)}(W_0, \\beta) = \\boxed{E_n^{(V)}\\left(\\frac{W_0}{2}, 2\\beta\\right) + \\frac{W_0}{2}}\n",
    "$$"
   ]
  },
  {
   "cell_type": "markdown",
   "metadata": {},
   "source": [
    "Where we have substituted in $\\alpha = 2 \\beta$ and $V_0 = \\frac{W_0}{2}$ and shifted the energy back to accomodate $E_W$ being shifted by the same ammount. "
   ]
  },
  {
   "cell_type": "markdown",
   "metadata": {},
   "source": []
  }
 ],
 "metadata": {
  "authors": [
   {
    "name": "Max Hanrahan"
   }
  ],
  "kernelspec": {
   "display_name": "Python 3 (ipykernel)",
   "language": "python",
   "name": "python3"
  },
  "language_info": {
   "codemirror_mode": {
    "name": "ipython",
    "version": 3
   },
   "file_extension": ".py",
   "mimetype": "text/x-python",
   "name": "python",
   "nbconvert_exporter": "python",
   "pygments_lexer": "ipython3",
   "version": "3.12.2"
  }
 },
 "nbformat": 4,
 "nbformat_minor": 4
}
