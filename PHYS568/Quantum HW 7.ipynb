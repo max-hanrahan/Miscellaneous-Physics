{
 "cells": [
  {
   "cell_type": "markdown",
   "metadata": {},
   "source": [
    "## 1:\n",
    "\n",
    "Suppose a piece of wire is bent into the shape of a parabola and rotates around the $z$-axis with constant angular velocity $\\omega$. At time $t=0$ the wire is in the $x-z$ plane and its shape is described by $z(x) = ax^2$, where $a$ is a positive constant. A bead with mass $m$ slides without friction on the wire. The bead experiences a gravitational field with gravitational acceleration $g$ in the negative $z$ direction. \n",
    "\n",
    "(a) Select an appropriate generalized coordinate for the bead and write down its kinetic and potential energies.\n",
    "\n",
    "The number of generalized coordinates $n$ is often conveniently written as\n",
    "\n",
    "$$\n",
    "n = ND-c\n",
    "$$\n",
    "\n",
    "for $N$ particles, $D$ dimensions, and $c$ constraints. \n",
    "\n",
    "Our constraints:\n",
    "\n",
    "1. Harmonic potential: $z = ax^2$\n",
    "1. $\\dot \\varphi = \\omega, \\varphi \\in [0, 2\\pi) \\implies \\varphi(t) = \\omega t + \\varphi_0$\n",
    "\n",
    "We have one particle, three dimensions, and the above two contraints. So that readily gives us 1 generalized coordinate, and it's just fair to use $x = q$. \n",
    "\n",
    "It's easier to think about Cartesian coordinates (X, Y, Z) and then convert to this generalized scheme. \n",
    "\n",
    "$$\n",
    "X = x \\cos(\\varphi), \\quad Y = x \\sin(\\varphi), \\quad Z = ax^2\n",
    "$$\n",
    "\n",
    "Then their velocities are given by:\n",
    "\n",
    "$$\n",
    "\\dot X = \\dot x \\cos(\\varphi) - \\dot x \\sin (\\varphi) \\dot \\varphi = \\dot x \\cos (\\varphi) - x \\omega \\sin (\\varphi) \\\\\n",
    "$$\n",
    "\n",
    "$$\n",
    "\\dot Y = \\dot x \\sin(\\varphi) + \\dot x \\cos (\\varphi) \\dot \\varphi = \\dot x \\sin (\\varphi) + x \\omega \\cos (\\varphi) \\\\\n",
    "$$\n",
    "\n",
    "$$\n",
    "\\dot Z = 2 a x \\dot x\n",
    "$$\n",
    "\n",
    "and therefore the kinetic energy is given by:\n",
    "\n",
    "$$\n",
    "\\begin{aligned}\n",
    "T &= \\frac{1}{2}m(\\dot X^2 + \\dot Y^2 + \\dot Z^2) \\\\\n",
    "&= \\frac{m}{2} \\big[(\\dot x \\cos (\\varphi) - x \\omega \\sin (\\varphi))^2 + (\\dot x \\sin (\\varphi) + x \\omega \\cos (\\varphi))^2  \\\\\n",
    "&+ (2 a x \\dot x)^2\\big]\n",
    "\\end{aligned}\n",
    "$$\n",
    "\n",
    "which we can simplify like so (I'm using sympy the way one would use Mathematica):\n"
   ]
  },
  {
   "cell_type": "code",
   "execution_count": 120,
   "metadata": {},
   "outputs": [
    {
     "data": {
      "text/latex": [
       "$\\displaystyle \\frac{m \\left(4 a^{2} x^{2} \\dot{x}^{2} + \\omega^{2} x^{2} + \\dot{x}^{2}\\right)}{2}$"
      ],
      "text/plain": [
       "m*(4*a**2*x**2*xdot**2 + omega**2*x**2 + xdot**2)/2"
      ]
     },
     "execution_count": 120,
     "metadata": {},
     "output_type": "execute_result"
    }
   ],
   "source": [
    "import sympy as sp\n",
    "\n",
    "m, x, xdot, phi, omega, a = sp.symbols('m x xdot phi omega a')\n",
    "term1 = (xdot * sp.cos(phi) - x * omega * sp.sin(phi))**2\n",
    "term2 = (xdot * sp.sin(phi) + x * omega * sp.cos(phi))**2\n",
    "term3 = 4 * a**2 * x**2 * xdot**2\n",
    "T = (m / 2) * (term1 + term2 + term3)\n",
    "\n",
    "T = sp.simplify(T)\n",
    "T"
   ]
  },
  {
   "cell_type": "code",
   "execution_count": 121,
   "metadata": {},
   "outputs": [
    {
     "data": {
      "text/plain": [
       "'\\\\frac{m \\\\left(4 a^{2} x^{2} \\\\dot{x}^{2} + \\\\omega^{2} x^{2} + \\\\dot{x}^{2}\\\\right)}{2}'"
      ]
     },
     "execution_count": 121,
     "metadata": {},
     "output_type": "execute_result"
    }
   ],
   "source": [
    "sp.latex(T) # for my purposes in writing the next cell"
   ]
  },
  {
   "cell_type": "markdown",
   "metadata": {},
   "source": [
    "Finally we have:\n",
    "\n",
    "$$\n",
    "\\boxed{T = \\frac{m \\left(4 a^{2} x^{2} \\dot{x}^{2} + \\omega^{2} x^{2} + \\dot{x}^{2}\\right)}{2}}.\n",
    "$$\n",
    "\n",
    "And of course, \n",
    "\n",
    "$$\n",
    "\\boxed{V = mgz = mgax^2}\n",
    "$$"
   ]
  },
  {
   "cell_type": "markdown",
   "metadata": {},
   "source": [
    "\n",
    "(b) State the Lagrangian function. \n",
    "\n",
    "$$\n",
    "\\boxed{\\mathcal L = T- V = \\frac{m \\left(4 a^{2} x^{2} \\dot{x}^{2} + \\omega^{2} x^{2} + \\dot{x}^{2}\\right)}{2} - mgax^2}\n",
    "$$\n",
    "\n",
    "(c) Write down the Lagrangian equation of motion.   \n",
    "\n",
    "The Lagrangain equation of motion is:\n",
    "\n",
    "$$\n",
    "\\frac{d}{dt} \\frac{\\partial \\mathcal L}{\\partial \\dot x} = \\frac{\\partial \\mathcal L}{\\partial x},\n",
    "$$\n",
    "\n",
    "so let's compute the right hand side first:\n",
    "\n",
    "$$\n",
    "\\begin{aligned}\n",
    "\\frac{\\partial \\mathcal L}{\\partial x} &= \\frac{m}{2} \\left[8 a^2 \\dot x^2 x+ 2\\omega^2 x\\right] - 2mgax \\\\\n",
    "&= 4ma^2 \\dot x^2 x + m\\omega^2x -2mgax.\n",
    "\\end{aligned}\n",
    "$$\n",
    "\n",
    "Similarly we can compute the other partial derivative:\n",
    "$$\n",
    "\\begin{aligned}\n",
    "\\frac{\\partial \\mathcal L}{\\partial \\dot x} \n",
    "&= 4ma^2 \\dot x x^2 + m \\dot x.\n",
    "\\end{aligned}\n",
    "$$\n",
    "\n",
    "The time derivative is where we need to be careful:\n",
    "\n",
    "$$\n",
    "\\begin{aligned}\n",
    "\\frac{\\partial }{\\partial t} \\frac{\\partial \\mathcal L}{\\partial \\dot x}  &= \\frac{\\partial }{\\partial t}  \\left(4ma^2 \\dot x x^2 + m \\dot x\\right) \\\\\n",
    "&= \\frac{\\partial }{\\partial t} (m\\dot x (4 a^2x^2 + 1)) \\\\\n",
    "&= m\\ddot x(4a^2 x^2 + 1) + m \\dot x (8a^2 x \\dot x) \\\\\n",
    "&= 4m\\ddot xa^2 x^2 + m \\ddot x + 8m \\dot x^2a^2 x.\\\\\n",
    "\\end{aligned}\n",
    "$$\n",
    "\n",
    "So then we will set these two as equal:\n",
    "\n",
    "$$\n",
    "\\begin{aligned}\n",
    "\\frac{\\partial \\mathcal L}{\\partial x}  &= \\frac{\\partial }{\\partial t} \\frac{\\partial \\mathcal L}{\\partial \\dot x} \\implies \\\\\n",
    " 4ma^2 \\dot x^2 x + m\\omega^2x -2mgax &= 4m\\ddot xa^2 x^2 + m \\ddot x + 8m \\dot x^2a^2 x \\\\\n",
    "  m\\omega^2x -2mgax &= 4m\\ddot xa^2 x^2 + m \\ddot x + 4m \\dot x^2a^2 x\n",
    "\\end{aligned}\n",
    "$$\n",
    "\n",
    "Now we group all the $x$ terms and the $\\ddot x$ terms:\n",
    "\n",
    "$$\n",
    "\\begin{aligned}\n",
    " m\\omega^2x -2mgax &= 4m\\ddot xa^2 x^2 + m \\ddot x + 4m \\dot x^2a^2 x \\\\\n",
    "  (m\\omega^2 -2mga- 4m \\dot x^2 a^2)x &= (4ma^2 x^2 + m) \\ddot x  \\\\\n",
    " \\end{aligned}\n",
    "$$\n",
    "\n",
    "Cancel the $m$'s and rearrange:\n",
    "\n",
    "$$\n",
    "  \\boxed{(\\omega^2 -2ga- 4 \\dot x^2 a^2)x = (4a^2 x^2 + 1) \\ddot x}.  \\\\\n",
    "$$\n",
    "\n",
    "And at last we have a 2nd-order differential equation. \n",
    "\n",
    "\n",
    "(d) What is the equilibrium point of the bead? Is it always stable?\n",
    "\n",
    "The equilibrium point is where $\\dot x = 0$ and $\\ddot x = 0$. If we set those two variables to zero, then:\n",
    "\n",
    "$$\n",
    "  (\\omega^2 -2ga)x = 0.  \\\\\n",
    "$$\n",
    "\n",
    "This signifies that $x=0$ is a trivial solution, but $\\omega^2 = 2ga$ is an equilibrium condition for arbitrary $x$.\n",
    "\n",
    "For small $x$ (i.e., $|x| \\ll 1$), terms on the order of $x\\ddot x$ will vanish, and our bead's Lagrangian equation of motion becomes:\n",
    "\n",
    "$$\n",
    "(\\omega^2 -2ga)x =  \\ddot x\n",
    "$$\n",
    "\n",
    "Define $\\Omega^2 = 2ga- \\omega^2$, and we have:\n",
    "\n",
    "$$\n",
    "\\ddot x + \\Omega^2 x = 0\n",
    "$$\n",
    "\n",
    "as the bead's equation of motion in the limit of small oscillations. \n",
    "\n",
    "This motion will be stable if $\\Omega^2 >0$, or equivalently when $2ga >\\omega^2$. But that is not always the case, and the motion will be unstable when $\\Omega^2 <0$, or when $2ga <\\omega^2$. And it will be neutrally stable at $\\Omega^2 = 0$.\n",
    "\n",
    "(e) What is the frequency of small oscillations around the equilibrium point?\n",
    "\n",
    "Incidentally, we already defined it as $\\Omega$ in the previous part:\n",
    "\n",
    "$$\n",
    "\\boxed{\\Omega = \\sqrt{2ga - \\omega^2}}\n",
    "$$\n",
    "\n",
    "or $f = \\frac{1}{2\\pi}\\sqrt{2ga - \\omega^2}$ if you prefer."
   ]
  },
  {
   "cell_type": "markdown",
   "metadata": {},
   "source": [
    "## 2:\n",
    "\n",
    "Suppose $f(p_1, ..., p_N, q_1, ..., q_N)$ and $g(p_1, ..., p_N, q_1, ..., q_N)$ are the two function of $2n$-dimensional phase space. We define the *Poisson Bracket* \n",
    "\n",
    "$$\n",
    "\\left\\{f(\\mathbf p, \\mathbf q), g(\\mathbf p, \\mathbf q)\\right\\} = \\sum_{j=1}^N \\frac{\\partial f(\\mathbf p, \\mathbf q)}{\\partial p_j}\\frac{\\partial g(\\mathbf p, \\mathbf q)}{\\partial q_j} - \\frac{\\partial f(\\mathbf p, \\mathbf q)}{\\partial q_j}\\frac{\\partial g(\\mathbf p, \\mathbf q)}{\\partial p_j}.\n",
    "$$\n",
    "\n",
    "Show that\n",
    "\n",
    "$$\n",
    "\\frac{df(\\mathbf p, \\mathbf q)}{dt} = \\left\\{H(\\mathbf p, \\mathbf q), f(\\mathbf p, \\mathbf q)\\right\\},\n",
    "$$\n",
    "\n",
    "where $H(p, q)$ is the Hamiltonian function.\n",
    "\n",
    "For a function $f(p,q)$ that depends on phase space coordinates, the total time derivative is:\n",
    "\n",
    "$$\n",
    "\\frac{df (p,q)}{dt} = \\sum_{j=1}^N \\left[\\frac{\\partial f(p, q)}{\\partial p_j} \\frac{dp_j}{dt} + \\frac{\\partial f(p, q)}{\\partial q_j} \\frac{dq_j}{dt} \\right].\n",
    "$$\n",
    "\n",
    "Now by 10.44 and 10.45 we have:\n",
    "\n",
    "$$\n",
    "\\frac{dp_j}{dt} = - \\frac{\\partial H(p,q)}{\\partial q_j}\n",
    "$$\n",
    "\n",
    "$$\n",
    "\\frac{dq_j}{dt} = \\frac{\\partial H(p,q)}{\\partial p_j}\n",
    "$$\n",
    "\n",
    "which we can readily substitute:\n",
    "\n",
    "$$\n",
    "\\begin{aligned}\n",
    "\\frac{df (p,q)}{dt} &= \\sum_{j=1}^N \\left[\\frac{\\partial f(p, q)}{\\partial p_j} \\left(- \\frac{\\partial H(p,q)}{\\partial q_j}\\right) + \\frac{\\partial f(p, q)}{\\partial q_j} \\frac{\\partial H(p,q)}{\\partial p_j} \\right] \\\\\n",
    "&= \\sum_{j=1}^N \\left[-\\frac{\\partial f(p, q)}{\\partial p_j} \\left( \\frac{\\partial H(p,q)}{\\partial q_j}\\right) + \\frac{\\partial f(p, q)}{\\partial q_j} \\frac{\\partial H(p,q)}{\\partial p_j} \\right] \\\\\n",
    "&= \\sum_{j=1}^N \\left[\\frac{\\partial f(p, q)}{\\partial q_j} \\frac{\\partial H(p,q)}{\\partial p_j} -\\frac{\\partial f(p, q)}{\\partial p_j}  \\frac{\\partial H(p,q)}{\\partial q_j}   \\right].\n",
    "\\end{aligned}\n",
    "$$\n",
    "\n",
    "Which, upon inspection, is the exact same expression we had for our Poisson brackets. If we look at our original formula for the Poisson Bracket and set $f \\to H$ and $g \\to f$, then: \n",
    "\n",
    "$$\n",
    "\\left\\{H( p,  q), f( p,  q)\\right\\} = \\sum_{j=1}^N \\left[ \\frac{\\partial H( p,  q)}{\\partial p_j}\\frac{\\partial f( p,  q)}{\\partial q_j} - \\frac{\\partial H( p,  q)}{\\partial q_j}\\frac{\\partial f( p,  q)}{\\partial p_j} \\right].\n",
    "$$\n",
    "\n",
    "These are clearly the same expression, and thus we have shown\n",
    "\n",
    "$$\n",
    "\\boxed{\\frac{df (p,q)}{dt}= \\left\\{H( p,  q), f( p,  q)\\right\\}}\n",
    "$$\n",
    "\n",
    "as desired."
   ]
  },
  {
   "cell_type": "markdown",
   "metadata": {},
   "source": [
    "## 3:\n",
    "\n",
    "Let $C_1:P=P(p,q)$, $Q = Q(p,q)$ and $C_1:P^\\prime=P^\\prime(P,Q)$, $Q^\\prime = Q^\\prime(P,Q)$ be two canonical transformations. Show that the composition\n",
    "\n",
    "$$\n",
    "C = C_2 \\circ C_1,\n",
    "$$\n",
    "\n",
    "of these two canonical transformations,\n",
    "\n",
    "$$\n",
    "C:(p,q) \\to (P^\\prime, Q^\\prime): \\\\\n",
    "P^\\prime = P^\\prime(P(p, q), Q(p, q)), \\quad Q^\\prime = Q^\\prime(P(p, q), Q(p, q))\n",
    "$$\n",
    "\n",
    "is again a canonical transformation. "
   ]
  },
  {
   "cell_type": "markdown",
   "metadata": {},
   "source": [
    "By definition of a canonical transformation, \n",
    "$$\n",
    "\\det \\begin{bmatrix}\n",
    "\\frac{\\partial P(p,q)}{\\partial p} & \\frac{\\partial P(p,q)}{\\partial q} \\\\\n",
    "\\frac{\\partial Q(p,q)}{\\partial p} & \\frac{\\partial Q(p,q)}{\\partial q}\n",
    "\\end{bmatrix}\n",
    "= 1,\n",
    "$$\n",
    "\n",
    "and\n",
    "\n",
    "$$\n",
    "\\det \\begin{bmatrix}\n",
    "\\frac{\\partial P^\\prime(P,Q)}{\\partial P} & \\frac{\\partial P^\\prime(P,Q)}{\\partial Q} \\\\\n",
    "\\frac{\\partial Q^\\prime(P,Q)}{\\partial P} & \\frac{\\partial Q^\\prime(P,Q)}{\\partial Q}\n",
    "\\end{bmatrix}\n",
    "= 1.\n",
    "$$\n",
    "\n",
    "Our goal, then, is to show that the following matrix has determinant one.\n",
    "\n",
    "$$\n",
    "\\begin{bmatrix}\n",
    "\\frac{\\partial P^\\prime(P(p, q), Q(p, q))}{\\partial p} & \\frac{\\partial P^\\prime(P(p, q), Q(p, q))}{\\partial q} \\\\\n",
    "\\frac{\\partial Q^\\prime(P(p, q), Q(p, q))}{\\partial p} & \\frac{\\partial Q^\\prime(P(p, q), Q(p, q))}{\\partial q}\n",
    "\\end{bmatrix}\n",
    "$$\n",
    "\n",
    "\n",
    "Take advantage of the chain rule:\n",
    "\n",
    "$$\n",
    "\\frac{\\partial P^\\prime(P(p, q), Q(p, q))} {\\partial p} = \\frac{\\partial P^\\prime}{\\partial P} \\frac{\\partial P}{\\partial p} + \\frac{\\partial P^\\prime}{\\partial Q} \\frac{\\partial Q}{\\partial p}\n",
    "$$\n",
    "\n",
    "$$\n",
    "\\frac{\\partial P^\\prime(P(p, q), Q(p, q))} {\\partial q} = \\frac{\\partial P^\\prime}{\\partial P} \\frac{\\partial P}{\\partial q} + \\frac{\\partial P^\\prime}{\\partial Q} \\frac{\\partial Q}{\\partial q}\n",
    "$$\n",
    "\n",
    "$$\n",
    "\\frac{\\partial Q^\\prime(P(p, q), Q(p, q))} {\\partial p} = \\frac{\\partial Q^\\prime}{\\partial P} \\frac{\\partial P}{\\partial p} + \\frac{\\partial Q^\\prime}{\\partial Q} \\frac{\\partial Q}{\\partial p}\n",
    "$$\n",
    "\n",
    "$$\n",
    "\\frac{\\partial Q^\\prime(P(p, q), Q(p, q))} {\\partial q} = \\frac{\\partial Q^\\prime}{\\partial P} \\frac{\\partial P}{\\partial q} + \\frac{\\partial Q^\\prime}{\\partial Q} \\frac{\\partial Q}{\\partial q}\n",
    "$$\n",
    "\n",
    "The matrix we examine becomes:\n",
    "\n",
    "$$\n",
    "\\begin{bmatrix}\n",
    "\\frac{\\partial P^\\prime}{\\partial P} \\frac{\\partial P}{\\partial p} + \\frac{\\partial P^\\prime}{\\partial Q} \\frac{\\partial Q}{\\partial p} & \\frac{\\partial P^\\prime}{\\partial P} \\frac{\\partial P}{\\partial q} + \\frac{\\partial P^\\prime}{\\partial Q} \\frac{\\partial Q}{\\partial q} \\\\\n",
    "\\frac{\\partial Q^\\prime}{\\partial P} \\frac{\\partial P}{\\partial p} + \\frac{\\partial Q^\\prime}{\\partial Q} \\frac{\\partial Q}{\\partial p} & \\frac{\\partial Q^\\prime}{\\partial P} \\frac{\\partial P}{\\partial q} + \\frac{\\partial Q^\\prime}{\\partial Q} \\frac{\\partial Q}{\\partial q}\n",
    "\\end{bmatrix},\n",
    "$$\n",
    "\n",
    "which we can break up as follows:\n",
    "\n",
    "$$\n",
    "\\begin{bmatrix}\n",
    "\\frac{\\partial P'}{\\partial P} & \\frac{\\partial P'}{\\partial Q} \\\\\n",
    "\\frac{\\partial Q'}{\\partial P} & \\frac{\\partial Q'}{\\partial Q}\n",
    "\\end{bmatrix}\n",
    "\\begin{bmatrix}\n",
    "\\frac{\\partial P}{\\partial p} & \\frac{\\partial P}{\\partial q} \\\\\n",
    "\\frac{\\partial Q}{\\partial p} & \\frac{\\partial Q}{\\partial q}\n",
    "\\end{bmatrix}.\n",
    "$$\n",
    "\n",
    "Thus we have shown\n",
    "\n",
    "$$\n",
    "\\begin{bmatrix}\n",
    "\\frac{\\partial P^\\prime(P(p, q), Q(p, q))}{\\partial p} & \\frac{\\partial P^\\prime(P(p, q), Q(p, q))}{\\partial q} \\\\\n",
    "\\frac{\\partial Q^\\prime(P(p, q), Q(p, q))}{\\partial p} & \\frac{\\partial Q^\\prime(P(p, q), Q(p, q))}{\\partial q}\n",
    "\\end{bmatrix} = \n",
    "\\begin{bmatrix}\n",
    "\\frac{\\partial P'}{\\partial P} & \\frac{\\partial P'}{\\partial Q} \\\\\n",
    "\\frac{\\partial Q'}{\\partial P} & \\frac{\\partial Q'}{\\partial Q}\n",
    "\\end{bmatrix}\n",
    "\\begin{bmatrix}\n",
    "\\frac{\\partial P}{\\partial p} & \\frac{\\partial P}{\\partial q} \\\\\n",
    "\\frac{\\partial Q}{\\partial p} & \\frac{\\partial Q}{\\partial q}\n",
    "\\end{bmatrix},\n",
    "$$\n",
    "\n",
    "which means\n",
    "\n",
    "$$\n",
    "\\begin{aligned}\n",
    "\\det \\begin{bmatrix}\n",
    "\\frac{\\partial P^\\prime(P(p, q), Q(p, q))}{\\partial p} & \\frac{\\partial P^\\prime(P(p, q), Q(p, q))}{\\partial q} \\\\\n",
    "\\frac{\\partial Q^\\prime(P(p, q), Q(p, q))}{\\partial p} & \\frac{\\partial Q^\\prime(P(p, q), Q(p, q))}{\\partial q}\n",
    "\\end{bmatrix} &= \n",
    "\\det \\begin{bmatrix}\n",
    "\\frac{\\partial P'}{\\partial P} & \\frac{\\partial P'}{\\partial Q} \\\\\n",
    "\\frac{\\partial Q'}{\\partial P} & \\frac{\\partial Q'}{\\partial Q}\n",
    "\\end{bmatrix}\n",
    "\\det \\begin{bmatrix}\n",
    "\\frac{\\partial P}{\\partial p} & \\frac{\\partial P}{\\partial q} \\\\\n",
    "\\frac{\\partial Q}{\\partial p} & \\frac{\\partial Q}{\\partial q}\n",
    "\\end{bmatrix}, \\\\\n",
    "&= (1)(1) \\\\\n",
    "&= 1.\n",
    "\\end{aligned}\n",
    "$$"
   ]
  },
  {
   "cell_type": "markdown",
   "metadata": {},
   "source": [
    "## 4:\n",
    "\n",
    "The Hamiltonian of two charged particles in an oscillator potential (in dimensionless units) is given by\n",
    "\n",
    "$$\n",
    "\\begin{aligned}\n",
    "H(p_1, p_2; q_1, q_2) &= \\frac{1}{2} (p_1^2 + p_2^2) + \\frac{1}{2}q_1^2 \\\\\n",
    "&+ \\frac{1}{2} \\lambda^2 q_2^2 + \\frac{\\nu^2}{2q_1^2} + \\frac{1}{(q_1^2 + q_2^2)^{1/2}}\n",
    "\\end{aligned}\n",
    "$$\n",
    "\n",
    "Show that the two functions\n",
    "\n",
    "$$\n",
    "\\begin{aligned}\n",
    "&F(p_1, p_2, q_1, q_2) \\\\\n",
    "&= p_1^2 q_2 - p_1 p_2 q_1 + \\frac{q_2}{(q_1^2 + q_2^2)^{1/2}} - q_1^2 q_2 + \\frac{\\nu^2 q_2}{q_1^2}\n",
    "\\end{aligned}\n",
    "$$\n",
    "\n",
    "and\n",
    "\n",
    "$$\n",
    "\\begin{aligned}\n",
    "&G(p_1, p_2, q_1, q_2) \\\\\n",
    "&= \\left \\{\\frac{\\nu^2}{q_1} + p_2^2 q_1 - p_1 p_2 q_2 +  \\frac{q_1}{(q_1^2 + q_2^2)^{1/2}} - \\frac{1}{4}q_1q_2^2\\right\\}^2 \\\\\n",
    "&+ \\frac{\\nu^2}{q_1^2}(p_1 q_1 + p_2 q_2)^2 + \\nu^2 (q_1^2 + q_2^2)\n",
    "\\end{aligned}\n",
    "$$\n",
    "\n",
    "are constants of the motion for $\\lambda = \\pm 2$ and $\\lambda = \\pm 1/2$, respectively. \n",
    "\n",
    "For a system with two degrees of freedom, the Poisson bracket formula is:\n",
    "\n",
    "$$\n",
    "\\{A,B\\} = \\frac{\\partial A}{\\partial q_1}\\frac{\\partial B}{\\partial p_1} - \\frac{\\partial A}{\\partial p_1}\\frac{\\partial B}{\\partial q_1} + \\frac{\\partial A}{\\partial q_2}\\frac{\\partial B}{\\partial p_2}- \\frac{\\partial A}{\\partial p_2}\\frac{\\partial B}{\\partial q_2}.\n",
    "$$\n",
    "\n",
    "Therefore, for $F$ and $H$:\n",
    "\n",
    "$$\n",
    "\\{F,H\\} = \\frac{\\partial F}{\\partial q_1}\\frac{\\partial H}{\\partial p_1} - \\frac{\\partial F}{\\partial p_1}\\frac{\\partial H}{\\partial q_1} + \\frac{\\partial F}{\\partial q_2}\\frac{\\partial H}{\\partial p_2}- \\frac{\\partial F}{\\partial p_2}\\frac{\\partial H}{\\partial q_2}.\n",
    "$$\n",
    "\n",
    "Showing that $F$ is a constant of the motion is tantamount to showing that this above Poisson bracket is zero. I will compute this using sympy."
   ]
  },
  {
   "cell_type": "code",
   "execution_count": 122,
   "metadata": {},
   "outputs": [],
   "source": [
    "import sympy as sp\n",
    "\n",
    "p1, p2, q1, q2 = sp.symbols('p1 p2 q1 q2')\n",
    "lam, nu = sp.symbols('lambda nu')\n",
    "\n",
    "H = sp.Rational(1, 2)*(p1**2 + p2**2) \\\n",
    "    + sp.Rational(1, 2)*q1**2 \\\n",
    "    + sp.Rational(1, 2)*lam**2 * q2**2 \\\n",
    "    + (nu**2) / (2 * q1**2) \\\n",
    "    + 1 / sp.sqrt(q1**2 + q2**2)\n",
    "\n",
    "F = p1**2 * q2 \\\n",
    "    - p1 * p2 * q1 \\\n",
    "    + q2 / sp.sqrt(q1**2 + q2**2) \\\n",
    "    - q1**2 * q2 \\\n",
    "    + (nu**2 * q2) / q1**2"
   ]
  },
  {
   "cell_type": "code",
   "execution_count": 123,
   "metadata": {},
   "outputs": [
    {
     "data": {
      "text/latex": [
       "$\\displaystyle H = \\frac{\\lambda^{2} q_{2}^{2}}{2} + \\frac{\\nu^{2}}{2 q_{1}^{2}} + \\frac{p_{1}^{2}}{2} + \\frac{p_{2}^{2}}{2} + \\frac{q_{1}^{2}}{2} + \\frac{1}{\\sqrt{q_{1}^{2} + q_{2}^{2}}}$"
      ],
      "text/plain": [
       "Eq(H, lambda**2*q2**2/2 + nu**2/(2*q1**2) + p1**2/2 + p2**2/2 + q1**2/2 + 1/sqrt(q1**2 + q2**2))"
      ]
     },
     "execution_count": 123,
     "metadata": {},
     "output_type": "execute_result"
    }
   ],
   "source": [
    "# this is just a display cell \n",
    "# to prove my expressions are correctly inputted:\n",
    "\n",
    "sp.Eq(sp.symbols('H'), H)"
   ]
  },
  {
   "cell_type": "code",
   "execution_count": 124,
   "metadata": {},
   "outputs": [
    {
     "data": {
      "text/latex": [
       "$\\displaystyle F = \\frac{\\nu^{2} q_{2}}{q_{1}^{2}} + p_{1}^{2} q_{2} - p_{1} p_{2} q_{1} - q_{1}^{2} q_{2} + \\frac{q_{2}}{\\sqrt{q_{1}^{2} + q_{2}^{2}}}$"
      ],
      "text/plain": [
       "Eq(F, nu**2*q2/q1**2 + p1**2*q2 - p1*p2*q1 - q1**2*q2 + q2/sqrt(q1**2 + q2**2))"
      ]
     },
     "execution_count": 124,
     "metadata": {},
     "output_type": "execute_result"
    }
   ],
   "source": [
    "# similarly:\n",
    "sp.Eq(sp.symbols('F'), F)"
   ]
  },
  {
   "cell_type": "code",
   "execution_count": 125,
   "metadata": {},
   "outputs": [
    {
     "data": {
      "text/latex": [
       "$\\displaystyle - \\frac{2 \\nu^{2} q_{2}}{q_{1}^{3}} - p_{1} p_{2} - 2 q_{1} q_{2} - \\frac{q_{1} q_{2}}{\\left(q_{1}^{2} + q_{2}^{2}\\right)^{\\frac{3}{2}}}$"
      ],
      "text/plain": [
       "-2*nu**2*q2/q1**3 - p1*p2 - 2*q1*q2 - q1*q2/(q1**2 + q2**2)**(3/2)"
      ]
     },
     "execution_count": 125,
     "metadata": {},
     "output_type": "execute_result"
    }
   ],
   "source": [
    "sp.diff(F, q2)"
   ]
  },
  {
   "cell_type": "code",
   "execution_count": 126,
   "metadata": {},
   "outputs": [],
   "source": [
    "# last thing, let's make a poisson bracket function:\n",
    "\n",
    "def PoissonBracket(H, F, p1, p2, q1, q2):\n",
    "    pbrack = sp.diff(H, p1) * sp.diff(F, q1) - sp.diff(H, q1) * sp.diff(F, p1) + \\\n",
    "        sp.diff(H, p2) * sp.diff(F, q2) - sp.diff(H, q2) * sp.diff(F, p2)\n",
    "    return pbrack"
   ]
  },
  {
   "cell_type": "code",
   "execution_count": 127,
   "metadata": {},
   "outputs": [
    {
     "data": {
      "text/latex": [
       "$\\displaystyle p_{1} q_{1} \\left(\\lambda^{2} q_{2} - \\frac{q_{2}}{\\left(q_{1}^{2} + q_{2}^{2}\\right)^{\\frac{3}{2}}}\\right) + p_{1} \\left(- \\frac{2 \\nu^{2} q_{2}}{q_{1}^{3}} - p_{1} p_{2} - 2 q_{1} q_{2} - \\frac{q_{1} q_{2}}{\\left(q_{1}^{2} + q_{2}^{2}\\right)^{\\frac{3}{2}}}\\right) + p_{2} \\left(\\frac{\\nu^{2}}{q_{1}^{2}} + p_{1}^{2} - q_{1}^{2} - \\frac{q_{2}^{2}}{\\left(q_{1}^{2} + q_{2}^{2}\\right)^{\\frac{3}{2}}} + \\frac{1}{\\sqrt{q_{1}^{2} + q_{2}^{2}}}\\right) - \\left(2 p_{1} q_{2} - p_{2} q_{1}\\right) \\left(- \\frac{\\nu^{2}}{q_{1}^{3}} + q_{1} - \\frac{q_{1}}{\\left(q_{1}^{2} + q_{2}^{2}\\right)^{\\frac{3}{2}}}\\right)$"
      ],
      "text/plain": [
       "p1*q1*(lambda**2*q2 - q2/(q1**2 + q2**2)**(3/2)) + p1*(-2*nu**2*q2/q1**3 - p1*p2 - 2*q1*q2 - q1*q2/(q1**2 + q2**2)**(3/2)) + p2*(nu**2/q1**2 + p1**2 - q1**2 - q2**2/(q1**2 + q2**2)**(3/2) + 1/sqrt(q1**2 + q2**2)) - (2*p1*q2 - p2*q1)*(-nu**2/q1**3 + q1 - q1/(q1**2 + q2**2)**(3/2))"
      ]
     },
     "execution_count": 127,
     "metadata": {},
     "output_type": "execute_result"
    }
   ],
   "source": [
    "pbracket = PoissonBracket(H, F, p1, p2, q1, q2)\n",
    "pbracket "
   ]
  },
  {
   "cell_type": "code",
   "execution_count": 128,
   "metadata": {},
   "outputs": [
    {
     "data": {
      "text/latex": [
       "$\\displaystyle p_{1} q_{1} q_{2} \\left(\\lambda^{2} - 4\\right)$"
      ],
      "text/plain": [
       "p1*q1*q2*(lambda**2 - 4)"
      ]
     },
     "execution_count": 128,
     "metadata": {},
     "output_type": "execute_result"
    }
   ],
   "source": [
    "# clean this up using simplify:\n",
    "sp.simplify(pbracket)"
   ]
  },
  {
   "cell_type": "markdown",
   "metadata": {},
   "source": [
    "As such, this can only be true for $\\lambda^2 = 4.0 \\implies \\lambda = \\pm 2$. When this condition is met, the Poisson bracket is zero and $F$ is a constant of the motion. \n",
    "\n",
    "We shall follow a similar procedure for $G$:"
   ]
  },
  {
   "cell_type": "code",
   "execution_count": 129,
   "metadata": {},
   "outputs": [],
   "source": [
    "G = (nu**2 / q1 + p2**2 * q1 - p1*p2 *q2 + (q1)/sp.sqrt((q1**2 + q2**2)) - sp.Rational(1, 4) *q2**2 * q1)**2 \\\n",
    "    +nu**2/q1**2 * (p1*q1 + p2*q2)**2 + nu**2 *(q1**2 + q2**2) "
   ]
  },
  {
   "cell_type": "code",
   "execution_count": 130,
   "metadata": {},
   "outputs": [
    {
     "data": {
      "text/latex": [
       "$\\displaystyle G = \\nu^{2} \\left(q_{1}^{2} + q_{2}^{2}\\right) + \\frac{\\nu^{2} \\left(p_{1} q_{1} + p_{2} q_{2}\\right)^{2}}{q_{1}^{2}} + \\left(\\frac{\\nu^{2}}{q_{1}} - p_{1} p_{2} q_{2} + p_{2}^{2} q_{1} - \\frac{q_{1} q_{2}^{2}}{4} + \\frac{q_{1}}{\\sqrt{q_{1}^{2} + q_{2}^{2}}}\\right)^{2}$"
      ],
      "text/plain": [
       "Eq(G, nu**2*(q1**2 + q2**2) + nu**2*(p1*q1 + p2*q2)**2/q1**2 + (nu**2/q1 - p1*p2*q2 + p2**2*q1 - q1*q2**2/4 + q1/sqrt(q1**2 + q2**2))**2)"
      ]
     },
     "execution_count": 130,
     "metadata": {},
     "output_type": "execute_result"
    }
   ],
   "source": [
    "sp.Eq(sp.symbols('G'), G) # to display that this is the same"
   ]
  },
  {
   "cell_type": "code",
   "execution_count": 131,
   "metadata": {},
   "outputs": [
    {
     "data": {
      "text/latex": [
       "$\\displaystyle p_{1} \\left(\\frac{2 \\nu^{2} p_{1} \\left(p_{1} q_{1} + p_{2} q_{2}\\right)}{q_{1}^{2}} + 2 \\nu^{2} q_{1} - \\frac{2 \\nu^{2} \\left(p_{1} q_{1} + p_{2} q_{2}\\right)^{2}}{q_{1}^{3}} + \\left(- \\frac{2 \\nu^{2}}{q_{1}^{2}} + 2 p_{2}^{2} - \\frac{2 q_{1}^{2}}{\\left(q_{1}^{2} + q_{2}^{2}\\right)^{\\frac{3}{2}}} - \\frac{q_{2}^{2}}{2} + \\frac{2}{\\sqrt{q_{1}^{2} + q_{2}^{2}}}\\right) \\left(\\frac{\\nu^{2}}{q_{1}} - p_{1} p_{2} q_{2} + p_{2}^{2} q_{1} - \\frac{q_{1} q_{2}^{2}}{4} + \\frac{q_{1}}{\\sqrt{q_{1}^{2} + q_{2}^{2}}}\\right)\\right) + p_{2} \\left(\\frac{2 \\nu^{2} p_{2} \\left(p_{1} q_{1} + p_{2} q_{2}\\right)}{q_{1}^{2}} + 2 \\nu^{2} q_{2} + \\left(- 2 p_{1} p_{2} - q_{1} q_{2} - \\frac{2 q_{1} q_{2}}{\\left(q_{1}^{2} + q_{2}^{2}\\right)^{\\frac{3}{2}}}\\right) \\left(\\frac{\\nu^{2}}{q_{1}} - p_{1} p_{2} q_{2} + p_{2}^{2} q_{1} - \\frac{q_{1} q_{2}^{2}}{4} + \\frac{q_{1}}{\\sqrt{q_{1}^{2} + q_{2}^{2}}}\\right)\\right) - \\left(\\lambda^{2} q_{2} - \\frac{q_{2}}{\\left(q_{1}^{2} + q_{2}^{2}\\right)^{\\frac{3}{2}}}\\right) \\left(\\frac{2 \\nu^{2} q_{2} \\left(p_{1} q_{1} + p_{2} q_{2}\\right)}{q_{1}^{2}} + \\left(- 2 p_{1} q_{2} + 4 p_{2} q_{1}\\right) \\left(\\frac{\\nu^{2}}{q_{1}} - p_{1} p_{2} q_{2} + p_{2}^{2} q_{1} - \\frac{q_{1} q_{2}^{2}}{4} + \\frac{q_{1}}{\\sqrt{q_{1}^{2} + q_{2}^{2}}}\\right)\\right) - \\left(\\frac{2 \\nu^{2} \\left(p_{1} q_{1} + p_{2} q_{2}\\right)}{q_{1}} - 2 p_{2} q_{2} \\left(\\frac{\\nu^{2}}{q_{1}} - p_{1} p_{2} q_{2} + p_{2}^{2} q_{1} - \\frac{q_{1} q_{2}^{2}}{4} + \\frac{q_{1}}{\\sqrt{q_{1}^{2} + q_{2}^{2}}}\\right)\\right) \\left(- \\frac{\\nu^{2}}{q_{1}^{3}} + q_{1} - \\frac{q_{1}}{\\left(q_{1}^{2} + q_{2}^{2}\\right)^{\\frac{3}{2}}}\\right)$"
      ],
      "text/plain": [
       "p1*(2*nu**2*p1*(p1*q1 + p2*q2)/q1**2 + 2*nu**2*q1 - 2*nu**2*(p1*q1 + p2*q2)**2/q1**3 + (-2*nu**2/q1**2 + 2*p2**2 - 2*q1**2/(q1**2 + q2**2)**(3/2) - q2**2/2 + 2/sqrt(q1**2 + q2**2))*(nu**2/q1 - p1*p2*q2 + p2**2*q1 - q1*q2**2/4 + q1/sqrt(q1**2 + q2**2))) + p2*(2*nu**2*p2*(p1*q1 + p2*q2)/q1**2 + 2*nu**2*q2 + (-2*p1*p2 - q1*q2 - 2*q1*q2/(q1**2 + q2**2)**(3/2))*(nu**2/q1 - p1*p2*q2 + p2**2*q1 - q1*q2**2/4 + q1/sqrt(q1**2 + q2**2))) - (lambda**2*q2 - q2/(q1**2 + q2**2)**(3/2))*(2*nu**2*q2*(p1*q1 + p2*q2)/q1**2 + (-2*p1*q2 + 4*p2*q1)*(nu**2/q1 - p1*p2*q2 + p2**2*q1 - q1*q2**2/4 + q1/sqrt(q1**2 + q2**2))) - (2*nu**2*(p1*q1 + p2*q2)/q1 - 2*p2*q2*(nu**2/q1 - p1*p2*q2 + p2**2*q1 - q1*q2**2/4 + q1/sqrt(q1**2 + q2**2)))*(-nu**2/q1**3 + q1 - q1/(q1**2 + q2**2)**(3/2))"
      ]
     },
     "execution_count": 131,
     "metadata": {},
     "output_type": "execute_result"
    }
   ],
   "source": [
    "pb = PoissonBracket(H, G, p1, p2, q1, q2)\n",
    "pb"
   ]
  },
  {
   "cell_type": "markdown",
   "metadata": {},
   "source": [
    "**Note to grader: this sadly cut off, so I attached the full equation in the email with this file as image1.png**\n",
    " \n",
    "As hairy as this is, we are thankfully in a position to know what we're looking for. \n",
    "\n",
    "Remember that our ultimate goal is to show that this $G$ is a constant of the motion for $\\lambda = \\pm 1/2$. That would be equivalent to showing that we can write this Poisson bracket in the form $ \\{H, G\\} = (\\lambda^2- 1/4)(\\text{junk})$. For then, the Poisson bracket will also go to zero at $\\lambda = \\pm 1/2$.\n",
    "\n",
    "Thus, we aim to factor the Poisson Bracket expression of the form:"
   ]
  },
  {
   "cell_type": "code",
   "execution_count": 132,
   "metadata": {},
   "outputs": [
    {
     "data": {
      "text/latex": [
       "$\\displaystyle \\lambda^{2} - \\frac{1}{4}$"
      ],
      "text/plain": [
       "lambda**2 - 1/4"
      ]
     },
     "execution_count": 132,
     "metadata": {},
     "output_type": "execute_result"
    }
   ],
   "source": [
    "lam**2 -sp.Rational(1,4)"
   ]
  },
  {
   "cell_type": "markdown",
   "metadata": {},
   "source": [
    "so I will now use sympy to factor it:"
   ]
  },
  {
   "cell_type": "code",
   "execution_count": 133,
   "metadata": {},
   "outputs": [
    {
     "data": {
      "text/latex": [
       "$\\displaystyle - \\frac{q_{2} \\left(2 \\lambda - 1\\right) \\left(2 \\lambda + 1\\right) \\left(8 \\nu^{2} p_{2} q_{1}^{2} \\sqrt{q_{1}^{2} + q_{2}^{2}} + 4 \\nu^{2} p_{2} q_{2}^{2} \\sqrt{q_{1}^{2} + q_{2}^{2}} + 4 p_{1}^{2} p_{2} q_{1}^{2} q_{2}^{2} \\sqrt{q_{1}^{2} + q_{2}^{2}} - 12 p_{1} p_{2}^{2} q_{1}^{3} q_{2} \\sqrt{q_{1}^{2} + q_{2}^{2}} + p_{1} q_{1}^{3} q_{2}^{3} \\sqrt{q_{1}^{2} + q_{2}^{2}} - 4 p_{1} q_{1}^{3} q_{2} + 8 p_{2}^{3} q_{1}^{4} \\sqrt{q_{1}^{2} + q_{2}^{2}} - 2 p_{2} q_{1}^{4} q_{2}^{2} \\sqrt{q_{1}^{2} + q_{2}^{2}} + 8 p_{2} q_{1}^{4}\\right)}{8 q_{1}^{2} \\sqrt{q_{1}^{2} + q_{2}^{2}}}$"
      ],
      "text/plain": [
       "-q2*(2*lambda - 1)*(2*lambda + 1)*(8*nu**2*p2*q1**2*sqrt(q1**2 + q2**2) + 4*nu**2*p2*q2**2*sqrt(q1**2 + q2**2) + 4*p1**2*p2*q1**2*q2**2*sqrt(q1**2 + q2**2) - 12*p1*p2**2*q1**3*q2*sqrt(q1**2 + q2**2) + p1*q1**3*q2**3*sqrt(q1**2 + q2**2) - 4*p1*q1**3*q2 + 8*p2**3*q1**4*sqrt(q1**2 + q2**2) - 2*p2*q1**4*q2**2*sqrt(q1**2 + q2**2) + 8*p2*q1**4)/(8*q1**2*sqrt(q1**2 + q2**2))"
      ]
     },
     "execution_count": 133,
     "metadata": {},
     "output_type": "execute_result"
    }
   ],
   "source": [
    "factored = sp.collect(sp.simplify(pb), lam**2 - sp.Rational(1, 4))\n",
    "sp.factor(factored)"
   ]
  },
  {
   "cell_type": "markdown",
   "metadata": {},
   "source": [
    "**Second note to grader: this also cut off, and is image2.png in the email with this attachment**"
   ]
  },
  {
   "cell_type": "markdown",
   "metadata": {},
   "source": [
    "As nasty as this is, this does tell us all we need to know. Notice that the only terms that depend on $\\lambda$ are at the front, so we have $\\{H, G\\}$ in the form of $(2\\lambda - 1)(2\\lambda +1) \\text{(junk)}$.\n",
    "\n",
    "Thus, $\\{H, G\\} = 0$ when $\\lambda = \\frac{1}{2}$ or $\\lambda = -\\frac{1}{2}$, demonstrating that $G$ is indeed a constant of the motion."
   ]
  },
  {
   "cell_type": "markdown",
   "metadata": {},
   "source": [
    "## 5:\n",
    "\n",
    "Find the integrating canonical transformation $F_2(x, I)$ for the one-dimensional harmonic oscillator\n",
    "\n",
    "$$\n",
    "\\mathcal{H}(p, x) = \\frac{p^2}{2m} + \\frac{1}{2}m \\omega^2 x^2.\n",
    "$$\n",
    "\n",
    "(a) Compute the angle variable $\\Theta$.\n",
    "\n",
    "The generating function $F_2(x, I)$ relates the old coordinates $(p, x)$ with the new coordinates $(I, \\Theta)$. So\n",
    "\n",
    "$$\n",
    "P = \\frac{F_2}{\\partial x}\n",
    "$$\n",
    "\n",
    "$$\n",
    "\\Theta = \\frac{F_2}{\\partial I}.\n",
    "$$\n",
    "\n",
    "The new Hamiltonian should depend only on $I$.\n",
    "\n",
    "Well, we roll up our sleeves and do what we've done before. \n",
    "\n",
    "Time to calculate the turning points and therefore the action integral. "
   ]
  },
  {
   "cell_type": "code",
   "execution_count": 134,
   "metadata": {},
   "outputs": [
    {
     "data": {
      "text/latex": [
       "$\\displaystyle E = \\frac{m \\omega^{2} x^{2}}{2} + \\frac{p^{2}}{2 m}$"
      ],
      "text/plain": [
       "Eq(E, m*omega**2*x**2/2 + p**2/(2*m))"
      ]
     },
     "execution_count": 134,
     "metadata": {},
     "output_type": "execute_result"
    }
   ],
   "source": [
    "p, m, omega, x, E = sp.symbols('p m omega x E')\n",
    "\n",
    "# our Hamiltonian:\n",
    "eq = sp.Eq(E, p**2 / (2*m) +  (m/2) * omega**2 * x**2)\n",
    "eq"
   ]
  },
  {
   "cell_type": "code",
   "execution_count": 135,
   "metadata": {},
   "outputs": [
    {
     "data": {
      "text/latex": [
       "$\\displaystyle - \\sqrt{m \\left(2 E - m \\omega^{2} x^{2}\\right)}$"
      ],
      "text/plain": [
       "-sqrt(m*(2*E - m*omega**2*x**2))"
      ]
     },
     "metadata": {},
     "output_type": "display_data"
    },
    {
     "data": {
      "text/latex": [
       "$\\displaystyle \\sqrt{m \\left(2 E - m \\omega^{2} x^{2}\\right)}$"
      ],
      "text/plain": [
       "sqrt(m*(2*E - m*omega**2*x**2))"
      ]
     },
     "metadata": {},
     "output_type": "display_data"
    }
   ],
   "source": [
    "# we solve for p:\n",
    "p_solutions = sp.solve(eq, p)\n",
    "\n",
    "for solution in p_solutions:\n",
    "    display(solution)\n"
   ]
  },
  {
   "cell_type": "markdown",
   "metadata": {},
   "source": [
    "We of course take the positive solution.\n",
    "\n",
    "We then evaluate the turning points, which occur when $p =0$"
   ]
  },
  {
   "cell_type": "code",
   "execution_count": 136,
   "metadata": {},
   "outputs": [],
   "source": [
    "eq_p0 = eq.subs(p, 0)\n",
    "\n",
    "# Solve for x\n",
    "x_neg, x_pos = sp.solve(eq_p0, x)"
   ]
  },
  {
   "cell_type": "code",
   "execution_count": 137,
   "metadata": {},
   "outputs": [
    {
     "data": {
      "text/latex": [
       "$\\displaystyle - \\frac{\\sqrt{2} \\sqrt{\\frac{E}{m}}}{\\omega}$"
      ],
      "text/plain": [
       "-sqrt(2)*sqrt(E/m)/omega"
      ]
     },
     "execution_count": 137,
     "metadata": {},
     "output_type": "execute_result"
    }
   ],
   "source": [
    "x_neg"
   ]
  },
  {
   "cell_type": "code",
   "execution_count": 138,
   "metadata": {},
   "outputs": [
    {
     "data": {
      "text/latex": [
       "$\\displaystyle \\frac{\\sqrt{2} \\sqrt{\\frac{E}{m}}}{\\omega}$"
      ],
      "text/plain": [
       "sqrt(2)*sqrt(E/m)/omega"
      ]
     },
     "execution_count": 138,
     "metadata": {},
     "output_type": "execute_result"
    }
   ],
   "source": [
    "x_pos"
   ]
  },
  {
   "cell_type": "markdown",
   "metadata": {},
   "source": [
    "There are our limits for the integral, which we can now take:"
   ]
  },
  {
   "cell_type": "markdown",
   "metadata": {},
   "source": [
    "$$\n",
    "\\begin{aligned}\n",
    "\\oint p \\, dx = 2 \\displaystyle\\int\\limits_{-\\sqrt{\\frac{2E}{m\\omega^2}}}^{\\sqrt{\\frac{2E}{m\\omega^2}}} \\sqrt{m \\left(2E - m \\omega^{2} x^{2}\\right)} \\, dx\n",
    "\\end{aligned}\n",
    "$$"
   ]
  },
  {
   "cell_type": "markdown",
   "metadata": {},
   "source": [
    "Idea: make the substitution \n",
    "\n",
    "$$\n",
    "x = \\sqrt{\\frac{2E}{m \\omega^2}} \\sin \\phi \\implies dx = \\sqrt{\\frac{2E}{m \\omega^2}} \\cos \\phi d\\phi\n",
    "$$\n",
    "\n",
    "Our integral then becomes:\n",
    "\n",
    "$$\n",
    "\\begin{aligned}\n",
    "\\oint p \\, dx &= 2 \\displaystyle\\int\\limits_{-\\pi/2}^{\\pi/2} \\sqrt{m \\left(2E - m \\omega^{2} \\left(\\frac{2E}{m \\omega^2}\\right) \\sin^2 \\phi\\right)} \\, \\sqrt{\\frac{2E}{m \\omega^2}} \\cos \\phi d\\phi \\\\\n",
    "&= 2 \\displaystyle\\int\\limits_{-\\pi/2}^{\\pi/2} \\sqrt{2mE \\left(1 -  \\sin^2 \\phi\\right)} \\, \\sqrt{\\frac{2E}{m \\omega^2}} \\cos \\phi d\\phi \\\\\n",
    "&= \\frac{4E}{\\omega} \\displaystyle\\int\\limits_{-\\pi/2}^{\\pi/2} \\sqrt{ \\left(\\cos^2 \\phi\\right)} \\, \\cos \\phi d\\phi \\\\\n",
    "&= \\frac{4E}{\\omega} \\displaystyle\\int\\limits_{-\\pi/2}^{\\pi/2} \\cos^2 \\phi d\\phi \\\\\n",
    "&= \\frac{4E}{\\omega} \\frac{\\pi}{2} \\\\\n",
    "&= \\boxed{\\frac{2\\pi E}{\\omega}}\n",
    "\\end{aligned}\n",
    "$$\n",
    "\n",
    "Thus, \n",
    "\n",
    "$$\n",
    "E = \\mathcal H(I) = \\frac{I \\omega}{2 \\pi}\n",
    "$$\n",
    "\n",
    "and\n",
    "\n",
    "$$\n",
    "\\dot \\Theta = \\frac{\\partial \\mathcal H}{\\partial I} = \\frac{\\omega}{2\\pi}.\n",
    "$$"
   ]
  },
  {
   "cell_type": "markdown",
   "metadata": {},
   "source": [
    "Now from 10.82 we have:\n",
    "\n",
    "$$\n",
    "F_2(x, I) = S[x, x_0, E(I)]\n",
    "$$"
   ]
  },
  {
   "cell_type": "markdown",
   "metadata": {},
   "source": [
    "So in order to evaluate the generating function, we need to cast the action integral into a form that depends only on $x$ and $I$. Let's manipulate our integrand:\n",
    "\n",
    "$$\n",
    "\\begin{aligned}\n",
    "p &= \\sqrt{m \\left(2E - m \\omega^{2} x^{2}\\right)} \\\\\n",
    " &= \\sqrt{m \\left(\\frac{I \\omega}{ \\pi} - m \\omega^{2} x^{2}\\right)}. \\\\\n",
    "\\end{aligned}\n",
    "$$\n",
    "\n",
    "Similarly the bounds need to be cast in such a form:\n",
    "\n",
    "$$\n",
    "\\begin{aligned}\n",
    "x_0 &= \\pm \\sqrt\\frac{2E}{m\\omega^2} \\\\\n",
    "&= \\pm \\sqrt\\frac{2I \\omega}{2 \\pi m\\omega^2} \\\\\n",
    "&= \\pm \\sqrt\\frac{I }{ \\pi m\\omega} \\\\\n",
    "\\end{aligned}\n",
    "$$"
   ]
  },
  {
   "cell_type": "markdown",
   "metadata": {},
   "source": [
    "Now lastly, we introduce\n",
    "\n",
    "$$\n",
    "\\phi = \\sin^{-1} \\left(x \\sqrt \\frac{\\pi m \\omega}{I}\\right)\n",
    "$$\n",
    "\n",
    "such that\n",
    "\n",
    "$$\n",
    "x = \\sin \\phi  \\sqrt \\frac{I}{\\pi m \\omega}\n",
    "$$\n",
    "\n",
    "and\n",
    "\n",
    "$$\n",
    "dx = \\cos \\phi  \\sqrt \\frac{I}{\\pi m \\omega} d\\phi.\n",
    "$$\n",
    "\n",
    "Let's proceed to evaluate $F_2$ by attacking our momentum integral:\n",
    "\n",
    "$$\n",
    "\\begin{aligned}\n",
    "F_2(x, I) &= \\int_{x_0}^x p(x) dx \\\\\n",
    "&= \\int_{x_0}^x \\sqrt{m \\left(2E - m \\omega^{2} x^{2}\\right)} dx \\\\\n",
    "&= \\int_{x_0}^x \\sqrt{m \\left(\\frac{I \\omega}{ \\pi} - m \\omega^{2} x^{2}\\right)} dx\n",
    "\\end{aligned}\n",
    "$$"
   ]
  },
  {
   "cell_type": "markdown",
   "metadata": {},
   "source": [
    "When recasting the dummy variable to $\\phi$, the lower bound is $-\\pi/2$ and the upper bound is then $\\phi = \\sin^{-1} \\left(x \\sqrt \\frac{\\pi m \\omega}{I}\\right)$.\n",
    "\n",
    "Thus, we return to\n",
    "\n",
    "$$\n",
    "\\begin{aligned}\n",
    "F_2(x, I) &= \\int\\limits_{-\\pi/2}^{\\sin^{-1} \\left(x \\sqrt{ \\frac{\\pi m \\omega}{I} }\\right)} \\sqrt{m \\left( \\frac{I \\omega}{\\pi} - m \\omega^{2} x^{2} \\right)} \\cos \\phi \\, \\sqrt{ \\frac{I}{\\pi m \\omega} } \\, d\\phi \\\\\n",
    "&= \\int\\limits_{-\\pi/2}^{\\sin^{-1} \\left(x \\sqrt{ \\frac{\\pi m \\omega}{I} }\\right)} \\sqrt{\\frac{1}{\\pi}m \\left( {I \\omega}{} - m \\omega^{2} x^{2} \\right)} \\cos \\phi \\, \\sqrt{ \\frac{I}{\\pi m \\omega} } \\, d\\phi\n",
    "\\end{aligned}\n",
    "$$"
   ]
  },
  {
   "cell_type": "markdown",
   "metadata": {},
   "source": [
    "Cancelling some stuff:\n",
    "\n",
    "$$\n",
    "F_2(x, I) = \\frac{I}{\\pi}\\int\\limits_{-\\pi/2}^{\\sin^{-1} \\left(x \\sqrt{ \\frac{\\pi m \\omega}{I} }\\right)} \\cos^2 \\phi d \\phi.\n",
    "$$\n",
    "\n",
    "Just gonna let the symbolic manipulator take it from here:"
   ]
  },
  {
   "cell_type": "code",
   "execution_count": 139,
   "metadata": {},
   "outputs": [
    {
     "data": {
      "text/latex": [
       "$\\displaystyle F_{2}{\\left(x,I \\right)} = \\frac{I \\left(2 \\sqrt{\\pi} x \\sqrt{\\frac{I - \\pi m \\omega x^{2}}{I}} \\sqrt{\\frac{m \\omega}{I}} + 2 \\operatorname{asin}{\\left(\\sqrt{\\pi} x \\sqrt{\\frac{m \\omega}{I}} \\right)} + \\pi\\right)}{4 \\pi}$"
      ],
      "text/plain": [
       "Eq(F_2(x, I), I*(2*sqrt(pi)*x*sqrt((I - pi*m*omega*x**2)/I)*sqrt(m*omega/I) + 2*asin(sqrt(pi)*x*sqrt(m*omega/I)) + pi)/(4*pi))"
      ]
     },
     "execution_count": 139,
     "metadata": {},
     "output_type": "execute_result"
    }
   ],
   "source": [
    "\n",
    "phi, x, I, m, omega = sp.symbols('phi x I m omega', real=True)\n",
    "arg = x * sp.sqrt(sp.pi * m * omega / I)\n",
    "\n",
    "integrand = sp.cos(phi)**2\n",
    "integral = sp.integrate(integrand, (phi, -sp.pi/2, sp.asin(arg)))\n",
    "result = (I / sp.pi) * integral\n",
    "simplified = sp.simplify(result)\n",
    "\n",
    "F2 = sp.Function('F_2')(x, I)\n",
    "sp.Eq(F2, simplified)\n",
    "\n"
   ]
  },
  {
   "cell_type": "markdown",
   "metadata": {},
   "source": [
    "This is the generating function we seek. Now we simply differentiate with respect to $I$, as we alluded to above, and receive our angular variable $\\Theta$:"
   ]
  },
  {
   "cell_type": "code",
   "execution_count": 140,
   "metadata": {},
   "outputs": [
    {
     "data": {
      "text/latex": [
       "$\\displaystyle \\Theta = \\frac{2 \\operatorname{asin}{\\left(\\sqrt{\\pi} x \\sqrt{\\frac{m \\omega}{I}} \\right)} + \\pi}{4 \\pi}$"
      ],
      "text/plain": [
       "Eq(Theta, (2*asin(sqrt(pi)*x*sqrt(m*omega/I)) + pi)/(4*pi))"
      ]
     },
     "execution_count": 140,
     "metadata": {},
     "output_type": "execute_result"
    }
   ],
   "source": [
    "Theta = sp.simplify(sp.diff(simplified, I))\n",
    "sp.Eq(sp.symbols('Theta'), Theta)"
   ]
  },
  {
   "cell_type": "markdown",
   "metadata": {},
   "source": [
    "\n",
    "\n",
    "(b) Verify that the action is the same in the old and new coordinate systems, i.e.,:\n",
    "\n",
    "$$\n",
    "S(E) = \\oint p dx = \\oint I d\\Theta.\n",
    "$$"
   ]
  },
  {
   "cell_type": "markdown",
   "metadata": {},
   "source": [
    "Let's start by computing\n",
    "\n",
    "$$\n",
    "S = \\oint I d \\Theta \n",
    "$$\n",
    "\n",
    "Using our newly found formula for $\\Theta$, the bounds of this integral are given by:\n",
    "\n",
    "$$\n",
    "\\begin{aligned}\n",
    "\\Theta_- &= \\frac{1}{4} + \\frac{1}{2\\pi } \\sin^{-1} (-1) \\\\\n",
    "&= \\frac{1}{4} - \\left(\\frac{1}{2\\pi}\\right) \\frac{\\pi}{2} \\\\\n",
    "&= 0\n",
    "\\end{aligned}\n",
    "$$\n",
    "\n",
    "and\n",
    "\n",
    "\n",
    "$$\n",
    "\\begin{aligned}\n",
    "\\Theta_+ &= \\frac{1}{4} + \\frac{1}{2\\pi } \\sin^{-1} (+1) \\\\\n",
    "&= \\frac{1}{4} + \\left(\\frac{1}{2\\pi}\\right) \\frac{\\pi}{2} \\\\\n",
    "&= \\frac{1}{2}\n",
    "\\end{aligned}\n",
    "$$"
   ]
  },
  {
   "cell_type": "markdown",
   "metadata": {},
   "source": [
    "Our integral is then reduced to:\n",
    "\n",
    "$$\n",
    "\\begin{aligned}\n",
    "S &= \\oint I d\\Theta \\\\\n",
    "&= 2 \\oint_0^{1/2} I d\\Theta \\\\\n",
    "&= 2I \\left(\\frac{1}{2}\\right) \\\\\n",
    "&= I = \\oint p dx.\n",
    "\\end{aligned}\n",
    "$$"
   ]
  },
  {
   "cell_type": "markdown",
   "metadata": {},
   "source": [
    "## 6:\n",
    "\n",
    "Although the following system is separable, use EBK quantization to compute the energy spectrum of a quantum particle moving in two dimensions governed by the Hamiltonian\n",
    "\n",
    "$$\n",
    "\\hat H(\\hat p_x, \\hat p_y, \\hat x, \\hat y) = \\frac{\\hat p_x^2}{2m} + \\frac{\\hat p_y^2}{2m} + \\frac{1}{2}m (\\omega_1^2 + \\omega_2^2) (\\hat x^2 + \\hat y^2) + m \\hat x \\hat y (\\omega_2^2 - \\omega_1^2), \n",
    "$$\n",
    "\n",
    "where $m$ is the mass of the particle, $\\omega_1$ and $\\omega_2$ are constants, $\\hat x$ and $\\hat y$ are operators of position, and $\\hat p_x$ and $\\hat p_y$ are the associated operators of momentum. Leave the Maslov indices undetermined but conjecture, and support with an argument, what they might be. Check your EBK results by computing the energy levels of this system using a quantization scheme that works for separable systems. \n"
   ]
  },
  {
   "cell_type": "markdown",
   "metadata": {},
   "source": [
    "Let's choose the following transformation:\n",
    "\n",
    "$$\n",
    "Q_1 = \\frac{x + y}{\\sqrt 2}, \\quad Q_2 = \\frac{x - y}{\\sqrt 2}\n",
    "$$\n",
    "\n",
    "$$\n",
    "P_1 = \\frac{p_x + p_y}{\\sqrt 2}, \\quad P_2 = \\frac{p_x - p_y}{\\sqrt 2}\n",
    "$$\n",
    "\n",
    "We can verify its canonicality (checked, that's a word) through the use of equation 10.59:\n",
    "\n"
   ]
  },
  {
   "cell_type": "markdown",
   "metadata": {},
   "source": [
    "$$\n",
    "\\operatorname{det}\\left[\\frac{\\partial(\\mathbf{P}, \\mathbf{Q})}{\\partial(\\mathbf{p}, \\mathbf{q})}\\right]=\\operatorname{det}\\left[\\begin{array}{llll}\n",
    "\\frac{\\partial Q_1}{\\partial x} & \\frac{\\partial Q_1}{\\partial y} & \\frac{\\partial Q_1}{\\partial p_x} & \\frac{\\partial Q_1}{\\partial p_y} \\\\\n",
    "\\frac{\\partial Q_2}{\\partial x} & \\frac{\\partial Q_2}{\\partial y} & \\frac{\\partial Q_2}{\\partial p_x} & \\frac{\\partial Q_2}{\\partial p_y} \\\\\n",
    "\\frac{\\partial P_1}{\\partial x} & \\frac{\\partial P_1}{\\partial y} & \\frac{\\partial P_1}{\\partial p_x} & \\frac{\\partial P_1}{\\partial p_y} \\\\\n",
    "\\frac{\\partial P_2}{\\partial x} & \\frac{\\partial P_2}{\\partial y} & \\frac{\\partial P_2}{\\partial p_x} & \\frac{\\partial P}{\\partial p_y}\n",
    "\\end{array}\\right]=\\operatorname{det}\\left[\\begin{array}{cccc}\n",
    "\\frac{1}{\\sqrt{2}} & \\frac{1}{\\sqrt{2}} & 0 & 0 \\\\\n",
    "\\frac{1}{\\sqrt{2}} & -\\frac{1}{\\sqrt{2}} & 0 & 0 \\\\\n",
    "0 & 0 & \\frac{1}{\\sqrt{2}} & \\frac{1}{\\sqrt{2}} \\\\\n",
    "0 & 0 & \\frac{1}{\\sqrt{2}} & -\\frac{1}{\\sqrt{2}}\n",
    "\\end{array}\\right]=1 \\text {. }\n",
    "$$"
   ]
  },
  {
   "cell_type": "markdown",
   "metadata": {},
   "source": [
    "Cool. Now we can express the old coordinates in terms of the new:\n",
    "\n",
    "$$\n",
    "p_x^2 + p_y^2 = P_1^2 + P_2^2, \\quad x^2 + y^2 = Q_1^2 + Q_2^2, \\quad xy = \\frac{1}{2}(Q_1^2 - Q_2^2)\n",
    "$$\n"
   ]
  },
  {
   "cell_type": "markdown",
   "metadata": {},
   "source": [
    "This allows us to rewrite our Hamiltonian like so:"
   ]
  },
  {
   "cell_type": "markdown",
   "metadata": {},
   "source": [
    "$$\n",
    "\\begin{aligned}\n",
    "H = \\frac{1}{2m} (P_1^2 + P_2^2) + \\frac{1}{2}m (\\omega_1^2 + \\omega_2^2) ( Q_1^2 + Q_2^2) +   \\frac{1}{2}m(Q_1^2 - Q_2^2) (\\omega_2^2 - \\omega_1^2), \n",
    "\\end{aligned}\n",
    "$$\n",
    "\n",
    "which simplifies to:\n",
    "\n",
    "$$\n",
    "H(P_1, P_2, Q_1, Q_2) = \\frac{P_{1}^{2}}{2 m} + \\frac{P_{2}^{2}}{2 m} + Q_{1}^{2} m \\omega_{2}^{2} + Q_{2}^{2} m \\omega_{1}^{2}.\n",
    "$$\n",
    "\n",
    "Justification below. "
   ]
  },
  {
   "cell_type": "code",
   "execution_count": 141,
   "metadata": {},
   "outputs": [
    {
     "data": {
      "text/latex": [
       "$\\displaystyle \\frac{m \\left(Q_{1}^{2} - Q_{2}^{2}\\right) \\left(- \\omega_{1}^{2} + \\omega_{2}^{2}\\right)}{2} + \\frac{m \\left(Q_{1}^{2} + Q_{2}^{2}\\right) \\left(\\omega_{1}^{2} + \\omega_{2}^{2}\\right)}{2} + \\frac{P_{1}^{2} + P_{2}^{2}}{2 m}$"
      ],
      "text/plain": [
       "m*(Q1**2 - Q2**2)*(-omega1**2 + omega2**2)/2 + m*(Q1**2 + Q2**2)*(omega1**2 + omega2**2)/2 + (P1**2 + P2**2)/(2*m)"
      ]
     },
     "execution_count": 141,
     "metadata": {},
     "output_type": "execute_result"
    }
   ],
   "source": [
    "m, omega1, omega2 = sp.symbols('m omega1 omega2')\n",
    "P1, P2, Q1, Q2 = sp.symbols('P1 P2 Q1 Q2')\n",
    "\n",
    "H = (sp.Rational(1, 2)/m)*(P1**2 + P2**2) \\\n",
    "    + sp.Rational(1, 2)*m*(omega1**2 + omega2**2)*(Q1**2 + Q2**2) \\\n",
    "    + sp.Rational(1, 2)*m*(Q1**2 - Q2**2)*(omega2**2 - omega1**2)\n",
    "H"
   ]
  },
  {
   "cell_type": "code",
   "execution_count": 142,
   "metadata": {},
   "outputs": [
    {
     "data": {
      "text/latex": [
       "$\\displaystyle \\frac{P_{1}^{2}}{2 m} + \\frac{P_{2}^{2}}{2 m} + Q_{1}^{2} m \\omega_{2}^{2} + Q_{2}^{2} m \\omega_{1}^{2}$"
      ],
      "text/plain": [
       "P1**2/(2*m) + P2**2/(2*m) + Q1**2*m*omega2**2 + Q2**2*m*omega1**2"
      ]
     },
     "execution_count": 142,
     "metadata": {},
     "output_type": "execute_result"
    }
   ],
   "source": [
    "sp.simplify(H)"
   ]
  },
  {
   "cell_type": "markdown",
   "metadata": {},
   "source": [
    "If we introduce two frequencies, $\\Omega_1 = \\sqrt {2}\\omega_2$ and $\\Omega_2 = \\sqrt 2 \\omega_1$, then we can rewrite our Hamiltonian in the form one would expect from two independent (decoupled) harmonic oscillators:\n",
    "\n",
    "$$\n",
    "H(P_1, P_2, Q_1, Q_2) = \\frac{P_{1}^{2}}{2 m} + \\frac{1}{2}Q_{1}^{2} m \\Omega_{1}^{2}+ \\frac{P_{2}^{2}}{2 m}  +\\frac{1}{2} Q_{2}^{2} m \\Omega_{2}^{2}.\n",
    "$$\n",
    "\n",
    "Cool. \n",
    "\n",
    "Our next task is to construct an integrating canonical transformation. As shown in 10.6.1:\n",
    "\n",
    "$$\n",
    "I_j = \\oint P_j (Q_j) dQ_j = S(E_j) = \\frac{2\\pi E_j}{\\Omega_j}.\n",
    "$$\n",
    "\n",
    "Then we receive the Hamiltonian by inverting the action:\n",
    "\n",
    "$$\n",
    "E_j(I_j) = S_j^{-1}(I_j) = H_j(I_j) = \\frac{\\Omega_j}{2\\pi} I_j,\n",
    "$$"
   ]
  },
  {
   "cell_type": "markdown",
   "metadata": {},
   "source": [
    "and therefore,\n",
    "\n",
    "$$\n",
    "H(I_1, I_2) = \\frac{\\Omega_1}{2\\pi}I_1 + \\frac{\\Omega_2}{2\\pi} I_2 = E_{n_1, ... n_N}.\n",
    "$$\n"
   ]
  },
  {
   "cell_type": "markdown",
   "metadata": {},
   "source": [
    "We now get to invoke EBK quantization, quantizing the action variables according to\n",
    "\n",
    "$$\n",
    "I_j = 2\\pi(n_j + \\mu_j)\\hbar, \\quad j = 1, ..., N\n",
    "$$\n"
   ]
  },
  {
   "cell_type": "markdown",
   "metadata": {},
   "source": [
    "Thus, \n",
    "\n",
    "$$\n",
    "\\begin{aligned}\n",
    "E_{n_1, ... n_N} &= \\frac{1}{2\\pi} \\left[ \\Omega_1 2 \\pi (n_1 + \\mu_1) + \\Omega_2 2 \\pi (n_2 + \\mu_2)\\right]\\hbar \\\\\n",
    "&= \\sqrt 2 \\left[ \\omega_2 (n_1 + \\mu_1) + \\omega_1 (n_2 + \\mu_2)\\right]\\hbar\n",
    "\\end{aligned}\n",
    "$$\n",
    "\n",
    "for $n = 0, 1, ...$. This is a completely general result.\n",
    "\n",
    "However, as we shall see, the energy of the decoupled oscillations will only make physical sense when the Maslov indices are $1/2$. \n",
    "\n",
    "\n",
    "$$\n",
    "\\boxed{E_{n_1, ... n_N} = \\sqrt 2 \\left[ \\omega_2 (n_1 - 1/2) + \\omega_1 (n_2 - 1/2)\\right]\\hbar}\n",
    "$$\n",
    "\n",
    "for $n_1, n_2 = 1, 2, ...$.\n",
    "\n",
    "(I've shift the indices by 1 to compare with the known harmonic oscillator solution later.)\n"
   ]
  },
  {
   "cell_type": "markdown",
   "metadata": {},
   "source": [
    "To deomstrate this, we'll solve the energy spectrum here the old fashioned way, using separation of variables."
   ]
  },
  {
   "cell_type": "markdown",
   "metadata": {},
   "source": [
    "We start by recalling the form of our Hamiltonian after performing the first canonical transformation\n",
    "\n",
    "$$\n",
    "H\\left(P_1, P_2, Q_1, Q_2\\right)=\\frac{P_1^2}{2 m}+\\frac{1}{2} m \\Omega_1^2 Q_1^2+\\frac{P_2^2}{2 m}+\\frac{1}{2} m \\Omega_2^2 Q_2^2\n",
    "$$\n",
    "\n",
    "with effective frequencies\n",
    "\n",
    "$$\n",
    "\\Omega_1=\\sqrt{2} \\omega_2 \\quad \\text { and } \\quad \\Omega_2=\\sqrt{2} \\omega_1.\n",
    "$$\n",
    "\n",
    "The potential energy is therefore\n",
    "$$\n",
    "V\\left(Q_1, Q_2\\right)=\\frac{1}{2} m \\Omega_1^2 Q_1^2+\\frac{1}{2} m \\Omega_2^2 Q_2^2,\n",
    "$$\n",
    "\n",
    "\n",
    "and the Laplacian in $\\left(Q_1, Q_2\\right)$ coordinates takes the same form as in the original coordinates, since the transformation is canonical:\n",
    "\n",
    "$$\n",
    "\\nabla^2=\\frac{\\partial^2}{\\partial Q_1^2}+\\frac{\\partial^2}{\\partial Q_2^2}.\n",
    "$$\n",
    "\n",
    "\n",
    "Thus, our TISE becomes\n",
    "\n",
    "$$\n",
    "-\\frac{\\hbar^2}{2 m}\\left(\\frac{\\partial^2 \\psi}{\\partial Q_1^2}+\\frac{\\partial^2 \\psi}{\\partial Q_2^2}\\right)+\\frac{1}{2} m\\left[\\Omega_1^2 Q_1^2+\\Omega_2^2 Q_2^2\\right] \\psi=E \\psi.\n",
    "$$\n",
    "\n",
    "\n",
    "We can start from a separable ansatz:\n",
    "\n",
    "$$\n",
    "\\psi\\left(Q_1, Q_2\\right)=\\psi_1\\left(Q_1\\right) \\psi_2\\left(Q_2\\right)\n",
    "$$\n",
    "\n",
    "\n",
    "which we plug in to receive\n",
    "\n",
    "$$\n",
    "-\\frac{\\hbar^2}{2 m} \\frac{d^2 \\psi_1}{d Q_1^2}+\\frac{1}{2} m \\Omega_1^2 Q_1^2 \\psi_1=E_1 \\psi_1\n",
    "$$\n",
    "\n",
    "and\n",
    "\n",
    "$$\n",
    "-\\frac{\\hbar^2}{2 m} \\frac{d^2 \\psi_2}{d Q_2^2}+\\frac{1}{2} m \\Omega_2^2 Q_2^2 \\psi_2=E_2 \\psi_2\n",
    "$$\n",
    "\n",
    "with the total energy $E$ given by\n",
    "\n",
    "$$\n",
    "E=E_1+E_2\n",
    "$$\n"
   ]
  },
  {
   "cell_type": "markdown",
   "metadata": {},
   "source": [
    "As we know from the table at the end of Ch 6, the energy spectrum for a 1d oscillator is:\n",
    "\n",
    "$$\n",
    "E_n = \\hbar \\Omega\\left(n - \\frac{1}{2}\\right), \\quad n = 1, 2, ...\n",
    "$$"
   ]
  },
  {
   "cell_type": "markdown",
   "metadata": {},
   "source": [
    "So let's plug $\\Omega$ into this:\n",
    "\n",
    "$$\n",
    "\\boxed{E_{n_1, n_2} = \\hbar \\sqrt 2 \\left(\\omega_2 \\left(n_1 - \\frac{1}{2}\\right)\\right) + \\hbar \\sqrt 2 \\left(\\omega_1 \\left(n_2 - \\frac{1}{2}\\right)\\right)}\n",
    "$$\n",
    "\n",
    "for $n_1, n_2 = 1, 2, ...$\n",
    "\n",
    "As we can see, the two boxed equations in this problem are identical, which can only be true when the masolv indices are both $-1/2$. \n",
    "\n",
    "(Or $+1/2$ if starting from $n_j = 0$.)"
   ]
  }
 ],
 "metadata": {
  "authors": [
   {
    "name": "Max Hanrahan"
   }
  ],
  "kernelspec": {
   "display_name": "Python 3 (ipykernel)",
   "language": "python",
   "name": "python3"
  },
  "language_info": {
   "codemirror_mode": {
    "name": "ipython",
    "version": 3
   },
   "file_extension": ".py",
   "mimetype": "text/x-python",
   "name": "python",
   "nbconvert_exporter": "python",
   "pygments_lexer": "ipython3",
   "version": "3.12.2"
  }
 },
 "nbformat": 4,
 "nbformat_minor": 4
}
