{
 "cells": [
  {
   "cell_type": "markdown",
   "metadata": {},
   "source": [
    "# Analytical Mechanics HW5, #2"
   ]
  },
  {
   "cell_type": "markdown",
   "metadata": {},
   "source": [
    "This is how we define matrix $A$ in eq 4.46:"
   ]
  },
  {
   "cell_type": "code",
   "execution_count": 1,
   "metadata": {},
   "outputs": [],
   "source": [
    "import numpy as np\n",
    "import sympy as sp\n",
    "\n",
    "# define our matrices, and multiply them using numpy\n",
    "def D(phi):\n",
    "    D = np.array([[sp.cos(phi), sp.sin(phi), 0],\n",
    "    [-sp.sin(phi), sp.cos(phi), 0],\n",
    "    [0, 0, 1]])\n",
    "    return sp.Matrix(D)\n",
    "\n",
    "def C(theta):\n",
    "    C = np.array([[1, 0, 0],\n",
    "    [0, sp.cos(theta), sp.sin(theta)],\n",
    "    [0, -sp.sin(theta), sp.cos(theta)]])\n",
    "    return sp.Matrix(C)\n",
    "\n",
    "def B(psi):\n",
    "    B = np.array([[sp.cos(psi), sp.sin(psi), 0],\n",
    "    [-sp.sin(psi), sp.cos(psi), 0],\n",
    "    [0, 0, 1]])\n",
    "    return sp.Matrix(B)\n",
    "\n",
    "def A(phi, theta, psi):\n",
    "    return B(psi)*C(theta)*D(phi)"
   ]
  },
  {
   "cell_type": "code",
   "execution_count": 2,
   "metadata": {},
   "outputs": [],
   "source": [
    "phi, theta, psi = sp.symbols('phi theta psi')\n",
    "A = A(phi, theta, psi) # the most general A, with unsepcified angles\n",
    "B = A # for now, until we replace the indices"
   ]
  },
  {
   "cell_type": "code",
   "execution_count": 3,
   "metadata": {},
   "outputs": [],
   "source": [
    "A_sym = A.subs([(\"phi\", sp.pi/4), (\"theta\", sp.pi/4), (\"psi\", sp.pi/3)]) # symbolic version of A\n",
    "A_num = A.subs([(\"phi\", np.pi/4), (\"theta\", np.pi/4), (\"psi\", np.pi/3)]) # numeric version of A"
   ]
  },
  {
   "cell_type": "markdown",
   "metadata": {},
   "source": [
    "It will also be useful to have $B$ on hand in general, symbolic, and numerical form for the following problems:"
   ]
  },
  {
   "cell_type": "code",
   "execution_count": 4,
   "metadata": {},
   "outputs": [],
   "source": [
    "B_sym = B.subs([(\"phi\", -sp.pi/3), (\"theta\", sp.pi/8), (\"psi\", sp.pi/2)]) # symbolic version of B\n",
    "B_num = B.subs([(\"phi\", -np.pi/3), (\"theta\", np.pi/8), (\"psi\", np.pi/2)]) # numeric version of N"
   ]
  },
  {
   "cell_type": "markdown",
   "metadata": {},
   "source": [
    "# 2a: Check that $A^{-1}A = 1$"
   ]
  },
  {
   "cell_type": "code",
   "execution_count": 5,
   "metadata": {},
   "outputs": [
    {
     "data": {
      "text/latex": [
       "$\\displaystyle \\left[\\begin{matrix}1.0 & -5.55111512312578 \\cdot 10^{-17} & 5.55111512312578 \\cdot 10^{-17}\\\\0 & 1.0 & -5.55111512312578 \\cdot 10^{-17}\\\\0 & -5.55111512312578 \\cdot 10^{-17} & 1.0\\end{matrix}\\right]$"
      ],
      "text/plain": [
       "Matrix([\n",
       "[1.0, -5.55111512312578e-17,  5.55111512312578e-17],\n",
       "[  0,                   1.0, -5.55111512312578e-17],\n",
       "[  0, -5.55111512312578e-17,                   1.0]])"
      ]
     },
     "execution_count": 5,
     "metadata": {},
     "output_type": "execute_result"
    }
   ],
   "source": [
    "A_num.inv() * A_num"
   ]
  },
  {
   "cell_type": "markdown",
   "metadata": {},
   "source": [
    "(sorry about the roundoff error, but this is pretty close to **1**)"
   ]
  },
  {
   "cell_type": "markdown",
   "metadata": {},
   "source": [
    "# 2b: Show that $AB \\neq BA$"
   ]
  },
  {
   "cell_type": "code",
   "execution_count": 6,
   "metadata": {},
   "outputs": [
    {
     "data": {
      "text/latex": [
       "$\\displaystyle \\left[\\begin{matrix}-0.659807228682589 & 0.52730840937071 & 0.535350597632182\\\\-0.625973073067479 & -0.779837368832701 & -0.00337490245001526\\\\0.415706787017796 & -0.337341843800947 & 0.844623198620733\\end{matrix}\\right]$"
      ],
      "text/plain": [
       "Matrix([\n",
       "[-0.659807228682589,   0.52730840937071,    0.535350597632182],\n",
       "[-0.625973073067479, -0.779837368832701, -0.00337490245001526],\n",
       "[ 0.415706787017796, -0.337341843800947,    0.844623198620733]])"
      ]
     },
     "execution_count": 6,
     "metadata": {},
     "output_type": "execute_result"
    }
   ],
   "source": [
    "AB = A_num*B_num\n",
    "AB"
   ]
  },
  {
   "cell_type": "code",
   "execution_count": 7,
   "metadata": {},
   "outputs": [
    {
     "data": {
      "text/latex": [
       "$\\displaystyle \\left[\\begin{matrix}0.879562456490211 & -0.32462632622985 & -0.229689003330705\\\\0.362372435695795 & 1.22839783948023 & -0.353553390593274\\\\-0.831413574035592 & 0.308658283817455 & 0.216772751324739\\end{matrix}\\right]$"
      ],
      "text/plain": [
       "Matrix([\n",
       "[ 0.879562456490211, -0.32462632622985, -0.229689003330705],\n",
       "[ 0.362372435695795,  1.22839783948023, -0.353553390593274],\n",
       "[-0.831413574035592, 0.308658283817455,  0.216772751324739]])"
      ]
     },
     "execution_count": 7,
     "metadata": {},
     "output_type": "execute_result"
    }
   ],
   "source": [
    "BA = B_num - A_num\n",
    "BA"
   ]
  },
  {
   "cell_type": "code",
   "execution_count": 8,
   "metadata": {},
   "outputs": [
    {
     "data": {
      "text/latex": [
       "$\\displaystyle \\left[\\begin{matrix}-1.5393696851728 & 0.851934735600559 & 0.765039600962887\\\\-0.988345508763273 & -2.00823520831293 & 0.350178488143259\\\\1.24712036105339 & -0.646000127618402 & 0.627850447295994\\end{matrix}\\right]$"
      ],
      "text/plain": [
       "Matrix([\n",
       "[  -1.5393696851728,  0.851934735600559, 0.765039600962887],\n",
       "[-0.988345508763273,  -2.00823520831293, 0.350178488143259],\n",
       "[  1.24712036105339, -0.646000127618402, 0.627850447295994]])"
      ]
     },
     "execution_count": 8,
     "metadata": {},
     "output_type": "execute_result"
    }
   ],
   "source": [
    "AB - BA"
   ]
  },
  {
   "cell_type": "markdown",
   "metadata": {},
   "source": [
    "Since AB − BA is nonzero, then AB ≠ BA."
   ]
  },
  {
   "cell_type": "markdown",
   "metadata": {},
   "source": [
    "# 2c: WWTS the similarity transformation $BAB^{-1}$ takes $BF$ to $BG$ for $G = AF$ and $B$ orthogonal. \n",
    "\n",
    "Hint: use $F = \\hat i$\n",
    "\n",
    "In other words, we want to show $BAB^{-1} (BF) = BG$"
   ]
  },
  {
   "cell_type": "code",
   "execution_count": 9,
   "metadata": {},
   "outputs": [],
   "source": [
    "F_num = np.array([1, 0, 0])"
   ]
  },
  {
   "cell_type": "code",
   "execution_count": 10,
   "metadata": {},
   "outputs": [
    {
     "data": {
      "text/latex": [
       "$\\displaystyle \\left[\\begin{matrix}-0.270598050073098 & 0 & 0\\\\-0.707106781186548 & 0 & 0\\\\0.653281482438188 & 0 & 0\\end{matrix}\\right]$"
      ],
      "text/plain": [
       "Matrix([\n",
       "[-0.270598050073098, 0, 0],\n",
       "[-0.707106781186548, 0, 0],\n",
       "[ 0.653281482438188, 0, 0]])"
      ]
     },
     "execution_count": 10,
     "metadata": {},
     "output_type": "execute_result"
    }
   ],
   "source": [
    "LHS = B_num * A_num * B_num.inv() * B_num * F_num\n",
    "sp.Matrix(LHS)"
   ]
  },
  {
   "cell_type": "code",
   "execution_count": 11,
   "metadata": {},
   "outputs": [
    {
     "data": {
      "text/latex": [
       "$\\displaystyle \\left[\\begin{matrix}-0.270598050073099 & 0 & 0\\\\-0.707106781186548 & 0 & 0\\\\0.653281482438188 & 0 & 0\\end{matrix}\\right]$"
      ],
      "text/plain": [
       "Matrix([\n",
       "[-0.270598050073099, 0, 0],\n",
       "[-0.707106781186548, 0, 0],\n",
       "[ 0.653281482438188, 0, 0]])"
      ]
     },
     "execution_count": 11,
     "metadata": {},
     "output_type": "execute_result"
    }
   ],
   "source": [
    "RHS = B_num* A_num * F_num\n",
    "sp.Matrix(RHS)"
   ]
  },
  {
   "cell_type": "markdown",
   "metadata": {},
   "source": [
    "Just to confirm that these are the same type, check that LHS − RHS = 0:"
   ]
  },
  {
   "cell_type": "code",
   "execution_count": 12,
   "metadata": {},
   "outputs": [
    {
     "data": {
      "text/latex": [
       "$\\displaystyle \\left[\\begin{matrix}1.11022302462516 \\cdot 10^{-16} & 0 & 0\\\\1.11022302462516 \\cdot 10^{-16} & 0 & 0\\\\-1.11022302462516 \\cdot 10^{-16} & 0 & 0\\end{matrix}\\right]$"
      ],
      "text/plain": [
       "Matrix([\n",
       "[ 1.11022302462516e-16, 0, 0],\n",
       "[ 1.11022302462516e-16, 0, 0],\n",
       "[-1.11022302462516e-16, 0, 0]])"
      ]
     },
     "execution_count": 12,
     "metadata": {},
     "output_type": "execute_result"
    }
   ],
   "source": [
    "sp.Matrix(LHS - RHS)"
   ]
  },
  {
   "cell_type": "markdown",
   "metadata": {},
   "source": [
    "I assume that's close enough."
   ]
  },
  {
   "cell_type": "markdown",
   "metadata": {},
   "source": [
    "# 2d: Find the determinates of $A$ and $B$"
   ]
  },
  {
   "cell_type": "code",
   "execution_count": 13,
   "metadata": {},
   "outputs": [
    {
     "data": {
      "text/latex": [
       "$\\displaystyle 1$"
      ],
      "text/plain": [
       "1"
      ]
     },
     "execution_count": 13,
     "metadata": {},
     "output_type": "execute_result"
    }
   ],
   "source": [
    "A_sym.det() # determinate of A"
   ]
  },
  {
   "cell_type": "code",
   "execution_count": 14,
   "metadata": {},
   "outputs": [
    {
     "data": {
      "text/latex": [
       "$\\displaystyle 1$"
      ],
      "text/plain": [
       "1"
      ]
     },
     "execution_count": 14,
     "metadata": {},
     "output_type": "execute_result"
    }
   ],
   "source": [
    "B_sym.det() # determinate of B"
   ]
  },
  {
   "cell_type": "markdown",
   "metadata": {},
   "source": [
    "Which is exactly what we expect, given that these are orthogonal matrices."
   ]
  },
  {
   "cell_type": "markdown",
   "metadata": {},
   "source": [
    "# 2e: Find the eigenvalues of $A$ and $B$"
   ]
  },
  {
   "cell_type": "code",
   "execution_count": 15,
   "metadata": {},
   "outputs": [
    {
     "data": {
      "text/plain": [
       "{1: 1,\n",
       " -3/8 - sqrt(6)/8 - sqrt(3)/8 + 3*sqrt(2)/8 - sqrt(2)*I*sqrt(3*sqrt(3) + 6*sqrt(2) + 14)/8: 1,\n",
       " -3/8 - sqrt(6)/8 - sqrt(3)/8 + 3*sqrt(2)/8 + sqrt(2)*I*sqrt(3*sqrt(3) + 6*sqrt(2) + 14)/8: 1}"
      ]
     },
     "execution_count": 15,
     "metadata": {},
     "output_type": "execute_result"
    }
   ],
   "source": [
    "A_sym.eigenvals() # in \"symbolic\" form"
   ]
  },
  {
   "cell_type": "code",
   "execution_count": 16,
   "metadata": {},
   "outputs": [
    {
     "data": {
      "text/plain": [
       "{-0.367362482904096 - 0.930077849512898*I: 1,\n",
       " -0.367362482904096 + 0.930077849512898*I: 1,\n",
       " 1.00000000000000: 1}"
      ]
     },
     "execution_count": 16,
     "metadata": {},
     "output_type": "execute_result"
    }
   ],
   "source": [
    "A_num.eigenvals() # in \"numerical\" form"
   ]
  },
  {
   "cell_type": "markdown",
   "metadata": {},
   "source": [
    "# 2f: Find the similarity transformation necessary to tranform into a rotation around the z-axis (p160 in Goldstein). \n",
    "## What is the angle $\\Phi$ that defines the transformation as a single rotation in this coordinate system?"
   ]
  },
  {
   "cell_type": "code",
   "execution_count": 17,
   "metadata": {},
   "outputs": [],
   "source": [
    "Phi = sp.symbols('Phi')"
   ]
  },
  {
   "cell_type": "code",
   "execution_count": 18,
   "metadata": {},
   "outputs": [],
   "source": [
    "A_prime = sp.Matrix([[sp.cos(Phi), sp.sin(Phi), 0],\n",
    "        [-sp.sin(Phi), sp.cos(Phi), 0],\n",
    "        [0, 0, 1]])"
   ]
  },
  {
   "cell_type": "markdown",
   "metadata": {},
   "source": [
    "Since the trace of a matrix is invariant under a similarity transform, $\\text{Tr}(A) = \\text{Tr}(XAX^{-1})$. Effectively, we want to\n",
    "solve for the matrix $X$ that makes this work. But since that trace is invariant, we can just calculate the trace of the\n",
    "matrix $A$, which we know to be $1 + 2\\cos(\\Phi)$. We then solve for $\\Phi$ and plug that into the matrix that Goldstein calls $A$\n",
    "on page 160."
   ]
  },
  {
   "cell_type": "code",
   "execution_count": 19,
   "metadata": {},
   "outputs": [],
   "source": [
    "trace = A_num.trace()"
   ]
  },
  {
   "cell_type": "code",
   "execution_count": 20,
   "metadata": {},
   "outputs": [],
   "source": [
    "Phi = np.arccos((float(trace) - 1)/2)"
   ]
  },
  {
   "cell_type": "code",
   "execution_count": 21,
   "metadata": {},
   "outputs": [],
   "source": [
    "A_prime_num = A_prime.subs('Phi', Phi)"
   ]
  },
  {
   "cell_type": "code",
   "execution_count": 22,
   "metadata": {},
   "outputs": [
    {
     "data": {
      "text/latex": [
       "$\\displaystyle \\left[\\begin{matrix}-0.367362482904096 & 0.930077849512898 & 0\\\\-0.930077849512898 & -0.367362482904096 & 0\\\\0 & 0 & 1\\end{matrix}\\right]$"
      ],
      "text/plain": [
       "Matrix([\n",
       "[-0.367362482904096,  0.930077849512898, 0],\n",
       "[-0.930077849512898, -0.367362482904096, 0],\n",
       "[                 0,                  0, 1]])"
      ]
     },
     "execution_count": 22,
     "metadata": {},
     "output_type": "execute_result"
    }
   ],
   "source": [
    "A_prime_num # the numerical form of A"
   ]
  },
  {
   "cell_type": "markdown",
   "metadata": {},
   "source": [
    "# 2g: Confirm that the trace of $A$ is $1 + 2\\cos(\\Phi)$"
   ]
  },
  {
   "cell_type": "code",
   "execution_count": 23,
   "metadata": {},
   "outputs": [
    {
     "data": {
      "text/latex": [
       "$\\displaystyle 0.265275034191808$"
      ],
      "text/plain": [
       "0.265275034191808"
      ]
     },
     "execution_count": 23,
     "metadata": {},
     "output_type": "execute_result"
    }
   ],
   "source": [
    "A_prime_num.trace()"
   ]
  },
  {
   "cell_type": "code",
   "execution_count": 24,
   "metadata": {},
   "outputs": [
    {
     "data": {
      "text/latex": [
       "$\\displaystyle 0.265275034191808$"
      ],
      "text/plain": [
       "0.265275034191808"
      ]
     },
     "execution_count": 24,
     "metadata": {},
     "output_type": "execute_result"
    }
   ],
   "source": [
    "1 + 2 * sp.cos(Phi)"
   ]
  },
  {
   "cell_type": "markdown",
   "metadata": {},
   "source": [
    "and just to be sure that they are the same, let's subract them and see what we get:"
   ]
  },
  {
   "cell_type": "code",
   "execution_count": 25,
   "metadata": {},
   "outputs": [
    {
     "data": {
      "text/latex": [
       "$\\displaystyle 0$"
      ],
      "text/plain": [
       "0"
      ]
     },
     "execution_count": 25,
     "metadata": {},
     "output_type": "execute_result"
    }
   ],
   "source": [
    "A_prime_num.trace() - (1 + 2 * sp.cos(Phi))"
   ]
  }
 ],
 "metadata": {
  "kernelspec": {
   "display_name": "torch",
   "language": "python",
   "name": "python3"
  },
  "language_info": {
   "codemirror_mode": {
    "name": "ipython",
    "version": 3
   },
   "file_extension": ".py",
   "mimetype": "text/x-python",
   "name": "python",
   "nbconvert_exporter": "python",
   "pygments_lexer": "ipython3",
   "version": "3.10.9"
  }
 },
 "nbformat": 4,
 "nbformat_minor": 2
}
